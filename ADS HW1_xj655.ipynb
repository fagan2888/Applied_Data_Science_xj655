{
 "cells": [
  {
   "cell_type": "markdown",
   "metadata": {},
   "source": [
    "# ADS Homework #1\n",
    "Monday 2-5pm Session, Proffessor Tim Savage\n",
    "\n",
    "Please submit this assignment to the NYU Classes 'Assignments' section by 12:00pm on Monday, October 1, strictly labeling the assignments with the format **'ADS_HW1_(your net ID).ipynb'**. Be sure not to confuse Net ID (e.g. 'acs882') with N-number ('N166...'). This homework is here for you to better understand and practice the material; while you may discuss approaches to problems with your classmates (in fact, this is encouraged!), please ensure that all final code submitted is your own. You may reach out to the TA, Alex Shannon, at acs882@nyu.edu at anytime (he hangs out at CUSP a lot, so feel free to say hello). Additionally, Professor Savage will hold office hours on Mondays from 9am-12am; a location for this will be confirmed and communicated shortly."
   ]
  },
  {
   "cell_type": "markdown",
   "metadata": {},
   "source": [
    "### Problem 1 - Probability (30 points)\n",
    "\n",
    "Let's look at some basic probability simulations and how Python can be used as a tool to generate and evaluate probabilistic events."
   ]
  },
  {
   "cell_type": "markdown",
   "metadata": {},
   "source": [
    "**1.1)** Use the *numpy* or *random* library to generate a pair of six-sided dice. Simulate 100,000 roles of the dice, adding the two numbers together. Plot a histogram of the counts for each sum recorded. Caption the figure with any observations you may have (be sure to include a title); if you are unsure, make an educated gauss... er, I mean guess. (10 points)"
   ]
  },
  {
   "cell_type": "code",
   "execution_count": 2,
   "metadata": {},
   "outputs": [],
   "source": [
    "import matplotlib.pyplot as plt\n",
    "import numpy as np\n",
    "from numpy import random #I cannot directly import random but to import numpy first\n",
    "from collections import Counter\n",
    "random.seed(42)\n",
    "%matplotlib inline"
   ]
  },
  {
   "cell_type": "code",
   "execution_count": 3,
   "metadata": {
    "scrolled": true
   },
   "outputs": [
    {
     "data": {
      "text/plain": [
       "array([ 9, 10,  5, ...,  8,  5, 10])"
      ]
     },
     "execution_count": 3,
     "metadata": {},
     "output_type": "execute_result"
    },
    {
     "data": {
      "image/png": "[encoded data removed]",
      "text/plain": [
       "<matplotlib.figure.Figure at 0x7f0c21b6b748>"
      ]
     },
     "metadata": {},
     "output_type": "display_data"
    }
   ],
   "source": [
    "n = 100000\n",
    "die1 = random.randint(1, 7, size=n)\n",
    "die2 = random.randint(1, 7, size=n)\n",
    "diesum = die1 + die2\n",
    "plt.hist(diesum, bins=11)\n",
    "plt.xlim(0,14)\n",
    "diesum"
   ]
  },
  {
   "cell_type": "markdown",
   "metadata": {},
   "source": [
    "Caption:Figure1:this is the histogram to the counts of 2 dice."
   ]
  },
  {
   "cell_type": "markdown",
   "metadata": {},
   "source": [
    "Second method to solve the first question:"
   ]
  },
  {
   "cell_type": "code",
   "execution_count": 3,
   "metadata": {},
   "outputs": [
    {
     "name": "stdout",
     "output_type": "stream",
     "text": [
      "Counter({7: 16569, 8: 14172, 6: 13924, 5: 11041, 9: 11032, 4: 8328, 10: 8299, 11: 5602, 3: 5501, 2: 2798, 12: 2734})\n"
     ]
    },
    {
     "data": {
      "text/plain": [
       "Text(0.5,1,'Two 6-sides dice sum of counts recorded')"
      ]
     },
     "execution_count": 3,
     "metadata": {},
     "output_type": "execute_result"
    },
    {
     "data": {
      "image/png": "[encoded data removed]",
      "text/plain": [
       "<matplotlib.figure.Figure at 0x7f45bb4e0780>"
      ]
     },
     "metadata": {},
     "output_type": "display_data"
    }
   ],
   "source": [
    "random.seed(42)\n",
    "n = 100000\n",
    "die1 = random.randint(1, 7, size=n)\n",
    "die2 = random.randint(1, 7, size=n)\n",
    "diesum = die1 + die2\n",
    "recounted = Counter(diesum)\n",
    "print(recounted)\n",
    "\n",
    "\n",
    "for i in range(2,13):\n",
    "    plt.bar(i,recounted[i], color='Blue')\n",
    "plt.xlabel('Sum', fontsize = 16)\n",
    "plt.ylabel('Counts', fontsize = 16)\n",
    "plt.title(r'Two 6-sides dice sum of counts recorded', fontsize = 20)    \n"
   ]
  },
  {
   "cell_type": "markdown",
   "metadata": {},
   "source": [
    "Figure1(2):second way to plot the counts use bars. "
   ]
  },
  {
   "cell_type": "markdown",
   "metadata": {},
   "source": [
    "**1.2)** Using *x* and *y* provided below, plot the data and answer the following questions. (20 points total)"
   ]
  },
  {
   "cell_type": "code",
   "execution_count": 4,
   "metadata": {},
   "outputs": [],
   "source": [
    "x = range(20)\n",
    "y = [14.0, 12.0, 18.0, -4.0, 14.0, 35.0, 45.0, 30.0, 50.0, 54.0, 58.0, \n",
    "     55.0, 57.0, 62.0, 61.0, 83.0, 85.0, 106.0, 105.0, 104.0]"
   ]
  },
  {
   "cell_type": "markdown",
   "metadata": {},
   "source": [
    "(a) Calculate corr(x,y) and provide a brief description of what this tells us. (5 points)"
   ]
  },
  {
   "cell_type": "code",
   "execution_count": 5,
   "metadata": {},
   "outputs": [
    {
     "data": {
      "text/plain": [
       "array([[ 1.        ,  0.95630101],\n",
       "       [ 0.95630101,  1.        ]])"
      ]
     },
     "execution_count": 5,
     "metadata": {},
     "output_type": "execute_result"
    }
   ],
   "source": [
    "np.corrcoef(x,y)"
   ]
  },
  {
   "cell_type": "markdown",
   "metadata": {},
   "source": [
    "#\n",
    "This mean the correlation coefficient between list x and list y is 0.95630101, which means the two variables have strong positive correlation."
   ]
  },
  {
   "cell_type": "markdown",
   "metadata": {},
   "source": [
    "(b) Generate a scatter plot of the data. Be sure to include a title and caption. (5 points)"
   ]
  },
  {
   "cell_type": "code",
   "execution_count": 6,
   "metadata": {},
   "outputs": [
    {
     "data": {
      "text/plain": [
       "Text(0.5,1,'Scatterplot of x y')"
      ]
     },
     "execution_count": 6,
     "metadata": {},
     "output_type": "execute_result"
    },
    {
     "data": {
      "image/png": "[encoded data removed]",
      "text/plain": [
       "<matplotlib.figure.Figure at 0x7f45dc0fbd30>"
      ]
     },
     "metadata": {},
     "output_type": "display_data"
    }
   ],
   "source": [
    "ax = plt.scatter(x,y)\n",
    "plt.xlabel('x', fontsize = 16)\n",
    "plt.ylabel('y', fontsize = 16)\n",
    "plt.title(r'Scatterplot of x y', fontsize = 20)"
   ]
  },
  {
   "cell_type": "markdown",
   "metadata": {},
   "source": [
    "Caption:Figure2 is the scatter plot the list x and y."
   ]
  },
  {
   "cell_type": "markdown",
   "metadata": {},
   "source": [
    "(c) There's obviously some linear correlation going on here... using the *statsmodels* or *sklearn* libraries, fit a line to the data and plot this on the scatter plot generated in *b*. In the caption, be sure to discuss the R-squared value for the fit. (10 points)"
   ]
  },
  {
   "cell_type": "code",
   "execution_count": 7,
   "metadata": {},
   "outputs": [],
   "source": [
    "import statsmodels.api as sm\n",
    "import statsmodels.formula.api as smf\n",
    "from statsmodels.graphics.api import abline_plot\n",
    "import patsy\n",
    "import pandas as pd"
   ]
  },
  {
   "cell_type": "code",
   "execution_count": 8,
   "metadata": {},
   "outputs": [
    {
     "data": {
      "text/html": [
       "<div>\n",
       "<table border=\"1\" class=\"dataframe\">\n",
       "  <thead>\n",
       "    <tr style=\"text-align: right;\">\n",
       "      <th></th>\n",
       "      <th>x</th>\n",
       "      <th>y</th>\n",
       "    </tr>\n",
       "  </thead>\n",
       "  <tbody>\n",
       "    <tr>\n",
       "      <th>0</th>\n",
       "      <td>1</td>\n",
       "      <td>14.0</td>\n",
       "    </tr>\n",
       "    <tr>\n",
       "      <th>1</th>\n",
       "      <td>2</td>\n",
       "      <td>12.0</td>\n",
       "    </tr>\n",
       "    <tr>\n",
       "      <th>2</th>\n",
       "      <td>3</td>\n",
       "      <td>18.0</td>\n",
       "    </tr>\n",
       "    <tr>\n",
       "      <th>3</th>\n",
       "      <td>4</td>\n",
       "      <td>-4.0</td>\n",
       "    </tr>\n",
       "    <tr>\n",
       "      <th>4</th>\n",
       "      <td>5</td>\n",
       "      <td>14.0</td>\n",
       "    </tr>\n",
       "  </tbody>\n",
       "</table>\n",
       "</div>"
      ],
      "text/plain": [
       "   x     y\n",
       "0  1  14.0\n",
       "1  2  12.0\n",
       "2  3  18.0\n",
       "3  4  -4.0\n",
       "4  5  14.0"
      ]
     },
     "execution_count": 8,
     "metadata": {},
     "output_type": "execute_result"
    }
   ],
   "source": [
    "x = [1,2,3,4,5,6,7,8,9,10,11,12,13,14,15,16,17,18,19,20]\n",
    "data = pd.merge(pd.DataFrame(x),pd.DataFrame(y), left_index=True,right_index=True)\n",
    "data.rename(columns={'0_x':'x','0_y':'y'},inplace=True)\n",
    "data.head()"
   ]
  },
  {
   "cell_type": "code",
   "execution_count": 9,
   "metadata": {},
   "outputs": [
    {
     "name": "stdout",
     "output_type": "stream",
     "text": [
      "                            OLS Regression Results                            \n",
      "==============================================================================\n",
      "Dep. Variable:                      y   R-squared:                       0.915\n",
      "Model:                            OLS   Adj. R-squared:                  0.910\n",
      "Method:                 Least Squares   F-statistic:                     192.6\n",
      "Date:                Fri, 28 Sep 2018   Prob (F-statistic):           4.71e-11\n",
      "Time:                        10:36:57   Log-Likelihood:                -73.031\n",
      "No. Observations:                  20   AIC:                             150.1\n",
      "Df Residuals:                      18   BIC:                             152.1\n",
      "Df Model:                           1                                         \n",
      "Covariance Type:            nonrobust                                         \n",
      "==============================================================================\n",
      "                 coef    std err          t      P>|t|      [95.0% Conf. Int.]\n",
      "------------------------------------------------------------------------------\n",
      "Intercept     -3.3316      4.566     -0.730      0.475       -12.924     6.260\n",
      "x              5.2887      0.381     13.876      0.000         4.488     6.089\n",
      "==============================================================================\n",
      "Omnibus:                        1.554   Durbin-Watson:                   1.493\n",
      "Prob(Omnibus):                  0.460   Jarque-Bera (JB):                1.245\n",
      "Skew:                          -0.572   Prob(JB):                        0.537\n",
      "Kurtosis:                       2.569   Cond. No.                         25.0\n",
      "==============================================================================\n",
      "\n",
      "Warnings:\n",
      "[1] Standard Errors assume that the covariance matrix of the errors is correctly specified.\n"
     ]
    },
    {
     "data": {
      "text/plain": [
       "<matplotlib.figure.Figure at 0x7f45af207c18>"
      ]
     },
     "metadata": {},
     "output_type": "display_data"
    },
    {
     "data": {
      "image/png": "[encoded data removed]",
      "text/plain": [
       "<matplotlib.figure.Figure at 0x7f45af207f28>"
      ]
     },
     "metadata": {},
     "output_type": "display_data"
    }
   ],
   "source": [
    "plt.figure(figsize=(12, 10))\n",
    "figure, ax = plt.subplots(figsize=(12, 10))\n",
    "ax.scatter(x,y, c='b')\n",
    "mod = smf.ols(formula='y ~ x ', data = data).fit()\n",
    "abline_plot(model_results=mod, ax = ax,color='red')\n",
    "\n",
    "plt.xlabel(r'x', fontsize = 16)\n",
    "plt.ylabel(r'y', fontsize = 16)\n",
    "plt.title(r'Scatterplot of Simulated Data', fontsize=20)\n",
    "print(mod.summary())"
   ]
  },
  {
   "cell_type": "markdown",
   "metadata": {},
   "source": [
    "Caption:Adjust R square is 0.91, which means the linear model (red line) can explain 91% of the sample datapoint. The model is suitable and x have strong positive correlation with y."
   ]
  },
  {
   "cell_type": "markdown",
   "metadata": {},
   "source": [
    "### Problem 2 (35 Points)\n",
    "\n",
    "You are staring out the window from the 13th story of CUSP, looking on as people bustle about Jay Street; some head to the subway, others wait in line for street food, and yet others seem to wander around aimlessly. You don't know or care about what they are doing or where they are going. The one thing that you do know for certain is that none of them were born on a leap-day (February 29th). You also have recently found a dataset on subway ridership in NYC in which people have self-reported their birthdays. \n",
    "\n",
    "Because you are a data scientist, you begin to wonder... 'What is the likelihood that any one of them shares my birthday?' Knowing that, due to a variety of reasons, real-life births are not evenly distributed throughout the year, you decide to dig into the dataset to see if you can uncover trends in what time of year people are born. The dataset, unfortunately is a little messy, due to a poor user-interface, but with a bit of cleaning, should be fine to use. Let's take a closer look at the 'births.csv' dataset."
   ]
  },
  {
   "cell_type": "code",
   "execution_count": 10,
   "metadata": {
    "scrolled": false
   },
   "outputs": [
    {
     "data": {
      "text/html": [
       "<div>\n",
       "<table border=\"1\" class=\"dataframe\">\n",
       "  <thead>\n",
       "    <tr style=\"text-align: right;\">\n",
       "      <th></th>\n",
       "      <th>month</th>\n",
       "      <th>day</th>\n",
       "      <th>births</th>\n",
       "      <th>subway_ridership</th>\n",
       "    </tr>\n",
       "    <tr>\n",
       "      <th>day_of_year</th>\n",
       "      <th></th>\n",
       "      <th></th>\n",
       "      <th></th>\n",
       "      <th></th>\n",
       "    </tr>\n",
       "  </thead>\n",
       "  <tbody>\n",
       "    <tr>\n",
       "      <th>368</th>\n",
       "      <td>12</td>\n",
       "      <td>27</td>\n",
       "      <td>194006</td>\n",
       "      <td>133.240120</td>\n",
       "    </tr>\n",
       "    <tr>\n",
       "      <th>369</th>\n",
       "      <td>12</td>\n",
       "      <td>28</td>\n",
       "      <td>201768</td>\n",
       "      <td>110.172457</td>\n",
       "    </tr>\n",
       "    <tr>\n",
       "      <th>370</th>\n",
       "      <td>12</td>\n",
       "      <td>29</td>\n",
       "      <td>204806</td>\n",
       "      <td>27.509756</td>\n",
       "    </tr>\n",
       "    <tr>\n",
       "      <th>371</th>\n",
       "      <td>12</td>\n",
       "      <td>30</td>\n",
       "      <td>206894</td>\n",
       "      <td>36.174987</td>\n",
       "    </tr>\n",
       "    <tr>\n",
       "      <th>372</th>\n",
       "      <td>12</td>\n",
       "      <td>31</td>\n",
       "      <td>194368</td>\n",
       "      <td>129.920260</td>\n",
       "    </tr>\n",
       "  </tbody>\n",
       "</table>\n",
       "</div>"
      ],
      "text/plain": [
       "             month  day  births  subway_ridership\n",
       "day_of_year                                      \n",
       "368             12   27  194006        133.240120\n",
       "369             12   28  201768        110.172457\n",
       "370             12   29  204806         27.509756\n",
       "371             12   30  206894         36.174987\n",
       "372             12   31  194368        129.920260"
      ]
     },
     "execution_count": 10,
     "metadata": {},
     "output_type": "execute_result"
    }
   ],
   "source": [
    "import pandas as pd\n",
    "import matplotlib.pyplot as plt\n",
    "import numpy as np\n",
    "% matplotlib inline\n",
    "\n",
    "birthdays = pd.read_csv('birthdays.csv') # make sure file is in same folder as notebook\n",
    "birthdays.index = birthdays.index + 1   \n",
    "birthdays.index.name = 'day_of_year'\n",
    "\n",
    "birthdays.tail()"
   ]
  },
  {
   "cell_type": "markdown",
   "metadata": {},
   "source": [
    "* **'day_of_year'** describes the day of the year from January 1. <br>\n",
    "* **'births'** describes the number of births that users registered for a given date <br>\n",
    "* **'subway_ridership'** describes the average reported subway ridership (rides/month) for people born on that day."
   ]
  },
  {
   "cell_type": "markdown",
   "metadata": {},
   "source": [
    "2.1) First plot the birthday data (ignore subway ridership for now) and see if there are any patterns. If so, what are they? Include a description below your plot describing your observations and possible explainations - these observations can just be hypotheses, and do not have to be correct. (10 points)"
   ]
  },
  {
   "cell_type": "code",
   "execution_count": 11,
   "metadata": {},
   "outputs": [
    {
     "data": {
      "text/plain": [
       "Text(0.5,1,'Births in one certain day')"
      ]
     },
     "execution_count": 11,
     "metadata": {},
     "output_type": "execute_result"
    },
    {
     "data": {
      "image/png": "[encoded data removed]",
      "text/plain": [
       "<matplotlib.figure.Figure at 0x7f45af240588>"
      ]
     },
     "metadata": {},
     "output_type": "display_data"
    }
   ],
   "source": [
    "plt.figure(figsize=(10,6))\n",
    "plt.plot(birthdays.index, birthdays.births, '.')\n",
    "\n",
    "plt.xlabel('day_of_year',fontsize = '16')\n",
    "plt.ylabel('births',fontsize = '16')\n",
    "plt.title(\"Births in one certain day\",fontsize = '20')"
   ]
  },
  {
   "cell_type": "markdown",
   "metadata": {},
   "source": [
    "Figure3: This shows the births distribution in the whole year. It seems that more poeple birth in Fall. This may be more parents prepare to have a baby during the Winter which has Christmas holiday?"
   ]
  },
  {
   "cell_type": "markdown",
   "metadata": {},
   "source": [
    "2.2) You should notice an issue in the data that you have plotted. Taking a glance at the raw datapoints should provide the answer. Please make note of what the issue is, and print the first 65 rows of a cleaned-up dataset. (15 points)"
   ]
  },
  {
   "cell_type": "markdown",
   "metadata": {},
   "source": [
    "Some data in births column have extreme value, which is almost close to 0."
   ]
  },
  {
   "cell_type": "code",
   "execution_count": 12,
   "metadata": {},
   "outputs": [
    {
     "data": {
      "text/html": [
       "<div>\n",
       "<table border=\"1\" class=\"dataframe\">\n",
       "  <thead>\n",
       "    <tr style=\"text-align: right;\">\n",
       "      <th></th>\n",
       "      <th>month</th>\n",
       "      <th>day</th>\n",
       "      <th>births</th>\n",
       "      <th>subway_ridership</th>\n",
       "    </tr>\n",
       "    <tr>\n",
       "      <th>day_of_year</th>\n",
       "      <th></th>\n",
       "      <th></th>\n",
       "      <th></th>\n",
       "      <th></th>\n",
       "    </tr>\n",
       "  </thead>\n",
       "  <tbody>\n",
       "    <tr>\n",
       "      <th>1</th>\n",
       "      <td>1</td>\n",
       "      <td>1</td>\n",
       "      <td>160369</td>\n",
       "      <td>46.763549</td>\n",
       "    </tr>\n",
       "    <tr>\n",
       "      <th>2</th>\n",
       "      <td>1</td>\n",
       "      <td>2</td>\n",
       "      <td>169896</td>\n",
       "      <td>38.745642</td>\n",
       "    </tr>\n",
       "    <tr>\n",
       "      <th>3</th>\n",
       "      <td>1</td>\n",
       "      <td>3</td>\n",
       "      <td>180036</td>\n",
       "      <td>42.628351</td>\n",
       "    </tr>\n",
       "    <tr>\n",
       "      <th>4</th>\n",
       "      <td>1</td>\n",
       "      <td>4</td>\n",
       "      <td>182854</td>\n",
       "      <td>38.160858</td>\n",
       "    </tr>\n",
       "    <tr>\n",
       "      <th>5</th>\n",
       "      <td>1</td>\n",
       "      <td>5</td>\n",
       "      <td>184145</td>\n",
       "      <td>2.195034</td>\n",
       "    </tr>\n",
       "    <tr>\n",
       "      <th>6</th>\n",
       "      <td>1</td>\n",
       "      <td>6</td>\n",
       "      <td>186726</td>\n",
       "      <td>16.720587</td>\n",
       "    </tr>\n",
       "    <tr>\n",
       "      <th>7</th>\n",
       "      <td>1</td>\n",
       "      <td>7</td>\n",
       "      <td>188277</td>\n",
       "      <td>5.829813</td>\n",
       "    </tr>\n",
       "    <tr>\n",
       "      <th>8</th>\n",
       "      <td>1</td>\n",
       "      <td>8</td>\n",
       "      <td>185186</td>\n",
       "      <td>45.891352</td>\n",
       "    </tr>\n",
       "    <tr>\n",
       "      <th>9</th>\n",
       "      <td>1</td>\n",
       "      <td>9</td>\n",
       "      <td>181511</td>\n",
       "      <td>14.486921</td>\n",
       "    </tr>\n",
       "    <tr>\n",
       "      <th>10</th>\n",
       "      <td>1</td>\n",
       "      <td>10</td>\n",
       "      <td>183668</td>\n",
       "      <td>12.736874</td>\n",
       "    </tr>\n",
       "    <tr>\n",
       "      <th>11</th>\n",
       "      <td>1</td>\n",
       "      <td>11</td>\n",
       "      <td>187006</td>\n",
       "      <td>44.175946</td>\n",
       "    </tr>\n",
       "    <tr>\n",
       "      <th>12</th>\n",
       "      <td>1</td>\n",
       "      <td>12</td>\n",
       "      <td>188032</td>\n",
       "      <td>10.043896</td>\n",
       "    </tr>\n",
       "    <tr>\n",
       "      <th>13</th>\n",
       "      <td>1</td>\n",
       "      <td>13</td>\n",
       "      <td>189202</td>\n",
       "      <td>11.257846</td>\n",
       "    </tr>\n",
       "    <tr>\n",
       "      <th>14</th>\n",
       "      <td>1</td>\n",
       "      <td>14</td>\n",
       "      <td>192648</td>\n",
       "      <td>8.622998</td>\n",
       "    </tr>\n",
       "    <tr>\n",
       "      <th>15</th>\n",
       "      <td>1</td>\n",
       "      <td>15</td>\n",
       "      <td>189346</td>\n",
       "      <td>43.571007</td>\n",
       "    </tr>\n",
       "    <tr>\n",
       "      <th>16</th>\n",
       "      <td>1</td>\n",
       "      <td>16</td>\n",
       "      <td>186601</td>\n",
       "      <td>29.385172</td>\n",
       "    </tr>\n",
       "    <tr>\n",
       "      <th>17</th>\n",
       "      <td>1</td>\n",
       "      <td>17</td>\n",
       "      <td>186186</td>\n",
       "      <td>45.143298</td>\n",
       "    </tr>\n",
       "    <tr>\n",
       "      <th>18</th>\n",
       "      <td>1</td>\n",
       "      <td>18</td>\n",
       "      <td>188293</td>\n",
       "      <td>43.748476</td>\n",
       "    </tr>\n",
       "    <tr>\n",
       "      <th>19</th>\n",
       "      <td>1</td>\n",
       "      <td>19</td>\n",
       "      <td>189261</td>\n",
       "      <td>48.503449</td>\n",
       "    </tr>\n",
       "    <tr>\n",
       "      <th>20</th>\n",
       "      <td>1</td>\n",
       "      <td>20</td>\n",
       "      <td>190701</td>\n",
       "      <td>48.096125</td>\n",
       "    </tr>\n",
       "    <tr>\n",
       "      <th>21</th>\n",
       "      <td>1</td>\n",
       "      <td>21</td>\n",
       "      <td>191610</td>\n",
       "      <td>21.959276</td>\n",
       "    </tr>\n",
       "    <tr>\n",
       "      <th>22</th>\n",
       "      <td>1</td>\n",
       "      <td>22</td>\n",
       "      <td>189712</td>\n",
       "      <td>9.118698</td>\n",
       "    </tr>\n",
       "    <tr>\n",
       "      <th>23</th>\n",
       "      <td>1</td>\n",
       "      <td>23</td>\n",
       "      <td>186670</td>\n",
       "      <td>48.332699</td>\n",
       "    </tr>\n",
       "    <tr>\n",
       "      <th>24</th>\n",
       "      <td>1</td>\n",
       "      <td>24</td>\n",
       "      <td>186128</td>\n",
       "      <td>1.264829</td>\n",
       "    </tr>\n",
       "    <tr>\n",
       "      <th>25</th>\n",
       "      <td>1</td>\n",
       "      <td>25</td>\n",
       "      <td>187920</td>\n",
       "      <td>51.476182</td>\n",
       "    </tr>\n",
       "    <tr>\n",
       "      <th>26</th>\n",
       "      <td>1</td>\n",
       "      <td>26</td>\n",
       "      <td>188636</td>\n",
       "      <td>10.495429</td>\n",
       "    </tr>\n",
       "    <tr>\n",
       "      <th>27</th>\n",
       "      <td>1</td>\n",
       "      <td>27</td>\n",
       "      <td>189881</td>\n",
       "      <td>41.180762</td>\n",
       "    </tr>\n",
       "    <tr>\n",
       "      <th>28</th>\n",
       "      <td>1</td>\n",
       "      <td>28</td>\n",
       "      <td>190872</td>\n",
       "      <td>20.149094</td>\n",
       "    </tr>\n",
       "    <tr>\n",
       "      <th>29</th>\n",
       "      <td>1</td>\n",
       "      <td>29</td>\n",
       "      <td>188092</td>\n",
       "      <td>19.133394</td>\n",
       "    </tr>\n",
       "    <tr>\n",
       "      <th>30</th>\n",
       "      <td>1</td>\n",
       "      <td>30</td>\n",
       "      <td>185769</td>\n",
       "      <td>51.644648</td>\n",
       "    </tr>\n",
       "    <tr>\n",
       "      <th>...</th>\n",
       "      <td>...</td>\n",
       "      <td>...</td>\n",
       "      <td>...</td>\n",
       "      <td>...</td>\n",
       "    </tr>\n",
       "    <tr>\n",
       "      <th>36</th>\n",
       "      <td>2</td>\n",
       "      <td>5</td>\n",
       "      <td>189132</td>\n",
       "      <td>31.876771</td>\n",
       "    </tr>\n",
       "    <tr>\n",
       "      <th>37</th>\n",
       "      <td>2</td>\n",
       "      <td>6</td>\n",
       "      <td>187124</td>\n",
       "      <td>22.079656</td>\n",
       "    </tr>\n",
       "    <tr>\n",
       "      <th>38</th>\n",
       "      <td>2</td>\n",
       "      <td>7</td>\n",
       "      <td>185986</td>\n",
       "      <td>53.750690</td>\n",
       "    </tr>\n",
       "    <tr>\n",
       "      <th>39</th>\n",
       "      <td>2</td>\n",
       "      <td>8</td>\n",
       "      <td>186741</td>\n",
       "      <td>21.968420</td>\n",
       "    </tr>\n",
       "    <tr>\n",
       "      <th>40</th>\n",
       "      <td>2</td>\n",
       "      <td>9</td>\n",
       "      <td>188543</td>\n",
       "      <td>55.721781</td>\n",
       "    </tr>\n",
       "    <tr>\n",
       "      <th>41</th>\n",
       "      <td>2</td>\n",
       "      <td>10</td>\n",
       "      <td>192034</td>\n",
       "      <td>42.116417</td>\n",
       "    </tr>\n",
       "    <tr>\n",
       "      <th>42</th>\n",
       "      <td>2</td>\n",
       "      <td>11</td>\n",
       "      <td>192632</td>\n",
       "      <td>36.266978</td>\n",
       "    </tr>\n",
       "    <tr>\n",
       "      <th>43</th>\n",
       "      <td>2</td>\n",
       "      <td>12</td>\n",
       "      <td>192948</td>\n",
       "      <td>36.712871</td>\n",
       "    </tr>\n",
       "    <tr>\n",
       "      <th>44</th>\n",
       "      <td>2</td>\n",
       "      <td>13</td>\n",
       "      <td>185576</td>\n",
       "      <td>46.429666</td>\n",
       "    </tr>\n",
       "    <tr>\n",
       "      <th>45</th>\n",
       "      <td>2</td>\n",
       "      <td>14</td>\n",
       "      <td>194510</td>\n",
       "      <td>36.323470</td>\n",
       "    </tr>\n",
       "    <tr>\n",
       "      <th>46</th>\n",
       "      <td>2</td>\n",
       "      <td>15</td>\n",
       "      <td>188253</td>\n",
       "      <td>40.541878</td>\n",
       "    </tr>\n",
       "    <tr>\n",
       "      <th>47</th>\n",
       "      <td>2</td>\n",
       "      <td>16</td>\n",
       "      <td>189281</td>\n",
       "      <td>9.439375</td>\n",
       "    </tr>\n",
       "    <tr>\n",
       "      <th>48</th>\n",
       "      <td>2</td>\n",
       "      <td>17</td>\n",
       "      <td>191707</td>\n",
       "      <td>53.742490</td>\n",
       "    </tr>\n",
       "    <tr>\n",
       "      <th>49</th>\n",
       "      <td>2</td>\n",
       "      <td>18</td>\n",
       "      <td>192839</td>\n",
       "      <td>1.975045</td>\n",
       "    </tr>\n",
       "    <tr>\n",
       "      <th>50</th>\n",
       "      <td>2</td>\n",
       "      <td>19</td>\n",
       "      <td>190064</td>\n",
       "      <td>51.637136</td>\n",
       "    </tr>\n",
       "    <tr>\n",
       "      <th>51</th>\n",
       "      <td>2</td>\n",
       "      <td>20</td>\n",
       "      <td>190051</td>\n",
       "      <td>61.625035</td>\n",
       "    </tr>\n",
       "    <tr>\n",
       "      <th>52</th>\n",
       "      <td>2</td>\n",
       "      <td>21</td>\n",
       "      <td>186860</td>\n",
       "      <td>43.171535</td>\n",
       "    </tr>\n",
       "    <tr>\n",
       "      <th>53</th>\n",
       "      <td>2</td>\n",
       "      <td>22</td>\n",
       "      <td>190061</td>\n",
       "      <td>47.354775</td>\n",
       "    </tr>\n",
       "    <tr>\n",
       "      <th>54</th>\n",
       "      <td>2</td>\n",
       "      <td>23</td>\n",
       "      <td>190298</td>\n",
       "      <td>34.067911</td>\n",
       "    </tr>\n",
       "    <tr>\n",
       "      <th>55</th>\n",
       "      <td>2</td>\n",
       "      <td>24</td>\n",
       "      <td>193160</td>\n",
       "      <td>37.823077</td>\n",
       "    </tr>\n",
       "    <tr>\n",
       "      <th>56</th>\n",
       "      <td>2</td>\n",
       "      <td>25</td>\n",
       "      <td>194281</td>\n",
       "      <td>52.118818</td>\n",
       "    </tr>\n",
       "    <tr>\n",
       "      <th>57</th>\n",
       "      <td>2</td>\n",
       "      <td>26</td>\n",
       "      <td>191623</td>\n",
       "      <td>33.726297</td>\n",
       "    </tr>\n",
       "    <tr>\n",
       "      <th>58</th>\n",
       "      <td>2</td>\n",
       "      <td>27</td>\n",
       "      <td>187750</td>\n",
       "      <td>43.692739</td>\n",
       "    </tr>\n",
       "    <tr>\n",
       "      <th>59</th>\n",
       "      <td>2</td>\n",
       "      <td>28</td>\n",
       "      <td>187812</td>\n",
       "      <td>47.562764</td>\n",
       "    </tr>\n",
       "    <tr>\n",
       "      <th>63</th>\n",
       "      <td>3</td>\n",
       "      <td>1</td>\n",
       "      <td>189687</td>\n",
       "      <td>22.157940</td>\n",
       "    </tr>\n",
       "    <tr>\n",
       "      <th>64</th>\n",
       "      <td>3</td>\n",
       "      <td>2</td>\n",
       "      <td>190022</td>\n",
       "      <td>55.564179</td>\n",
       "    </tr>\n",
       "    <tr>\n",
       "      <th>65</th>\n",
       "      <td>3</td>\n",
       "      <td>3</td>\n",
       "      <td>194871</td>\n",
       "      <td>14.258329</td>\n",
       "    </tr>\n",
       "    <tr>\n",
       "      <th>66</th>\n",
       "      <td>3</td>\n",
       "      <td>4</td>\n",
       "      <td>192862</td>\n",
       "      <td>64.422481</td>\n",
       "    </tr>\n",
       "    <tr>\n",
       "      <th>67</th>\n",
       "      <td>3</td>\n",
       "      <td>5</td>\n",
       "      <td>191264</td>\n",
       "      <td>39.685319</td>\n",
       "    </tr>\n",
       "    <tr>\n",
       "      <th>68</th>\n",
       "      <td>3</td>\n",
       "      <td>6</td>\n",
       "      <td>188875</td>\n",
       "      <td>63.372349</td>\n",
       "    </tr>\n",
       "  </tbody>\n",
       "</table>\n",
       "<p>65 rows × 4 columns</p>\n",
       "</div>"
      ],
      "text/plain": [
       "             month  day  births  subway_ridership\n",
       "day_of_year                                      \n",
       "1                1    1  160369         46.763549\n",
       "2                1    2  169896         38.745642\n",
       "3                1    3  180036         42.628351\n",
       "4                1    4  182854         38.160858\n",
       "5                1    5  184145          2.195034\n",
       "6                1    6  186726         16.720587\n",
       "7                1    7  188277          5.829813\n",
       "8                1    8  185186         45.891352\n",
       "9                1    9  181511         14.486921\n",
       "10               1   10  183668         12.736874\n",
       "11               1   11  187006         44.175946\n",
       "12               1   12  188032         10.043896\n",
       "13               1   13  189202         11.257846\n",
       "14               1   14  192648          8.622998\n",
       "15               1   15  189346         43.571007\n",
       "16               1   16  186601         29.385172\n",
       "17               1   17  186186         45.143298\n",
       "18               1   18  188293         43.748476\n",
       "19               1   19  189261         48.503449\n",
       "20               1   20  190701         48.096125\n",
       "21               1   21  191610         21.959276\n",
       "22               1   22  189712          9.118698\n",
       "23               1   23  186670         48.332699\n",
       "24               1   24  186128          1.264829\n",
       "25               1   25  187920         51.476182\n",
       "26               1   26  188636         10.495429\n",
       "27               1   27  189881         41.180762\n",
       "28               1   28  190872         20.149094\n",
       "29               1   29  188092         19.133394\n",
       "30               1   30  185769         51.644648\n",
       "...            ...  ...     ...               ...\n",
       "36               2    5  189132         31.876771\n",
       "37               2    6  187124         22.079656\n",
       "38               2    7  185986         53.750690\n",
       "39               2    8  186741         21.968420\n",
       "40               2    9  188543         55.721781\n",
       "41               2   10  192034         42.116417\n",
       "42               2   11  192632         36.266978\n",
       "43               2   12  192948         36.712871\n",
       "44               2   13  185576         46.429666\n",
       "45               2   14  194510         36.323470\n",
       "46               2   15  188253         40.541878\n",
       "47               2   16  189281          9.439375\n",
       "48               2   17  191707         53.742490\n",
       "49               2   18  192839          1.975045\n",
       "50               2   19  190064         51.637136\n",
       "51               2   20  190051         61.625035\n",
       "52               2   21  186860         43.171535\n",
       "53               2   22  190061         47.354775\n",
       "54               2   23  190298         34.067911\n",
       "55               2   24  193160         37.823077\n",
       "56               2   25  194281         52.118818\n",
       "57               2   26  191623         33.726297\n",
       "58               2   27  187750         43.692739\n",
       "59               2   28  187812         47.562764\n",
       "63               3    1  189687         22.157940\n",
       "64               3    2  190022         55.564179\n",
       "65               3    3  194871         14.258329\n",
       "66               3    4  192862         64.422481\n",
       "67               3    5  191264         39.685319\n",
       "68               3    6  188875         63.372349\n",
       "\n",
       "[65 rows x 4 columns]"
      ]
     },
     "execution_count": 12,
     "metadata": {},
     "output_type": "execute_result"
    }
   ],
   "source": [
    "bth = birthdays[birthdays['births'] >= 100000]\n",
    "bth.head(65)"
   ]
  },
  {
   "cell_type": "markdown",
   "metadata": {},
   "source": [
    "3.3) Plot the data again, and use the 'sort_values' method to examine high and low points. Do you notice anything about overall trends in births by time of year? Do any specific dates stand out? (10 points)"
   ]
  },
  {
   "cell_type": "code",
   "execution_count": 13,
   "metadata": {},
   "outputs": [
    {
     "data": {
      "text/plain": [
       "Text(0.5,1,'Births Distribution')"
      ]
     },
     "execution_count": 13,
     "metadata": {},
     "output_type": "execute_result"
    },
    {
     "data": {
      "image/png": "[encoded data removed]",
      "text/plain": [
       "<matplotlib.figure.Figure at 0x7f45aeede9b0>"
      ]
     },
     "metadata": {},
     "output_type": "display_data"
    }
   ],
   "source": [
    "day_of_year = bth.index\n",
    "births = bth.births\n",
    "plt.figure(figsize=(10,6))\n",
    "plt.plot(day_of_year, births,'.')\n",
    "\n",
    "plt.xlabel('day_of_year')\n",
    "plt.ylabel('births')\n",
    "plt.title('Births Distribution')"
   ]
  },
  {
   "cell_type": "code",
   "execution_count": null,
   "metadata": {},
   "outputs": [],
   "source": [
    "bth.sort_values(by=['births'],ascending=True,inplace=True)\n",
    "bth\n",
    "#bth.sort_values?"
   ]
  },
  {
   "cell_type": "markdown",
   "metadata": {},
   "source": [
    "Caption:Day on Sept16 got the maximal biths and day on Dec 25 got the minimum."
   ]
  },
  {
   "cell_type": "markdown",
   "metadata": {},
   "source": [
    "### Problem 3 (35 Points)"
   ]
  },
  {
   "cell_type": "markdown",
   "metadata": {},
   "source": [
    "Now that you've got clean data, you're curious... are people traveling on the subway more likely to have certain birthdays than others? A friend next to you makes the dubious claim that people born later in the year tend to ride the subway more often. You don't believe her, but want to use your data science skills to show that she's wrong (or to discover that you're wrong! Which is notably one of the most exciting experiences in the field of data science). You decide to test her claim armed with your newly-cleaned data and linear regression."
   ]
  },
  {
   "cell_type": "markdown",
   "metadata": {},
   "source": [
    "3.1) State the null hypothesis. (5 points)"
   ]
  },
  {
   "cell_type": "markdown",
   "metadata": {},
   "source": [
    "$H_0$ : $beta_0\\hat\\beta_1=0$\n",
    "\n",
    "$H_1$ : $\\hat\\beta_1\\neq0$"
   ]
  },
  {
   "cell_type": "markdown",
   "metadata": {},
   "source": [
    "3.2) Generate a scatter plot with subway ridership (the dependant variable) on the y-axis and birthday (as day of year) (the independant variable) on the x-axis. Fit a regression line to the data. (15 points)"
   ]
  },
  {
   "cell_type": "code",
   "execution_count": 15,
   "metadata": {},
   "outputs": [
    {
     "data": {
      "text/plain": [
       "count    365.000000\n",
       "mean      50.440278\n",
       "std       32.333221\n",
       "min        0.065351\n",
       "25%       24.440671\n",
       "50%       45.712088\n",
       "75%       72.102520\n",
       "max      137.300439\n",
       "Name: subway_ridership, dtype: float64"
      ]
     },
     "execution_count": 15,
     "metadata": {},
     "output_type": "execute_result"
    }
   ],
   "source": [
    "bth.subway_ridership.describe()"
   ]
  },
  {
   "cell_type": "code",
   "execution_count": 22,
   "metadata": {
    "scrolled": true
   },
   "outputs": [
    {
     "data": {
      "text/plain": [
       "(array([  1,   2,   3,   4,   5,   6,   7,   8,   9,  10,  11,  12,  13,\n",
       "         14,  15,  16,  17,  18,  19,  20,  21,  22,  23,  24,  25,  26,\n",
       "         27,  28,  29,  30,  31,  32,  33,  34,  35,  36,  37,  38,  39,\n",
       "         40,  41,  42,  43,  44,  45,  46,  47,  48,  49,  50,  51,  52,\n",
       "         53,  54,  55,  56,  57,  58,  59,  60,  61,  62,  63,  64,  65,\n",
       "         66,  67,  68,  69,  70,  71,  72,  73,  74,  75,  76,  77,  78,\n",
       "         79,  80,  81,  82,  83,  84,  85,  86,  87,  88,  89,  90,  91,\n",
       "         92,  93,  94,  95,  96,  97,  98,  99, 100, 101, 102, 103, 104,\n",
       "        105, 106, 107, 108, 109, 110, 111, 112, 113, 114, 115, 116, 117,\n",
       "        118, 119, 120, 121, 122, 123, 124, 125, 126, 127, 128, 129, 130,\n",
       "        131, 132, 133, 134, 135, 136, 137, 138, 139, 140, 141, 142, 143,\n",
       "        144, 145, 146, 147, 148, 149, 150, 151, 152, 153, 154, 155, 156,\n",
       "        157, 158, 159, 160, 161, 162, 163, 164, 165, 166, 167, 168, 169,\n",
       "        170, 171, 172, 173, 174, 175, 176, 177, 178, 179, 180, 181, 182,\n",
       "        183, 184, 185, 186, 187, 188, 189, 190, 191, 192, 193, 194, 195,\n",
       "        196, 197, 198, 199, 200, 201, 202, 203, 204, 205, 206, 207, 208,\n",
       "        209, 210, 211, 212, 213, 214, 215, 216, 217, 218, 219, 220, 221,\n",
       "        222, 223, 224, 225, 226, 227, 228, 229, 230, 231, 232, 233, 234,\n",
       "        235, 236, 237, 238, 239, 240, 241, 242, 243, 244, 245, 246, 247,\n",
       "        248, 249, 250, 251, 252, 253, 254, 255, 256, 257, 258, 259, 260,\n",
       "        261, 262, 263, 264, 265, 266, 267, 268, 269, 270, 271, 272, 273,\n",
       "        274, 275, 276, 277, 278, 279, 280, 281, 282, 283, 284, 285, 286,\n",
       "        287, 288, 289, 290, 291, 292, 293, 294, 295, 296, 297, 298, 299,\n",
       "        300, 301, 302, 303, 304, 305, 306, 307, 308, 309, 310, 311, 312,\n",
       "        313, 314, 315, 316, 317, 318, 319, 320, 321, 322, 323, 324, 325,\n",
       "        326, 327, 328, 329, 330, 331, 332, 333, 334, 335, 336, 337, 338,\n",
       "        339, 340, 341, 342, 343, 344, 345, 346, 347, 348, 349, 350, 351,\n",
       "        352, 353, 354, 355, 356, 357, 358, 359, 360, 361, 362, 363, 364, 365]),\n",
       " array([  5.74976707e+01,   4.67635493e+01,   1.09870765e+02,\n",
       "          3.87456419e+01,   5.81833403e+01,   1.09450518e+02,\n",
       "          5.67554234e+01,   4.26283507e+01,   2.20750204e+01,\n",
       "          1.44869208e+01,   5.30543580e+01,   2.21548262e+01,\n",
       "          3.81608579e+01,   6.53832230e+01,   5.81927431e+01,\n",
       "          3.08531633e+01,   4.54240069e+01,   3.50614396e+01,\n",
       "          1.23064727e+02,   5.70635511e+01,   7.86142775e+01,\n",
       "          5.02288846e+01,   1.49244096e+01,   1.27368738e+01,\n",
       "          8.66684792e+00,   8.45731496e+00,   1.53953385e+01,\n",
       "          1.05665881e+02,   5.80181773e+01,   2.19503383e+00,\n",
       "          4.46480426e+01,   1.02191271e+01,   2.57670360e+01,\n",
       "          6.40167120e+01,   2.87805882e+01,   4.08617819e+01,\n",
       "          5.97839912e+01,   7.21025201e+01,   6.28287920e+01,\n",
       "          4.02975708e+01,   4.20034242e+01,   4.58913520e+01,\n",
       "          4.13431429e+01,   4.64296660e+01,   4.87805236e+01,\n",
       "          6.33489878e+01,   5.16446485e+01,   2.50877703e+01,\n",
       "          5.37506898e+01,   1.16531203e+01,   5.08215934e+01,\n",
       "          6.39252132e+01,   4.56251070e+00,   1.66537670e+01,\n",
       "          1.80077116e+01,   5.94102948e+01,   1.26482892e+00,\n",
       "          4.51432984e+01,   4.89914082e+01,   7.13854922e+01,\n",
       "          7.48276431e+01,   5.68420220e+01,   6.98744450e+00,\n",
       "          1.17970608e+00,   5.44053971e+01,   4.26914847e+01,\n",
       "          3.29727595e+01,   1.31513499e+01,   1.06307025e+02,\n",
       "          4.55750636e+01,   2.93851720e+01,   2.00124382e+01,\n",
       "          4.83326995e+01,   2.40045294e+01,   1.67205873e+01,\n",
       "          2.19684200e+01,   2.20747457e+01,   6.00475271e+01,\n",
       "          7.70314581e+01,   4.31715347e+01,   5.17825228e+01,\n",
       "          9.89476026e+00,   4.41759458e+01,   1.19033765e+02,\n",
       "          1.18023397e+02,   2.20796558e+01,   7.86410482e+01,\n",
       "          5.62457781e+01,   4.10709191e+01,   9.40455538e+00,\n",
       "          5.42744402e+01,   4.38843782e+01,   3.40928576e+01,\n",
       "          4.25696553e+01,   3.48465653e+01,   4.90707953e+01,\n",
       "          2.17801638e+01,   5.67958602e+01,   3.07017610e+01,\n",
       "          4.36927387e+01,   6.89346736e+01,   4.75627637e+01,\n",
       "          5.50839797e+01,   5.14761822e+01,   8.25188673e+01,\n",
       "          7.05608473e+01,   1.00438962e+01,   1.91333938e+01,\n",
       "          4.75447198e+01,   2.95503788e+01,   7.24776931e+01,\n",
       "          1.24660666e+02,   4.05418775e+01,   3.54707467e+00,\n",
       "          5.82981305e+00,   4.37484759e+01,   6.26288454e+01,\n",
       "          2.58114397e+01,   5.57217813e+01,   1.04954285e+01,\n",
       "          1.42945920e+01,   5.20463415e+01,   1.34871327e+02,\n",
       "          4.21451279e+00,   8.05128340e+01,   8.05240724e+00,\n",
       "          6.33723486e+01,   9.41457522e+00,   3.55878180e+00,\n",
       "          6.82701458e+00,   3.76674079e+01,   2.65992134e+01,\n",
       "          1.14279813e+01,   1.00958349e+01,   1.24557783e+02,\n",
       "          3.18767708e+01,   1.03337697e+02,   1.12578465e+01,\n",
       "          4.85034492e+01,   9.43937471e+00,   9.25144345e+01,\n",
       "          4.35710070e+01,   1.20771734e+02,   2.67754006e+01,\n",
       "          9.37384389e+01,   2.21579397e+01,   9.11869827e+00,\n",
       "          2.45136468e+01,   5.02962880e+01,   4.50497036e+01,\n",
       "          2.67575685e+01,   8.25380215e+01,   3.98081083e+01,\n",
       "          4.11807621e+01,   2.18547957e+01,   4.05128161e+01,\n",
       "          5.55641789e+01,   1.12781298e+01,   6.16250353e+01,\n",
       "          5.74631894e+01,   4.73547754e+01,   7.51041487e+01,\n",
       "          5.16371356e+01,   7.15417048e+01,   9.77430425e+01,\n",
       "          1.08238772e+02,   3.40679113e+01,   1.24421340e+02,\n",
       "          1.26735230e+01,   8.28420557e+01,   9.49516172e+00,\n",
       "          4.81733375e+00,   1.93172666e+01,   1.28636637e+02,\n",
       "          4.80961246e+01,   7.71614344e+01,   2.01490936e+01,\n",
       "          3.42733105e+01,   6.21627523e+01,   1.87395166e+01,\n",
       "          6.18047119e+01,   1.27632974e+02,   6.53514138e-02,\n",
       "          3.96853195e+01,   8.40794387e+01,   5.79863688e+01,\n",
       "          5.66615153e+01,   1.50942006e+01,   4.25612563e+01,\n",
       "          2.33065530e+01,   9.95599098e+01,   4.57120883e+01,\n",
       "          3.03156938e-01,   1.47148502e+01,   2.19592763e+01,\n",
       "          3.37262971e+01,   1.22635168e+02,   1.37300439e+02,\n",
       "          9.08686288e+01,   5.37424896e+01,   4.16189761e+01,\n",
       "          8.68195141e+01,   1.24657390e+02,   4.21164170e+01,\n",
       "          6.21484011e+01,   1.74255261e+01,   3.40517691e+01,\n",
       "          8.47675960e+01,   4.13968549e+01,   3.62669779e+01,\n",
       "          1.04219918e+02,   8.62299787e+00,   8.20546562e+01,\n",
       "          9.74855807e+01,   1.69180882e+01,   1.97504500e+00,\n",
       "          4.41167006e+01,   6.44224807e+01,   6.13187302e+01,\n",
       "          3.67128709e+01,   5.84968558e+01,   2.63554387e+01,\n",
       "          2.12220692e+01,   3.78230768e+01,   3.01206483e+01,\n",
       "          4.93238248e+01,   7.61753747e+01,   1.40607250e+01,\n",
       "          3.58437952e+01,   4.14671141e+01,   9.55283754e+00,\n",
       "          6.16611067e+01,   2.84191651e+01,   5.61948329e+01,\n",
       "          1.33240120e+02,   7.44698683e+01,   7.36902926e+01,\n",
       "          7.81217199e+01,   7.54121587e+01,   5.21188180e+01,\n",
       "          8.56599707e+01,   1.29920260e+02,   7.88217289e+01,\n",
       "          3.63234697e+01,   8.97188784e+01,   7.02018750e+01,\n",
       "          3.70230202e+01,   1.02100980e+02,   8.37789085e+00,\n",
       "          1.42583291e+01,   7.33557322e+01,   3.18119245e-01,\n",
       "          4.02772542e+01,   7.26846381e+01,   4.03991076e+01,\n",
       "          2.20065806e+00,   5.38324222e+01,   1.21868747e+02,\n",
       "          7.74994798e+01,   6.36055891e+00,   7.49186539e+01,\n",
       "          1.51633883e+01,   3.41682423e+01,   3.53127860e+01,\n",
       "          1.01111700e+02,   4.44590499e+01,   6.85458953e+01,\n",
       "          1.39468689e+01,   7.28644488e+01,   4.52588938e+01,\n",
       "          7.75016462e+01,   4.15838211e+01,   6.70986703e+01,\n",
       "          3.85366373e+01,   6.23498263e+01,   2.57721252e+01,\n",
       "          3.35606412e+01,   8.61045826e+01,   2.48262704e+01,\n",
       "          6.32031693e+01,   7.72801680e+01,   7.12340035e+01,\n",
       "          9.19524620e+01,   8.56648043e+01,   2.99085089e+00,\n",
       "          1.00504964e+02,   8.43139995e+01,   7.85410437e+01,\n",
       "          2.44406713e+01,   3.46131391e+01,   7.52017793e+01,\n",
       "          1.97671867e+01,   5.32048201e+01,   1.10172457e+02,\n",
       "          5.17609203e+01,   5.12877162e+00,   1.82997187e+01,\n",
       "          1.01997457e+02,   4.02008146e+01,   1.00729376e+02,\n",
       "          4.70854170e+01,   6.34217952e+01,   1.30483558e+01,\n",
       "          3.32759449e+01,   7.50303858e+01,   8.88800017e+01,\n",
       "          1.03427337e+02,   4.35285913e+01,   8.77730501e+01,\n",
       "          3.26761869e+00,   5.50722748e+01,   4.39259108e+01,\n",
       "          8.28145049e+00,   4.68537498e+01,   4.95201419e+01,\n",
       "          6.77339937e+01,   5.85393784e+01,   4.62714324e+01,\n",
       "          3.71899962e+01,   3.59911568e+01,   6.88176691e+01,\n",
       "          4.63382861e+01,   7.24873890e+01,   7.73499090e+01,\n",
       "          8.57569201e+01,   1.02212465e+02,   2.79957617e+01,\n",
       "          2.75097559e+01,   2.03770713e+01,   6.13477434e+01,\n",
       "          8.52076549e+00,   1.03114439e+01,   1.05468730e+02,\n",
       "          4.29896741e+01,   1.00742648e+01,   1.97101119e+01,\n",
       "          1.54867685e+01,   6.46154719e+01,   1.71439064e+01,\n",
       "          3.16439078e+01,   2.65350083e+01,   7.85301391e+01,\n",
       "          1.42172521e+01,   6.36637814e+01,   1.34656045e+01,\n",
       "          3.61749875e+01,   1.05109432e+02,   7.09418924e+01,\n",
       "          6.65210305e+01,   2.33362688e+01,   1.00835912e+02,\n",
       "          8.15530002e+01,   1.12824390e+02,   3.17647802e+01,\n",
       "          8.69754197e+00,   7.50909495e+01,   8.11132840e+01,\n",
       "          4.38932679e+01,   9.75111297e+01,   1.41236830e+01,\n",
       "          1.15199838e+02,   5.12173757e+01,   3.00212881e+01,\n",
       "          1.09776003e+02,   1.12238375e+02]))"
      ]
     },
     "execution_count": 22,
     "metadata": {},
     "output_type": "execute_result"
    },
    {
     "data": {
      "text/plain": [
       "<matplotlib.figure.Figure at 0x7f45af23a1d0>"
      ]
     },
     "metadata": {},
     "output_type": "display_data"
    },
    {
     "data": {
      "image/png": "[encoded data removed]",
      "text/plain": [
       "<matplotlib.figure.Figure at 0x7f45aeee3160>"
      ]
     },
     "metadata": {},
     "output_type": "display_data"
    }
   ],
   "source": [
    "x = range(1,366)\n",
    "y = bth.subway_ridership\n",
    "x = np.array(x)\n",
    "y = np.array(y)\n",
    "#have to change x,y to array to make the row number keep the same,to get the key of left_index and right_index the same.\n",
    "data = pd.merge(pd.DataFrame(x),pd.DataFrame(y),left_index=True, right_index=True)\n",
    "mod = smf.ols(formula='y ~ x', data = data).fit()\n",
    "\n",
    "\n",
    "plt.figure(figsize=(12,10))\n",
    "figure, ax = plt.subplots(figsize=(12,10))\n",
    "ax.plot(x,y,'.',c='b')\n",
    "abline_plot(model_results= mod, ax = ax, color = 'red' )\n",
    "plt.xlabel(\"day_of_year\")\n",
    "plt.ylabel(\"births\")\n",
    "plt.title(\"Births Trend in a whole year\")\n",
    "x,y"
   ]
  },
  {
   "cell_type": "markdown",
   "metadata": {},
   "source": [
    "3.3) Print the summary statistics of your regression and discuss if your results confirm or reject the null hypothesis at a p-value of 0.05. Discuss the possible implications of Type 1 & Type 2 errors and the choice of a 0.05 p-value. (15 points)"
   ]
  },
  {
   "cell_type": "code",
   "execution_count": 17,
   "metadata": {},
   "outputs": [
    {
     "name": "stdout",
     "output_type": "stream",
     "text": [
      "                            OLS Regression Results                            \n",
      "==============================================================================\n",
      "Dep. Variable:                      y   R-squared:                       0.017\n",
      "Model:                            OLS   Adj. R-squared:                  0.014\n",
      "Method:                 Least Squares   F-statistic:                     6.203\n",
      "Date:                Fri, 28 Sep 2018   Prob (F-statistic):             0.0132\n",
      "Time:                        10:36:58   Log-Likelihood:                -1783.1\n",
      "No. Observations:                 365   AIC:                             3570.\n",
      "Df Residuals:                     363   BIC:                             3578.\n",
      "Df Model:                           1                                         \n",
      "Covariance Type:            nonrobust                                         \n",
      "==============================================================================\n",
      "                 coef    std err          t      P>|t|      [95.0% Conf. Int.]\n",
      "------------------------------------------------------------------------------\n",
      "Intercept     43.1714      3.368     12.819      0.000        36.549    49.794\n",
      "x              0.0397      0.016      2.491      0.013         0.008     0.071\n",
      "==============================================================================\n",
      "Omnibus:                       17.883   Durbin-Watson:                   1.964\n",
      "Prob(Omnibus):                  0.000   Jarque-Bera (JB):               19.422\n",
      "Skew:                           0.550   Prob(JB):                     6.06e-05\n",
      "Kurtosis:                       2.744   Cond. No.                         423.\n",
      "==============================================================================\n",
      "\n",
      "Warnings:\n",
      "[1] Standard Errors assume that the covariance matrix of the errors is correctly specified.\n"
     ]
    }
   ],
   "source": [
    "print(mod.summary())"
   ]
  },
  {
   "cell_type": "markdown",
   "metadata": {},
   "source": [
    "According to the result summary, 0 is outside the 95% confidence interval of t-distribution, which means p-value of slope expectation to be null  hypothesis is lower than 5%, the null hypothesis has been rejected. It's the Error Type 1, the Fact is true and  the H0 has been rejected."
   ]
  },
  {
   "cell_type": "code",
   "execution_count": null,
   "metadata": {},
   "outputs": [],
   "source": []
  }
 ],
 "metadata": {
  "kernelspec": {
   "display_name": "Python 3",
   "language": "python",
   "name": "python3"
  },
  "language_info": {
   "codemirror_mode": {
    "name": "ipython",
    "version": 3
   },
   "file_extension": ".py",
   "mimetype": "text/x-python",
   "name": "python",
   "nbconvert_exporter": "python",
   "pygments_lexer": "ipython3",
   "version": "3.6.5"
  }
 },
 "nbformat": 4,
 "nbformat_minor": 2
}
