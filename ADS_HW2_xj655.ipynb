{
 "cells": [
  {
   "cell_type": "markdown",
   "metadata": {},
   "source": [
    "# ADS Homework #2\n",
    "Monday 2-5pm Session, Proffessor Tim Savage\n",
    "\n",
    "Please submit this assignment to the NYU Classes 'Assignments' section by 12:00pm on Monday, October 8, strictly labeling the assignments with the format **'ADS_HW1_(your net ID).ipynb'**. Be sure not to confuse Net ID (e.g. 'acs882') with N-number ('N166...'). This homework is here for you to better understand and practice the material; while you may discuss approaches to problems with your classmates (in fact, this is encouraged!), please ensure that all final code submitted is your own. You may reach out to the TA, Alex Shannon, at acs882@nyu.edu at anytime (he hangs out at CUSP a lot, so feel free to say hello). Additionally, Professor Savage will hold office hours on Mondays from 9am-12am; a location for this will be confirmed and communicated shortly."
   ]
  },
  {
   "cell_type": "markdown",
   "metadata": {},
   "source": [
    "### Problem 1 - PM2.5 Concentration in Beijing (50 points)"
   ]
  },
  {
   "cell_type": "markdown",
   "metadata": {},
   "source": [
    "**What is a PM2.5?**<br>\n",
    "“Particulate matter” (PM) is the general term used for a mixture of solid particles and liquid droplets\n",
    "found in the air. The '2.5' specifies particles with aerodynamic diameters less than or equal to 2.5 microns (μm). This is very small - to put in in perspective, it would take about 30 of these, lined up next to each other, to cover the width of a human hair. They result from a variety of activities, including power plants, motor vehicles, airplanes, residential wood burning, forest fires, agricultural burning, volcanic eruptions (hopefully not something to worry about in NYC) and dust storms.<br>\n",
    "**Why is this important to cities?**<br>\n",
    "An extensive body of scientific evidence shows that short- or long-term exposures to fine particles\n",
    "can cause adverse cardiovascular effects, including heart attacks and strokes resulting in\n",
    "hospitalizations and, in some cases, premature death. A number of studies have also linked fine\n",
    "particle exposures to respiratory effects, including the exacerbation of asthma and other respiratory\n",
    "illnesses (short-term exposures) and the impairment of lung development (long-term exposures). In short, PM2.5 poses public health risks, and is something which cities should be knowledgeable about; predicting when PM2.5 concentration will be particularly high could allow the city to issue warnings or place restrictions on certain activities (e.g. driving, industrial activity, etc.).<br>\n",
    "**The Data**<br>\n",
    "We will be looking specifically at Beijing from 2010-2014, using a variety of weather-related variables. Although there exists a time component, and other data sources could be merged to look for additional factors (this could be a great final project - think traffic data, air-taffic data, industrial activity, etc), we will specifically focused on weather for the purposes of this assignment. Please load and take a look at the data below. "
   ]
  },
  {
   "cell_type": "code",
   "execution_count": 83,
   "metadata": {},
   "outputs": [
    {
     "data": {
      "text/html": [
       "<div>\n",
       "<style scoped>\n",
       "    .dataframe tbody tr th:only-of-type {\n",
       "        vertical-align: middle;\n",
       "    }\n",
       "\n",
       "    .dataframe tbody tr th {\n",
       "        vertical-align: top;\n",
       "    }\n",
       "\n",
       "    .dataframe thead th {\n",
       "        text-align: right;\n",
       "    }\n",
       "</style>\n",
       "<table border=\"1\" class=\"dataframe\">\n",
       "  <thead>\n",
       "    <tr style=\"text-align: right;\">\n",
       "      <th></th>\n",
       "      <th>No</th>\n",
       "      <th>year</th>\n",
       "      <th>month</th>\n",
       "      <th>day</th>\n",
       "      <th>hour</th>\n",
       "      <th>pm2.5</th>\n",
       "      <th>DEWP</th>\n",
       "      <th>TEMP</th>\n",
       "      <th>PRES</th>\n",
       "      <th>cbwd</th>\n",
       "      <th>Iws</th>\n",
       "      <th>Is</th>\n",
       "      <th>Ir</th>\n",
       "    </tr>\n",
       "  </thead>\n",
       "  <tbody>\n",
       "    <tr>\n",
       "      <th>0</th>\n",
       "      <td>1</td>\n",
       "      <td>2010</td>\n",
       "      <td>1</td>\n",
       "      <td>1</td>\n",
       "      <td>0</td>\n",
       "      <td>NaN</td>\n",
       "      <td>-21</td>\n",
       "      <td>-11.0</td>\n",
       "      <td>1021.0</td>\n",
       "      <td>NW</td>\n",
       "      <td>1.79</td>\n",
       "      <td>0</td>\n",
       "      <td>0</td>\n",
       "    </tr>\n",
       "    <tr>\n",
       "      <th>1</th>\n",
       "      <td>2</td>\n",
       "      <td>2010</td>\n",
       "      <td>1</td>\n",
       "      <td>1</td>\n",
       "      <td>1</td>\n",
       "      <td>NaN</td>\n",
       "      <td>-21</td>\n",
       "      <td>-12.0</td>\n",
       "      <td>1020.0</td>\n",
       "      <td>NW</td>\n",
       "      <td>4.92</td>\n",
       "      <td>0</td>\n",
       "      <td>0</td>\n",
       "    </tr>\n",
       "    <tr>\n",
       "      <th>2</th>\n",
       "      <td>3</td>\n",
       "      <td>2010</td>\n",
       "      <td>1</td>\n",
       "      <td>1</td>\n",
       "      <td>2</td>\n",
       "      <td>NaN</td>\n",
       "      <td>-21</td>\n",
       "      <td>-11.0</td>\n",
       "      <td>1019.0</td>\n",
       "      <td>NW</td>\n",
       "      <td>6.71</td>\n",
       "      <td>0</td>\n",
       "      <td>0</td>\n",
       "    </tr>\n",
       "    <tr>\n",
       "      <th>3</th>\n",
       "      <td>4</td>\n",
       "      <td>2010</td>\n",
       "      <td>1</td>\n",
       "      <td>1</td>\n",
       "      <td>3</td>\n",
       "      <td>NaN</td>\n",
       "      <td>-21</td>\n",
       "      <td>-14.0</td>\n",
       "      <td>1019.0</td>\n",
       "      <td>NW</td>\n",
       "      <td>9.84</td>\n",
       "      <td>0</td>\n",
       "      <td>0</td>\n",
       "    </tr>\n",
       "    <tr>\n",
       "      <th>4</th>\n",
       "      <td>5</td>\n",
       "      <td>2010</td>\n",
       "      <td>1</td>\n",
       "      <td>1</td>\n",
       "      <td>4</td>\n",
       "      <td>NaN</td>\n",
       "      <td>-20</td>\n",
       "      <td>-12.0</td>\n",
       "      <td>1018.0</td>\n",
       "      <td>NW</td>\n",
       "      <td>12.97</td>\n",
       "      <td>0</td>\n",
       "      <td>0</td>\n",
       "    </tr>\n",
       "    <tr>\n",
       "      <th>5</th>\n",
       "      <td>6</td>\n",
       "      <td>2010</td>\n",
       "      <td>1</td>\n",
       "      <td>1</td>\n",
       "      <td>5</td>\n",
       "      <td>NaN</td>\n",
       "      <td>-19</td>\n",
       "      <td>-10.0</td>\n",
       "      <td>1017.0</td>\n",
       "      <td>NW</td>\n",
       "      <td>16.10</td>\n",
       "      <td>0</td>\n",
       "      <td>0</td>\n",
       "    </tr>\n",
       "    <tr>\n",
       "      <th>6</th>\n",
       "      <td>7</td>\n",
       "      <td>2010</td>\n",
       "      <td>1</td>\n",
       "      <td>1</td>\n",
       "      <td>6</td>\n",
       "      <td>NaN</td>\n",
       "      <td>-19</td>\n",
       "      <td>-9.0</td>\n",
       "      <td>1017.0</td>\n",
       "      <td>NW</td>\n",
       "      <td>19.23</td>\n",
       "      <td>0</td>\n",
       "      <td>0</td>\n",
       "    </tr>\n",
       "  </tbody>\n",
       "</table>\n",
       "</div>"
      ],
      "text/plain": [
       "   No  year  month  day  hour  pm2.5  DEWP  TEMP    PRES cbwd    Iws  Is  Ir\n",
       "0   1  2010      1    1     0    NaN   -21 -11.0  1021.0   NW   1.79   0   0\n",
       "1   2  2010      1    1     1    NaN   -21 -12.0  1020.0   NW   4.92   0   0\n",
       "2   3  2010      1    1     2    NaN   -21 -11.0  1019.0   NW   6.71   0   0\n",
       "3   4  2010      1    1     3    NaN   -21 -14.0  1019.0   NW   9.84   0   0\n",
       "4   5  2010      1    1     4    NaN   -20 -12.0  1018.0   NW  12.97   0   0\n",
       "5   6  2010      1    1     5    NaN   -19 -10.0  1017.0   NW  16.10   0   0\n",
       "6   7  2010      1    1     6    NaN   -19  -9.0  1017.0   NW  19.23   0   0"
      ]
     },
     "execution_count": 83,
     "metadata": {},
     "output_type": "execute_result"
    }
   ],
   "source": [
    "# load libraries; read in data\n",
    "import numpy as np\n",
    "import matplotlib.pyplot as plt\n",
    "import pandas as pd\n",
    "import seaborn as sns\n",
    "import statsmodels as sm\n",
    "import statsmodels.formula.api as smf\n",
    "import statsmodels.api as sma\n",
    "from statsmodels.graphics.api import abline_plot\n",
    "%matplotlib inline\n",
    "\n",
    "beijing_pm = pd.read_csv('Beijing_PM2.5.csv')\n",
    "beijing_pm.head(7)"
   ]
  },
  {
   "cell_type": "markdown",
   "metadata": {},
   "source": [
    "#### Description of Data\n",
    "\n",
    "The data can be found, along with descriptions, at the following source: http://archive.ics.uci.edu/ml/datasets/Beijing+PM2.5+Data\n",
    "\n",
    "**Attribute Information:**<br>\n",
    "**No:** row number <br>\n",
    "**year:** year of data in this row <br>\n",
    "**month:** month of data in this row <br>\n",
    "**day:** day of data in this row <br>\n",
    "**hour:** hour of data in this row <br>\n",
    "**pm2.5:** PM2.5 concentration (ug/m^3) <br>\n",
    "**DEWP:** Dew Point (â„ƒ) <br>\n",
    "**TEMP:** Temperature (â„ƒ) <br>\n",
    "**PRES:** Pressure (hPa) <br>\n",
    "**cbwd:** Combined wind direction <br>\n",
    "**Iws:** Cumulated wind speed (m/s) <br>\n",
    "**Is:** Cumulated hours of snow <br>\n",
    "**Ir:** Cumulated hours of rain <br>"
   ]
  },
  {
   "cell_type": "markdown",
   "metadata": {},
   "source": [
    "**1.1)** Data cleaning: As you can see, there are some *n/a* values in our dataframe that need to be removed. Do so, and while you're at it, remove any columns specifying date or time and the wind direction column, as we will not be using these in our analysis. Additionally, decimals should not be used in column names, as this can create problems further down the road - rename 'PM2.5' to simply 'PM25'. (The data are also messy in that the 'I' (i) in the last three columns is indistiguishable from a lower-case 'l' (L) in python's font. Please feel free to rename these to your choosing, however this is not required.) Show the first 5 rows of the cleaned dataset below, then print a descriptive table of the dataset (mean, stdev, etc). **(5 points)**"
   ]
  },
  {
   "cell_type": "code",
   "execution_count": 3,
   "metadata": {},
   "outputs": [],
   "source": [
    "beijing_pm2= beijing_pm.dropna()"
   ]
  },
  {
   "cell_type": "code",
   "execution_count": 4,
   "metadata": {},
   "outputs": [
    {
     "data": {
      "text/plain": [
       "Index(['No', 'year', 'month', 'day', 'hour', 'pm2.5', 'DEWP', 'TEMP', 'PRES',\n",
       "       'cbwd', 'Iws', 'Is', 'Ir'],\n",
       "      dtype='object')"
      ]
     },
     "execution_count": 4,
     "metadata": {},
     "output_type": "execute_result"
    }
   ],
   "source": [
    "beijing_pm2.columns\n",
    "## when list the column, I should not use '()'"
   ]
  },
  {
   "cell_type": "code",
   "execution_count": 5,
   "metadata": {},
   "outputs": [
    {
     "name": "stderr",
     "output_type": "stream",
     "text": [
      "/anaconda3/lib/python3.6/site-packages/pandas/core/frame.py:3694: SettingWithCopyWarning: \n",
      "A value is trying to be set on a copy of a slice from a DataFrame\n",
      "\n",
      "See the caveats in the documentation: http://pandas.pydata.org/pandas-docs/stable/indexing.html#indexing-view-versus-copy\n",
      "  errors=errors)\n"
     ]
    }
   ],
   "source": [
    "beijing_pm2.drop(['year', 'month', 'day', 'hour', 'cbwd'],axis=1,inplace=True)\n"
   ]
  },
  {
   "cell_type": "code",
   "execution_count": 6,
   "metadata": {},
   "outputs": [
    {
     "data": {
      "text/html": [
       "<div>\n",
       "<style scoped>\n",
       "    .dataframe tbody tr th:only-of-type {\n",
       "        vertical-align: middle;\n",
       "    }\n",
       "\n",
       "    .dataframe tbody tr th {\n",
       "        vertical-align: top;\n",
       "    }\n",
       "\n",
       "    .dataframe thead th {\n",
       "        text-align: right;\n",
       "    }\n",
       "</style>\n",
       "<table border=\"1\" class=\"dataframe\">\n",
       "  <thead>\n",
       "    <tr style=\"text-align: right;\">\n",
       "      <th></th>\n",
       "      <th>No</th>\n",
       "      <th>pm25</th>\n",
       "      <th>DEWP</th>\n",
       "      <th>TEMP</th>\n",
       "      <th>PRES</th>\n",
       "      <th>iws</th>\n",
       "      <th>ss</th>\n",
       "      <th>ir</th>\n",
       "    </tr>\n",
       "  </thead>\n",
       "  <tbody>\n",
       "    <tr>\n",
       "      <th>24</th>\n",
       "      <td>25</td>\n",
       "      <td>129.0</td>\n",
       "      <td>-16</td>\n",
       "      <td>-4.0</td>\n",
       "      <td>1020.0</td>\n",
       "      <td>1.79</td>\n",
       "      <td>0</td>\n",
       "      <td>0</td>\n",
       "    </tr>\n",
       "    <tr>\n",
       "      <th>25</th>\n",
       "      <td>26</td>\n",
       "      <td>148.0</td>\n",
       "      <td>-15</td>\n",
       "      <td>-4.0</td>\n",
       "      <td>1020.0</td>\n",
       "      <td>2.68</td>\n",
       "      <td>0</td>\n",
       "      <td>0</td>\n",
       "    </tr>\n",
       "    <tr>\n",
       "      <th>26</th>\n",
       "      <td>27</td>\n",
       "      <td>159.0</td>\n",
       "      <td>-11</td>\n",
       "      <td>-5.0</td>\n",
       "      <td>1021.0</td>\n",
       "      <td>3.57</td>\n",
       "      <td>0</td>\n",
       "      <td>0</td>\n",
       "    </tr>\n",
       "    <tr>\n",
       "      <th>27</th>\n",
       "      <td>28</td>\n",
       "      <td>181.0</td>\n",
       "      <td>-7</td>\n",
       "      <td>-5.0</td>\n",
       "      <td>1022.0</td>\n",
       "      <td>5.36</td>\n",
       "      <td>1</td>\n",
       "      <td>0</td>\n",
       "    </tr>\n",
       "    <tr>\n",
       "      <th>28</th>\n",
       "      <td>29</td>\n",
       "      <td>138.0</td>\n",
       "      <td>-7</td>\n",
       "      <td>-5.0</td>\n",
       "      <td>1022.0</td>\n",
       "      <td>6.25</td>\n",
       "      <td>2</td>\n",
       "      <td>0</td>\n",
       "    </tr>\n",
       "  </tbody>\n",
       "</table>\n",
       "</div>"
      ],
      "text/plain": [
       "    No   pm25  DEWP  TEMP    PRES   iws  ss  ir\n",
       "24  25  129.0   -16  -4.0  1020.0  1.79   0   0\n",
       "25  26  148.0   -15  -4.0  1020.0  2.68   0   0\n",
       "26  27  159.0   -11  -5.0  1021.0  3.57   0   0\n",
       "27  28  181.0    -7  -5.0  1022.0  5.36   1   0\n",
       "28  29  138.0    -7  -5.0  1022.0  6.25   2   0"
      ]
     },
     "execution_count": 6,
     "metadata": {},
     "output_type": "execute_result"
    }
   ],
   "source": [
    "beijing_pm2 = beijing_pm2.rename(columns = {'Iws':'iws','Is':'ss','Ir':'ir','pm2.5':'pm25'})\n",
    "beijing_pm2.head(5)"
   ]
  },
  {
   "cell_type": "code",
   "execution_count": 7,
   "metadata": {},
   "outputs": [
    {
     "data": {
      "text/html": [
       "<div>\n",
       "<style scoped>\n",
       "    .dataframe tbody tr th:only-of-type {\n",
       "        vertical-align: middle;\n",
       "    }\n",
       "\n",
       "    .dataframe tbody tr th {\n",
       "        vertical-align: top;\n",
       "    }\n",
       "\n",
       "    .dataframe thead th {\n",
       "        text-align: right;\n",
       "    }\n",
       "</style>\n",
       "<table border=\"1\" class=\"dataframe\">\n",
       "  <thead>\n",
       "    <tr style=\"text-align: right;\">\n",
       "      <th></th>\n",
       "      <th>No</th>\n",
       "      <th>pm25</th>\n",
       "      <th>DEWP</th>\n",
       "      <th>TEMP</th>\n",
       "      <th>PRES</th>\n",
       "      <th>iws</th>\n",
       "      <th>ss</th>\n",
       "      <th>ir</th>\n",
       "    </tr>\n",
       "  </thead>\n",
       "  <tbody>\n",
       "    <tr>\n",
       "      <th>count</th>\n",
       "      <td>41757.000000</td>\n",
       "      <td>41757.000000</td>\n",
       "      <td>41757.000000</td>\n",
       "      <td>41757.000000</td>\n",
       "      <td>41757.000000</td>\n",
       "      <td>41757.000000</td>\n",
       "      <td>41757.000000</td>\n",
       "      <td>41757.000000</td>\n",
       "    </tr>\n",
       "    <tr>\n",
       "      <th>mean</th>\n",
       "      <td>22279.380104</td>\n",
       "      <td>98.613215</td>\n",
       "      <td>1.750174</td>\n",
       "      <td>12.401561</td>\n",
       "      <td>1016.442896</td>\n",
       "      <td>23.866747</td>\n",
       "      <td>0.055344</td>\n",
       "      <td>0.194866</td>\n",
       "    </tr>\n",
       "    <tr>\n",
       "      <th>std</th>\n",
       "      <td>12658.168415</td>\n",
       "      <td>92.050387</td>\n",
       "      <td>14.433658</td>\n",
       "      <td>12.175215</td>\n",
       "      <td>10.300733</td>\n",
       "      <td>49.617495</td>\n",
       "      <td>0.778875</td>\n",
       "      <td>1.418165</td>\n",
       "    </tr>\n",
       "    <tr>\n",
       "      <th>min</th>\n",
       "      <td>25.000000</td>\n",
       "      <td>0.000000</td>\n",
       "      <td>-40.000000</td>\n",
       "      <td>-19.000000</td>\n",
       "      <td>991.000000</td>\n",
       "      <td>0.450000</td>\n",
       "      <td>0.000000</td>\n",
       "      <td>0.000000</td>\n",
       "    </tr>\n",
       "    <tr>\n",
       "      <th>25%</th>\n",
       "      <td>11464.000000</td>\n",
       "      <td>29.000000</td>\n",
       "      <td>-10.000000</td>\n",
       "      <td>2.000000</td>\n",
       "      <td>1008.000000</td>\n",
       "      <td>1.790000</td>\n",
       "      <td>0.000000</td>\n",
       "      <td>0.000000</td>\n",
       "    </tr>\n",
       "    <tr>\n",
       "      <th>50%</th>\n",
       "      <td>22435.000000</td>\n",
       "      <td>72.000000</td>\n",
       "      <td>2.000000</td>\n",
       "      <td>14.000000</td>\n",
       "      <td>1016.000000</td>\n",
       "      <td>5.370000</td>\n",
       "      <td>0.000000</td>\n",
       "      <td>0.000000</td>\n",
       "    </tr>\n",
       "    <tr>\n",
       "      <th>75%</th>\n",
       "      <td>33262.000000</td>\n",
       "      <td>137.000000</td>\n",
       "      <td>15.000000</td>\n",
       "      <td>23.000000</td>\n",
       "      <td>1025.000000</td>\n",
       "      <td>21.910000</td>\n",
       "      <td>0.000000</td>\n",
       "      <td>0.000000</td>\n",
       "    </tr>\n",
       "    <tr>\n",
       "      <th>max</th>\n",
       "      <td>43824.000000</td>\n",
       "      <td>994.000000</td>\n",
       "      <td>28.000000</td>\n",
       "      <td>42.000000</td>\n",
       "      <td>1046.000000</td>\n",
       "      <td>565.490000</td>\n",
       "      <td>27.000000</td>\n",
       "      <td>36.000000</td>\n",
       "    </tr>\n",
       "  </tbody>\n",
       "</table>\n",
       "</div>"
      ],
      "text/plain": [
       "                 No          pm25          DEWP          TEMP          PRES  \\\n",
       "count  41757.000000  41757.000000  41757.000000  41757.000000  41757.000000   \n",
       "mean   22279.380104     98.613215      1.750174     12.401561   1016.442896   \n",
       "std    12658.168415     92.050387     14.433658     12.175215     10.300733   \n",
       "min       25.000000      0.000000    -40.000000    -19.000000    991.000000   \n",
       "25%    11464.000000     29.000000    -10.000000      2.000000   1008.000000   \n",
       "50%    22435.000000     72.000000      2.000000     14.000000   1016.000000   \n",
       "75%    33262.000000    137.000000     15.000000     23.000000   1025.000000   \n",
       "max    43824.000000    994.000000     28.000000     42.000000   1046.000000   \n",
       "\n",
       "                iws            ss            ir  \n",
       "count  41757.000000  41757.000000  41757.000000  \n",
       "mean      23.866747      0.055344      0.194866  \n",
       "std       49.617495      0.778875      1.418165  \n",
       "min        0.450000      0.000000      0.000000  \n",
       "25%        1.790000      0.000000      0.000000  \n",
       "50%        5.370000      0.000000      0.000000  \n",
       "75%       21.910000      0.000000      0.000000  \n",
       "max      565.490000     27.000000     36.000000  "
      ]
     },
     "execution_count": 7,
     "metadata": {},
     "output_type": "execute_result"
    }
   ],
   "source": [
    "beijing_pm2.describe()"
   ]
  },
  {
   "cell_type": "markdown",
   "metadata": {},
   "source": [
    "**1.2)** Take an initial look at the correlations among the variables to get a better intuition for the data. Plot the correlations in a heatmap table using the Seaborn library with the 'seismic' colormap (this provides for clearer visualization, and lets important values \"jump out\" at you more immediately - it is also comes across as less-scary when showing to non-data scientists). Try to adjust the figure-size so that it is not too compressed. Please include a brief summary of your observations.  **(5 points)**"
   ]
  },
  {
   "cell_type": "code",
   "execution_count": 9,
   "metadata": {},
   "outputs": [
    {
     "data": {
      "text/html": [
       "<div>\n",
       "<style scoped>\n",
       "    .dataframe tbody tr th:only-of-type {\n",
       "        vertical-align: middle;\n",
       "    }\n",
       "\n",
       "    .dataframe tbody tr th {\n",
       "        vertical-align: top;\n",
       "    }\n",
       "\n",
       "    .dataframe thead th {\n",
       "        text-align: right;\n",
       "    }\n",
       "</style>\n",
       "<table border=\"1\" class=\"dataframe\">\n",
       "  <thead>\n",
       "    <tr style=\"text-align: right;\">\n",
       "      <th></th>\n",
       "      <th>No</th>\n",
       "      <th>pm25</th>\n",
       "      <th>DEWP</th>\n",
       "      <th>TEMP</th>\n",
       "      <th>PRES</th>\n",
       "      <th>iws</th>\n",
       "      <th>ss</th>\n",
       "      <th>ir</th>\n",
       "    </tr>\n",
       "  </thead>\n",
       "  <tbody>\n",
       "    <tr>\n",
       "      <th>No</th>\n",
       "      <td>1.000000</td>\n",
       "      <td>-0.017706</td>\n",
       "      <td>0.053953</td>\n",
       "      <td>0.088675</td>\n",
       "      <td>-0.025997</td>\n",
       "      <td>-0.064034</td>\n",
       "      <td>-0.032231</td>\n",
       "      <td>-0.018065</td>\n",
       "    </tr>\n",
       "    <tr>\n",
       "      <th>pm25</th>\n",
       "      <td>-0.017706</td>\n",
       "      <td>1.000000</td>\n",
       "      <td>0.171423</td>\n",
       "      <td>-0.090534</td>\n",
       "      <td>-0.047282</td>\n",
       "      <td>-0.247784</td>\n",
       "      <td>0.019266</td>\n",
       "      <td>-0.051369</td>\n",
       "    </tr>\n",
       "    <tr>\n",
       "      <th>DEWP</th>\n",
       "      <td>0.053953</td>\n",
       "      <td>0.171423</td>\n",
       "      <td>1.000000</td>\n",
       "      <td>0.823821</td>\n",
       "      <td>-0.777722</td>\n",
       "      <td>-0.293106</td>\n",
       "      <td>-0.034925</td>\n",
       "      <td>0.125341</td>\n",
       "    </tr>\n",
       "    <tr>\n",
       "      <th>TEMP</th>\n",
       "      <td>0.088675</td>\n",
       "      <td>-0.090534</td>\n",
       "      <td>0.823821</td>\n",
       "      <td>1.000000</td>\n",
       "      <td>-0.826903</td>\n",
       "      <td>-0.149613</td>\n",
       "      <td>-0.094785</td>\n",
       "      <td>0.049544</td>\n",
       "    </tr>\n",
       "    <tr>\n",
       "      <th>PRES</th>\n",
       "      <td>-0.025997</td>\n",
       "      <td>-0.047282</td>\n",
       "      <td>-0.777722</td>\n",
       "      <td>-0.826903</td>\n",
       "      <td>1.000000</td>\n",
       "      <td>0.178871</td>\n",
       "      <td>0.070537</td>\n",
       "      <td>-0.080532</td>\n",
       "    </tr>\n",
       "    <tr>\n",
       "      <th>iws</th>\n",
       "      <td>-0.064034</td>\n",
       "      <td>-0.247784</td>\n",
       "      <td>-0.293106</td>\n",
       "      <td>-0.149613</td>\n",
       "      <td>0.178871</td>\n",
       "      <td>1.000000</td>\n",
       "      <td>0.022630</td>\n",
       "      <td>-0.009157</td>\n",
       "    </tr>\n",
       "    <tr>\n",
       "      <th>ss</th>\n",
       "      <td>-0.032231</td>\n",
       "      <td>0.019266</td>\n",
       "      <td>-0.034925</td>\n",
       "      <td>-0.094785</td>\n",
       "      <td>0.070537</td>\n",
       "      <td>0.022630</td>\n",
       "      <td>1.000000</td>\n",
       "      <td>-0.009764</td>\n",
       "    </tr>\n",
       "    <tr>\n",
       "      <th>ir</th>\n",
       "      <td>-0.018065</td>\n",
       "      <td>-0.051369</td>\n",
       "      <td>0.125341</td>\n",
       "      <td>0.049544</td>\n",
       "      <td>-0.080532</td>\n",
       "      <td>-0.009157</td>\n",
       "      <td>-0.009764</td>\n",
       "      <td>1.000000</td>\n",
       "    </tr>\n",
       "  </tbody>\n",
       "</table>\n",
       "</div>"
      ],
      "text/plain": [
       "            No      pm25      DEWP      TEMP      PRES       iws        ss  \\\n",
       "No    1.000000 -0.017706  0.053953  0.088675 -0.025997 -0.064034 -0.032231   \n",
       "pm25 -0.017706  1.000000  0.171423 -0.090534 -0.047282 -0.247784  0.019266   \n",
       "DEWP  0.053953  0.171423  1.000000  0.823821 -0.777722 -0.293106 -0.034925   \n",
       "TEMP  0.088675 -0.090534  0.823821  1.000000 -0.826903 -0.149613 -0.094785   \n",
       "PRES -0.025997 -0.047282 -0.777722 -0.826903  1.000000  0.178871  0.070537   \n",
       "iws  -0.064034 -0.247784 -0.293106 -0.149613  0.178871  1.000000  0.022630   \n",
       "ss   -0.032231  0.019266 -0.034925 -0.094785  0.070537  0.022630  1.000000   \n",
       "ir   -0.018065 -0.051369  0.125341  0.049544 -0.080532 -0.009157 -0.009764   \n",
       "\n",
       "            ir  \n",
       "No   -0.018065  \n",
       "pm25 -0.051369  \n",
       "DEWP  0.125341  \n",
       "TEMP  0.049544  \n",
       "PRES -0.080532  \n",
       "iws  -0.009157  \n",
       "ss   -0.009764  \n",
       "ir    1.000000  "
      ]
     },
     "execution_count": 9,
     "metadata": {},
     "output_type": "execute_result"
    }
   ],
   "source": [
    "beijing_pm2.corr()"
   ]
  },
  {
   "cell_type": "code",
   "execution_count": 10,
   "metadata": {},
   "outputs": [
    {
     "data": {
      "text/plain": [
       "Text(0.5,1,'Heatmap for variables correlation')"
      ]
     },
     "execution_count": 10,
     "metadata": {},
     "output_type": "execute_result"
    },
    {
     "data": {
      "image/png": "[encoded data removed]",
      "text/plain": [
       "<Figure size 720x576 with 2 Axes>"
      ]
     },
     "metadata": {},
     "output_type": "display_data"
    }
   ],
   "source": [
    "plt.figure(figsize=(10,8))\n",
    "sns.heatmap(beijing_pm2.corr(), fmt=\"g\",cmap='seismic')\n",
    "plt.xticks(fontsize=16)\n",
    "plt.yticks(fontsize=12)\n",
    "plt.title(\"Heatmap for variables correlation\",fontsize=20)"
   ]
  },
  {
   "cell_type": "markdown",
   "metadata": {},
   "source": [
    "**Summary:** The Pressure has strong negative correlations with both Dew Point and Temperature, so when fitting the PM2.5 concentration models, I will not consider add all three variables. It seems Cumulated wind speed, Cumulated hour of rain, Dew point and temperature all have moderate or strong correlation with PM2.5 concentration."
   ]
  },
  {
   "cell_type": "markdown",
   "metadata": {},
   "source": [
    "**1.3)** Using the independant variable with the strongest correlation (note: 'strong' is defined by absolute value) to PM2.5 concentration, run a single variable regression. Print the results, and write a brief interpretation of the R-squared. **(10 points)**"
   ]
  },
  {
   "cell_type": "code",
   "execution_count": 11,
   "metadata": {},
   "outputs": [
    {
     "name": "stdout",
     "output_type": "stream",
     "text": [
      "                            OLS Regression Results                            \n",
      "==============================================================================\n",
      "Dep. Variable:                   pm25   R-squared:                       0.061\n",
      "Model:                            OLS   Adj. R-squared:                  0.061\n",
      "Method:                 Least Squares   F-statistic:                     2731.\n",
      "Date:                Fri, 05 Oct 2018   Prob (F-statistic):               0.00\n",
      "Time:                        22:50:29   Log-Likelihood:            -2.4677e+05\n",
      "No. Observations:               41757   AIC:                         4.935e+05\n",
      "Df Residuals:                   41755   BIC:                         4.936e+05\n",
      "Df Model:                           1                                         \n",
      "Covariance Type:            nonrobust                                         \n",
      "==============================================================================\n",
      "                 coef    std err          t      P>|t|      [0.025      0.975]\n",
      "------------------------------------------------------------------------------\n",
      "Intercept    109.5845      0.484    226.280      0.000     108.635     110.534\n",
      "iws           -0.4597      0.009    -52.262      0.000      -0.477      -0.442\n",
      "==============================================================================\n",
      "Omnibus:                    15556.707   Durbin-Watson:                   0.081\n",
      "Prob(Omnibus):                  0.000   Jarque-Bera (JB):            66794.778\n",
      "Skew:                           1.810   Prob(JB):                         0.00\n",
      "Kurtosis:                       8.029   Cond. No.                         61.1\n",
      "==============================================================================\n",
      "\n",
      "Warnings:\n",
      "[1] Standard Errors assume that the covariance matrix of the errors is correctly specified.\n"
     ]
    }
   ],
   "source": [
    "mod = smf.ols(formula = 'pm25 ~ iws', data = beijing_pm2).fit()\n",
    "print(mod.summary())"
   ]
  },
  {
   "cell_type": "markdown",
   "metadata": {},
   "source": [
    "**Summary:** The strongest correlation for PM2.5 is cumulated wind speed varieble. The adjusted R-square is only 0.061, which means the variable  can translate 6.1% part of the sample distribution."
   ]
  },
  {
   "cell_type": "markdown",
   "metadata": {},
   "source": [
    "**1.4)** Now fit the regression with all of the independant variables. How does the R_squared change? What does this mean? How might colinearity impact our model? **(12 points)**"
   ]
  },
  {
   "cell_type": "code",
   "execution_count": 12,
   "metadata": {},
   "outputs": [
    {
     "name": "stdout",
     "output_type": "stream",
     "text": [
      "                            OLS Regression Results                            \n",
      "==============================================================================\n",
      "Dep. Variable:                   pm25   R-squared:                       0.236\n",
      "Model:                            OLS   Adj. R-squared:                  0.236\n",
      "Method:                 Least Squares   F-statistic:                     2151.\n",
      "Date:                Fri, 05 Oct 2018   Prob (F-statistic):               0.00\n",
      "Time:                        22:50:31   Log-Likelihood:            -2.4247e+05\n",
      "No. Observations:               41757   AIC:                         4.849e+05\n",
      "Df Residuals:                   41750   BIC:                         4.850e+05\n",
      "Df Model:                           6                                         \n",
      "Covariance Type:            nonrobust                                         \n",
      "==============================================================================\n",
      "                 coef    std err          t      P>|t|      [0.025      0.975]\n",
      "------------------------------------------------------------------------------\n",
      "Intercept   1728.4313     72.990     23.680      0.000    1585.369    1871.493\n",
      "iws           -0.2616      0.008    -31.015      0.000      -0.278      -0.245\n",
      "ir            -7.2063      0.282    -25.593      0.000      -7.758      -6.654\n",
      "DEWP           4.2822      0.053     80.109      0.000       4.177       4.387\n",
      "TEMP          -6.0681      0.068    -88.764      0.000      -6.202      -5.934\n",
      "PRES          -1.5291      0.071    -21.431      0.000      -1.669      -1.389\n",
      "ss            -2.2669      0.510     -4.448      0.000      -3.266      -1.268\n",
      "==============================================================================\n",
      "Omnibus:                    14925.190   Durbin-Watson:                   0.109\n",
      "Prob(Omnibus):                  0.000   Jarque-Bera (JB):            72241.887\n",
      "Skew:                           1.678   Prob(JB):                         0.00\n",
      "Kurtosis:                       8.501   Cond. No.                     1.89e+05\n",
      "==============================================================================\n",
      "\n",
      "Warnings:\n",
      "[1] Standard Errors assume that the covariance matrix of the errors is correctly specified.\n",
      "[2] The condition number is large, 1.89e+05. This might indicate that there are\n",
      "strong multicollinearity or other numerical problems.\n"
     ]
    }
   ],
   "source": [
    "mod = smf.ols(formula = 'pm25 ~ iws +ir + DEWP + TEMP + PRES + ss', data = beijing_pm2).fit()\n",
    "print(mod.summary())"
   ]
  },
  {
   "cell_type": "markdown",
   "metadata": {},
   "source": [
    "**Summary:** R square becomes to 0.236, which is greatly improved, these variables can describe 23.6% of the deviation of PM2.5 concentration.\n",
    "However, colinearity may let my model 'overfitting', which makes the coefficient of one variable have larger standard deviation and have no realistic meaning."
   ]
  },
  {
   "cell_type": "markdown",
   "metadata": {},
   "source": [
    "**1.5)** Run another regression on the data, this time removing the \"DEWP\" and \"PRES\" independant variables. What happens to the coefficients for the remaining variables? Why might this be the case? (Hint: look at your correlation table above) **(12 points)**"
   ]
  },
  {
   "cell_type": "code",
   "execution_count": 13,
   "metadata": {},
   "outputs": [
    {
     "name": "stdout",
     "output_type": "stream",
     "text": [
      "                            OLS Regression Results                            \n",
      "==============================================================================\n",
      "Dep. Variable:                   pm25   R-squared:                       0.080\n",
      "Model:                            OLS   Adj. R-squared:                  0.080\n",
      "Method:                 Least Squares   F-statistic:                     913.4\n",
      "Date:                Fri, 05 Oct 2018   Prob (F-statistic):               0.00\n",
      "Time:                        22:50:32   Log-Likelihood:            -2.4634e+05\n",
      "No. Observations:               41757   AIC:                         4.927e+05\n",
      "Df Residuals:                   41752   BIC:                         4.927e+05\n",
      "Df Model:                           4                                         \n",
      "Covariance Type:            nonrobust                                         \n",
      "==============================================================================\n",
      "                 coef    std err          t      P>|t|      [0.025      0.975]\n",
      "------------------------------------------------------------------------------\n",
      "Intercept    122.8806      0.681    180.543      0.000     121.547     124.215\n",
      "iws           -0.4963      0.009    -56.358      0.000      -0.514      -0.479\n",
      "ir            -3.0767      0.305    -10.088      0.000      -3.675      -2.479\n",
      "TEMP          -0.9601      0.036    -26.610      0.000      -1.031      -0.889\n",
      "ss             1.5151      0.557      2.719      0.007       0.423       2.607\n",
      "==============================================================================\n",
      "Omnibus:                    14334.505   Durbin-Watson:                   0.084\n",
      "Prob(Omnibus):                  0.000   Jarque-Bera (JB):            55969.005\n",
      "Skew:                           1.688   Prob(JB):                         0.00\n",
      "Kurtosis:                       7.557   Cond. No.                         88.0\n",
      "==============================================================================\n",
      "\n",
      "Warnings:\n",
      "[1] Standard Errors assume that the covariance matrix of the errors is correctly specified.\n"
     ]
    }
   ],
   "source": [
    "mod = smf.ols(formula = 'pm25 ~ iws +ir +  TEMP  + ss', data = beijing_pm2).fit()\n",
    "print(mod.summary())"
   ]
  },
  {
   "cell_type": "markdown",
   "metadata": {},
   "source": [
    "**Summary:** Temperate is positively correlated with Dew point and negatively correlated with Pressure. The coefficient of TEMP changed dramatically from  -6.07 to -0.96, the coefficient of ir also change from -7.21 to -3.08. "
   ]
  },
  {
   "cell_type": "markdown",
   "metadata": {},
   "source": [
    "**1.6)** Calculate (either in python or by hand) the impact of a one standard deviation increase in *temperature* and a one standard deviation increase in *cumulative wind speed* for the models in **1.4** & **1.5**. **(6 points)**"
   ]
  },
  {
   "cell_type": "markdown",
   "metadata": {},
   "source": [
    "Answers: the STD deviation of temperature decreases 0.032 and cumulative wind speed increase 0.001."
   ]
  },
  {
   "cell_type": "markdown",
   "metadata": {},
   "source": [
    "### Problem 2 - Polynomial Regression (30 points)"
   ]
  },
  {
   "cell_type": "code",
   "execution_count": 89,
   "metadata": {},
   "outputs": [
    {
     "data": {
      "text/html": [
       "<div>\n",
       "<style scoped>\n",
       "    .dataframe tbody tr th:only-of-type {\n",
       "        vertical-align: middle;\n",
       "    }\n",
       "\n",
       "    .dataframe tbody tr th {\n",
       "        vertical-align: top;\n",
       "    }\n",
       "\n",
       "    .dataframe thead th {\n",
       "        text-align: right;\n",
       "    }\n",
       "</style>\n",
       "<table border=\"1\" class=\"dataframe\">\n",
       "  <thead>\n",
       "    <tr style=\"text-align: right;\">\n",
       "      <th></th>\n",
       "      <th>y</th>\n",
       "      <th>x1</th>\n",
       "    </tr>\n",
       "  </thead>\n",
       "  <tbody>\n",
       "    <tr>\n",
       "      <th>0</th>\n",
       "      <td>2.613388</td>\n",
       "      <td>-0.50</td>\n",
       "    </tr>\n",
       "    <tr>\n",
       "      <th>1</th>\n",
       "      <td>2.170351</td>\n",
       "      <td>-0.32</td>\n",
       "    </tr>\n",
       "    <tr>\n",
       "      <th>2</th>\n",
       "      <td>0.049546</td>\n",
       "      <td>-0.14</td>\n",
       "    </tr>\n",
       "    <tr>\n",
       "      <th>3</th>\n",
       "      <td>1.158258</td>\n",
       "      <td>0.04</td>\n",
       "    </tr>\n",
       "    <tr>\n",
       "      <th>4</th>\n",
       "      <td>1.397567</td>\n",
       "      <td>0.22</td>\n",
       "    </tr>\n",
       "  </tbody>\n",
       "</table>\n",
       "</div>"
      ],
      "text/plain": [
       "          y    x1\n",
       "0  2.613388 -0.50\n",
       "1  2.170351 -0.32\n",
       "2  0.049546 -0.14\n",
       "3  1.158258  0.04\n",
       "4  1.397567  0.22"
      ]
     },
     "execution_count": 89,
     "metadata": {},
     "output_type": "execute_result"
    }
   ],
   "source": [
    "# let's create some artificial data\n",
    "y  = [2.61338821976, 2.17035124741, 0.0495462311938, 1.15825768821, 1.39756687454, 1.77323953196]\n",
    "x1 = [-0.5, -0.32, -0.14, 0.04, 0.22, 0.4]\n",
    "df = pd.DataFrame(data=[y, x1], index=(['y', 'x1'])).T\n",
    "#T means to transpose row and column.\n",
    "df.head()"
   ]
  },
  {
   "cell_type": "markdown",
   "metadata": {},
   "source": [
    "**2.1)** Draw a scatter plot of the data (no lines required). Does there seem to be an apparent line of best fit? **(5 points)**"
   ]
  },
  {
   "cell_type": "code",
   "execution_count": 90,
   "metadata": {},
   "outputs": [
    {
     "name": "stdout",
     "output_type": "stream",
     "text": [
      "Populating the interactive namespace from numpy and matplotlib\n"
     ]
    },
    {
     "data": {
      "text/plain": [
       "Text(0.5,1,'Scatter of y~x1')"
      ]
     },
     "execution_count": 90,
     "metadata": {},
     "output_type": "execute_result"
    },
    {
     "data": {
      "image/png": "[encoded data removed]",
      "text/plain": [
       "<Figure size 432x288 with 1 Axes>"
      ]
     },
     "metadata": {},
     "output_type": "display_data"
    }
   ],
   "source": [
    "%pylab inline\n",
    "plt.plot(df['x1'],df['y'], 'o',c='b')\n",
    "plt.xlabel(\"x1\",fontsize=16)\n",
    "plt.ylabel(\"y\",fontsize=16)\n",
    "plt.title(\"Scatter of y~x1\",fontsize=20)"
   ]
  },
  {
   "cell_type": "markdown",
   "metadata": {},
   "source": [
    "**Summary:** It seems no such apparent line  to fit."
   ]
  },
  {
   "cell_type": "markdown",
   "metadata": {},
   "source": [
    "**2.2)** Our dependant variable *y*, in this case, does not appear to be a linear function of *x*. Create new columns in the dataframe for $x^2$, $x^3$, and $x^4$. **(5 points)**"
   ]
  },
  {
   "cell_type": "code",
   "execution_count": 91,
   "metadata": {},
   "outputs": [
    {
     "data": {
      "text/html": [
       "<div>\n",
       "<style scoped>\n",
       "    .dataframe tbody tr th:only-of-type {\n",
       "        vertical-align: middle;\n",
       "    }\n",
       "\n",
       "    .dataframe tbody tr th {\n",
       "        vertical-align: top;\n",
       "    }\n",
       "\n",
       "    .dataframe thead th {\n",
       "        text-align: right;\n",
       "    }\n",
       "</style>\n",
       "<table border=\"1\" class=\"dataframe\">\n",
       "  <thead>\n",
       "    <tr style=\"text-align: right;\">\n",
       "      <th></th>\n",
       "      <th>y</th>\n",
       "      <th>x1</th>\n",
       "      <th>x2</th>\n",
       "      <th>x3</th>\n",
       "      <th>x4</th>\n",
       "    </tr>\n",
       "  </thead>\n",
       "  <tbody>\n",
       "    <tr>\n",
       "      <th>0</th>\n",
       "      <td>2.613388</td>\n",
       "      <td>-0.50</td>\n",
       "      <td>0.2500</td>\n",
       "      <td>-0.125000</td>\n",
       "      <td>0.062500</td>\n",
       "    </tr>\n",
       "    <tr>\n",
       "      <th>1</th>\n",
       "      <td>2.170351</td>\n",
       "      <td>-0.32</td>\n",
       "      <td>0.1024</td>\n",
       "      <td>-0.032768</td>\n",
       "      <td>0.010486</td>\n",
       "    </tr>\n",
       "    <tr>\n",
       "      <th>2</th>\n",
       "      <td>0.049546</td>\n",
       "      <td>-0.14</td>\n",
       "      <td>0.0196</td>\n",
       "      <td>-0.002744</td>\n",
       "      <td>0.000384</td>\n",
       "    </tr>\n",
       "    <tr>\n",
       "      <th>3</th>\n",
       "      <td>1.158258</td>\n",
       "      <td>0.04</td>\n",
       "      <td>0.0016</td>\n",
       "      <td>0.000064</td>\n",
       "      <td>0.000003</td>\n",
       "    </tr>\n",
       "    <tr>\n",
       "      <th>4</th>\n",
       "      <td>1.397567</td>\n",
       "      <td>0.22</td>\n",
       "      <td>0.0484</td>\n",
       "      <td>0.010648</td>\n",
       "      <td>0.002343</td>\n",
       "    </tr>\n",
       "    <tr>\n",
       "      <th>5</th>\n",
       "      <td>1.773240</td>\n",
       "      <td>0.40</td>\n",
       "      <td>0.1600</td>\n",
       "      <td>0.064000</td>\n",
       "      <td>0.025600</td>\n",
       "    </tr>\n",
       "  </tbody>\n",
       "</table>\n",
       "</div>"
      ],
      "text/plain": [
       "          y    x1      x2        x3        x4\n",
       "0  2.613388 -0.50  0.2500 -0.125000  0.062500\n",
       "1  2.170351 -0.32  0.1024 -0.032768  0.010486\n",
       "2  0.049546 -0.14  0.0196 -0.002744  0.000384\n",
       "3  1.158258  0.04  0.0016  0.000064  0.000003\n",
       "4  1.397567  0.22  0.0484  0.010648  0.002343\n",
       "5  1.773240  0.40  0.1600  0.064000  0.025600"
      ]
     },
     "execution_count": 91,
     "metadata": {},
     "output_type": "execute_result"
    }
   ],
   "source": [
    "df[\"x2\"] = (df[\"x1\"])**2\n",
    "df[\"x3\"] = (df[\"x1\"])**3\n",
    "df[\"x4\"] = (df[\"x1\"])**4\n",
    "df"
   ]
  },
  {
   "cell_type": "markdown",
   "metadata": {},
   "source": [
    "**2.3)** For each of our polynomials (*x1, x2, x3, x4*), fit a model to *y*. Store and report the R-squared and parameters for each polynomial. Plot the R-squared values in a bar chart to see how they change with the polynomials. Which polynomial seems to be the best fit? Describe why this might be the case. **(10 points)**"
   ]
  },
  {
   "cell_type": "code",
   "execution_count": 92,
   "metadata": {},
   "outputs": [
    {
     "data": {
      "text/plain": [
       "'x1+x2+x3+x4'"
      ]
     },
     "execution_count": 92,
     "metadata": {},
     "output_type": "execute_result"
    }
   ],
   "source": [
    "'+'.join(list(df.columns[1:5]))\n",
    "#to get a string in the following fomular, list the index and make it join with\"+\""
   ]
  },
  {
   "cell_type": "code",
   "execution_count": 180,
   "metadata": {},
   "outputs": [
    {
     "name": "stdout",
     "output_type": "stream",
     "text": [
      "                            OLS Regression Results                            \n",
      "==============================================================================\n",
      "Dep. Variable:                      y   R-squared:                       0.105\n",
      "Model:                            OLS   Adj. R-squared:                 -0.119\n",
      "Method:                 Least Squares   F-statistic:                    0.4683\n",
      "Date:                Sun, 14 Oct 2018   Prob (F-statistic):              0.531\n",
      "Time:                        00:24:12   Log-Likelihood:                -6.9579\n",
      "No. Observations:                   6   AIC:                             17.92\n",
      "Df Residuals:                       4   BIC:                             17.50\n",
      "Df Model:                           1                                         \n",
      "Covariance Type:            nonrobust                                         \n",
      "==============================================================================\n",
      "                 coef    std err          t      P>|t|      [0.025      0.975]\n",
      "------------------------------------------------------------------------------\n",
      "Intercept      1.4841      0.391      3.797      0.019       0.399       2.569\n",
      "x1            -0.8588      1.255     -0.684      0.531      -4.343       2.626\n",
      "==============================================================================\n",
      "Omnibus:                          nan   Durbin-Watson:                   1.674\n",
      "Prob(Omnibus):                    nan   Jarque-Bera (JB):                1.279\n",
      "Skew:                          -1.131   Prob(JB):                        0.528\n",
      "Kurtosis:                       2.953   Cond. No.                         3.26\n",
      "==============================================================================\n",
      "\n",
      "Warnings:\n",
      "[1] Standard Errors assume that the covariance matrix of the errors is correctly specified.\n",
      "                            OLS Regression Results                            \n",
      "==============================================================================\n",
      "Dep. Variable:                      y   R-squared:                       0.651\n",
      "Model:                            OLS   Adj. R-squared:                  0.419\n",
      "Method:                 Least Squares   F-statistic:                     2.801\n",
      "Date:                Sun, 14 Oct 2018   Prob (F-statistic):              0.206\n",
      "Time:                        00:24:12   Log-Likelihood:                -4.1297\n",
      "No. Observations:                   6   AIC:                             14.26\n",
      "Df Residuals:                       3   BIC:                             13.63\n",
      "Df Model:                           2                                         \n",
      "Covariance Type:            nonrobust                                         \n",
      "==============================================================================\n",
      "                 coef    std err          t      P>|t|      [0.025      0.975]\n",
      "------------------------------------------------------------------------------\n",
      "Intercept      0.7979      0.424      1.883      0.156      -0.551       2.146\n",
      "x1            -0.1129      0.968     -0.117      0.915      -3.193       2.967\n",
      "x2             7.4592      3.440      2.168      0.119      -3.490      18.408\n",
      "==============================================================================\n",
      "Omnibus:                          nan   Durbin-Watson:                   3.200\n",
      "Prob(Omnibus):                    nan   Jarque-Bera (JB):                0.637\n",
      "Skew:                          -0.762   Prob(JB):                        0.727\n",
      "Kurtosis:                       2.527   Cond. No.                         12.6\n",
      "==============================================================================\n",
      "\n",
      "Warnings:\n",
      "[1] Standard Errors assume that the covariance matrix of the errors is correctly specified.\n",
      "                            OLS Regression Results                            \n",
      "==============================================================================\n",
      "Dep. Variable:                      y   R-squared:                       0.666\n",
      "Model:                            OLS   Adj. R-squared:                  0.164\n",
      "Method:                 Least Squares   F-statistic:                     1.328\n",
      "Date:                Sun, 14 Oct 2018   Prob (F-statistic):              0.457\n",
      "Time:                        00:24:12   Log-Likelihood:                -4.0024\n",
      "No. Observations:                   6   AIC:                             16.00\n",
      "Df Residuals:                       2   BIC:                             15.17\n",
      "Df Model:                           3                                         \n",
      "Covariance Type:            nonrobust                                         \n",
      "==============================================================================\n",
      "                 coef    std err          t      P>|t|      [0.025      0.975]\n",
      "------------------------------------------------------------------------------\n",
      "Intercept      0.8391      0.527      1.592      0.252      -1.428       3.107\n",
      "x1             0.6868      2.953      0.233      0.838     -12.020      13.393\n",
      "x2             6.6909      4.881      1.371      0.304     -14.311      27.692\n",
      "x3            -5.1220     17.395     -0.294      0.796     -79.966      69.722\n",
      "==============================================================================\n",
      "Omnibus:                          nan   Durbin-Watson:                   3.361\n",
      "Prob(Omnibus):                    nan   Jarque-Bera (JB):                0.201\n",
      "Skew:                          -0.370   Prob(JB):                        0.905\n",
      "Kurtosis:                       2.496   Cond. No.                         53.8\n",
      "==============================================================================\n",
      "\n",
      "Warnings:\n",
      "[1] Standard Errors assume that the covariance matrix of the errors is correctly specified.\n",
      "                            OLS Regression Results                            \n",
      "==============================================================================\n",
      "Dep. Variable:                      y   R-squared:                       0.802\n",
      "Model:                            OLS   Adj. R-squared:                  0.010\n",
      "Method:                 Least Squares   F-statistic:                     1.013\n",
      "Date:                Sun, 14 Oct 2018   Prob (F-statistic):              0.623\n",
      "Time:                        00:24:12   Log-Likelihood:                -2.4317\n",
      "No. Observations:                   6   AIC:                             14.86\n",
      "Df Residuals:                       1   BIC:                             13.82\n",
      "Df Model:                           4                                         \n",
      "Covariance Type:            nonrobust                                         \n",
      "==============================================================================\n",
      "                 coef    std err          t      P>|t|      [0.025      0.975]\n",
      "------------------------------------------------------------------------------\n",
      "Intercept      0.4697      0.726      0.647      0.635      -8.758       9.698\n",
      "x1             2.3504      3.789      0.620      0.647     -45.792      50.493\n",
      "x2            22.5528     19.847      1.136      0.459    -229.630     274.735\n",
      "x3           -20.6077     26.591     -0.775      0.580    -358.472     317.257\n",
      "x4           -77.4288     93.347     -0.829      0.559   -1263.519    1108.661\n",
      "==============================================================================\n",
      "Omnibus:                          nan   Durbin-Watson:                   3.659\n",
      "Prob(Omnibus):                    nan   Jarque-Bera (JB):                0.246\n",
      "Skew:                          -0.000   Prob(JB):                        0.884\n",
      "Kurtosis:                       2.008   Cond. No.                         270.\n",
      "==============================================================================\n",
      "\n",
      "Warnings:\n",
      "[1] Standard Errors assume that the covariance matrix of the errors is correctly specified.\n",
      "[-0.11900478547023008, 0.4187646885280458, 0.16437215780498027, 0.00993151146510185]\n"
     ]
    },
    {
     "name": "stderr",
     "output_type": "stream",
     "text": [
      "/anaconda3/lib/python3.6/site-packages/statsmodels/stats/stattools.py:72: ValueWarning: omni_normtest is not valid with less than 8 observations; 6 samples were given.\n",
      "  \"samples were given.\" % int(n), ValueWarning)\n",
      "/anaconda3/lib/python3.6/site-packages/statsmodels/stats/stattools.py:72: ValueWarning: omni_normtest is not valid with less than 8 observations; 6 samples were given.\n",
      "  \"samples were given.\" % int(n), ValueWarning)\n",
      "/anaconda3/lib/python3.6/site-packages/statsmodels/stats/stattools.py:72: ValueWarning: omni_normtest is not valid with less than 8 observations; 6 samples were given.\n",
      "  \"samples were given.\" % int(n), ValueWarning)\n",
      "/anaconda3/lib/python3.6/site-packages/statsmodels/stats/stattools.py:72: ValueWarning: omni_normtest is not valid with less than 8 observations; 6 samples were given.\n",
      "  \"samples were given.\" % int(n), ValueWarning)\n"
     ]
    }
   ],
   "source": [
    "rsq = []\n",
    "mod = []\n",
    "for i in range(2, 6):\n",
    "    mod.append(smf.ols(formula='y ~ %s'%('+'.join(list(df.columns[1:i]))), data = df).fit())\n",
    "    print(mod[i-2].summary())\n",
    "    rsq.append(mod[i-2].rsquared_adj)\n",
    "print(rsq)"
   ]
  },
  {
   "cell_type": "code",
   "execution_count": 94,
   "metadata": {},
   "outputs": [
    {
     "name": "stdout",
     "output_type": "stream",
     "text": [
      "Populating the interactive namespace from numpy and matplotlib\n"
     ]
    },
    {
     "name": "stderr",
     "output_type": "stream",
     "text": [
      "/anaconda3/lib/python3.6/site-packages/IPython/core/magics/pylab.py:160: UserWarning: pylab import has clobbered these variables: ['mod']\n",
      "`%matplotlib` prevents importing * from pylab and numpy\n",
      "  \"\\n`%matplotlib` prevents importing * from pylab and numpy\"\n"
     ]
    },
    {
     "data": {
      "text/plain": [
       "Text(0.5,1,'Bar for R-square with different polynomials')"
      ]
     },
     "execution_count": 94,
     "metadata": {},
     "output_type": "execute_result"
    },
    {
     "data": {
      "image/png": "[encoded data removed]",
      "text/plain": [
       "<Figure size 432x576 with 1 Axes>"
      ]
     },
     "metadata": {},
     "output_type": "display_data"
    }
   ],
   "source": [
    "%pylab inline\n",
    "plt.figure(figsize=(6,8))\n",
    "plt.bar(['x1','x2','x3','x4'],rsq)\n",
    "plt.xlabel(\"polynomial\",fontsize=16)\n",
    "plt.ylabel(\"rsquare\",fontsize=16)\n",
    "plt.title(\"Bar for R-square with different polynomials\",fontsize=20)"
   ]
  },
  {
   "cell_type": "markdown",
   "metadata": {},
   "source": [
    "\"y~x2\" fit the best because the the R-square is the hightest,0.56."
   ]
  },
  {
   "cell_type": "markdown",
   "metadata": {},
   "source": [
    "**2.4)** Plot a figure with 4 subfigures, one for each polynomial degree. In each subfigure:<br>\n",
    "a) Draw the original scatter plot<br>\n",
    "b) Plot the curve of the true function $f(x) = 9x^2 - x + 1$ (use np.linspace to create a line)<br>\n",
    "c) Plot your fitted curve for each degree. Observe how our model fits the data as the degree changes.<br>\n",
    "d) Having done this exercise, why might adding polynomials to our data be useful? What conclusions can we draw from fitting the four polynomials? **(10 points)**"
   ]
  },
  {
   "cell_type": "code",
   "execution_count": 181,
   "metadata": {},
   "outputs": [],
   "source": [
    "y1 = mod[0].predict(df[\"x1\"])\n",
    "y2 = mod[1].predict(df[[\"x1\",\"x2\",\"x3\"]])\n",
    "y3 = mod[2].predict(df[[\"x1\",\"x2\",\"x3\",\"x4\"]])\n",
    "y4 = mod[3].predict(df[[\"x1\",\"x2\",\"x3\",\"x4\"]])\n"
   ]
  },
  {
   "cell_type": "code",
   "execution_count": 183,
   "metadata": {},
   "outputs": [
    {
     "name": "stdout",
     "output_type": "stream",
     "text": [
      "Populating the interactive namespace from numpy and matplotlib\n"
     ]
    },
    {
     "data": {
      "image/png": "[encoded data removed]",
      "text/plain": [
       "<Figure size 432x576 with 4 Axes>"
      ]
     },
     "metadata": {},
     "output_type": "display_data"
    }
   ],
   "source": [
    "%pylab inline\n",
    "\n",
    "fig = plt.figure(figsize=(6,8))\n",
    "ax = []\n",
    "fit_x = np.linspace(-1,1,1000)\n",
    "fit_y = 9*(fit_x**2)-fit_x+1\n",
    "for i in range(1,5):\n",
    "    ax.append(fig.add_subplot(2,2,i))\n",
    "    #abline_plot(model_results=mod[i-1], ax= ax[i-1], color = 'red') has error!!\n",
    "    ax[i-1].scatter(df['x1'],df['y'])\n",
    "    ax[i-1].plot(fit_x,fit_y,'--',c='r', label='true y')\n",
    "\n",
    "ax[0].plot(df[[\"x1\"]], y1,label='fitting')\n",
    "ax[1].plot(df[[\"x1\"]], y2,label='fitting')\n",
    "ax[2].plot(df[[\"x1\"]], y3,label='fitting')\n",
    "ax[3].plot(df[[\"x1\"]], y4,label='fitting')\n",
    "    \n",
    "#inter = [1.4841,0.7897,1.4265,1.0713]\n",
    "#slp = [-0.8588,7.6019,-7.0326,26.9927]\n",
    "\n",
    "\n",
    "for i in range(4):\n",
    "#    y_x=slp[i]*(fit_x**(i+1))+inter[i]\n",
    "#    ax[i].plot(fit_x,y_x,label='fitting')\n",
    "    ax[i].legend()\n"
   ]
  },
  {
   "cell_type": "markdown",
   "metadata": {},
   "source": [
    "Caption: The fitting graghs are using 4 polynominals(x, x**2, x**3, x**4) to fit the model.  A degree with a higher the R-square is most likely to be my fitting model degree."
   ]
  },
  {
   "cell_type": "markdown",
   "metadata": {},
   "source": [
    "### Problem 3 - Intro to Normalization (20 points)"
   ]
  },
  {
   "cell_type": "markdown",
   "metadata": {},
   "source": [
    "This final problem is a brief exercise to explore the effects of normalization. We will be using household data from California, which was derived from the 1990 census. (https://www.kaggle.com/camnugent/california-housing-prices)"
   ]
  },
  {
   "cell_type": "code",
   "execution_count": 119,
   "metadata": {},
   "outputs": [
    {
     "data": {
      "text/html": [
       "<div>\n",
       "<style scoped>\n",
       "    .dataframe tbody tr th:only-of-type {\n",
       "        vertical-align: middle;\n",
       "    }\n",
       "\n",
       "    .dataframe tbody tr th {\n",
       "        vertical-align: top;\n",
       "    }\n",
       "\n",
       "    .dataframe thead th {\n",
       "        text-align: right;\n",
       "    }\n",
       "</style>\n",
       "<table border=\"1\" class=\"dataframe\">\n",
       "  <thead>\n",
       "    <tr style=\"text-align: right;\">\n",
       "      <th></th>\n",
       "      <th>median_income</th>\n",
       "      <th>median_house_value</th>\n",
       "    </tr>\n",
       "  </thead>\n",
       "  <tbody>\n",
       "    <tr>\n",
       "      <th>45</th>\n",
       "      <td>2.6768</td>\n",
       "      <td>182300.0</td>\n",
       "    </tr>\n",
       "    <tr>\n",
       "      <th>46</th>\n",
       "      <td>2.0260</td>\n",
       "      <td>142500.0</td>\n",
       "    </tr>\n",
       "    <tr>\n",
       "      <th>47</th>\n",
       "      <td>1.7348</td>\n",
       "      <td>137500.0</td>\n",
       "    </tr>\n",
       "    <tr>\n",
       "      <th>48</th>\n",
       "      <td>0.9506</td>\n",
       "      <td>187500.0</td>\n",
       "    </tr>\n",
       "    <tr>\n",
       "      <th>49</th>\n",
       "      <td>1.7750</td>\n",
       "      <td>112500.0</td>\n",
       "    </tr>\n",
       "  </tbody>\n",
       "</table>\n",
       "</div>"
      ],
      "text/plain": [
       "    median_income  median_house_value\n",
       "45         2.6768            182300.0\n",
       "46         2.0260            142500.0\n",
       "47         1.7348            137500.0\n",
       "48         0.9506            187500.0\n",
       "49         1.7750            112500.0"
      ]
     },
     "execution_count": 119,
     "metadata": {},
     "output_type": "execute_result"
    }
   ],
   "source": [
    "housing = pd.read_csv('housing.csv')\n",
    "housing = housing[['median_income', 'median_house_value']][0:50]\n",
    "housing.tail()"
   ]
  },
  {
   "cell_type": "markdown",
   "metadata": {},
   "source": [
    "**3.1)** Are there any immediately obvious trends between our two variables? Sort the values by *median_house_value*, then plot the data. Write a brief description of what you see (or, more likely, what you don't see, and why that might be the case). **(10 points)**"
   ]
  },
  {
   "cell_type": "code",
   "execution_count": 129,
   "metadata": {},
   "outputs": [
    {
     "data": {
      "text/html": [
       "<div>\n",
       "<style scoped>\n",
       "    .dataframe tbody tr th:only-of-type {\n",
       "        vertical-align: middle;\n",
       "    }\n",
       "\n",
       "    .dataframe tbody tr th {\n",
       "        vertical-align: top;\n",
       "    }\n",
       "\n",
       "    .dataframe thead th {\n",
       "        text-align: right;\n",
       "    }\n",
       "</style>\n",
       "<table border=\"1\" class=\"dataframe\">\n",
       "  <thead>\n",
       "    <tr style=\"text-align: right;\">\n",
       "      <th></th>\n",
       "      <th>median_income</th>\n",
       "      <th>median_house_value</th>\n",
       "    </tr>\n",
       "  </thead>\n",
       "  <tbody>\n",
       "    <tr>\n",
       "      <th>0</th>\n",
       "      <td>2.4597</td>\n",
       "      <td>93800.0</td>\n",
       "    </tr>\n",
       "    <tr>\n",
       "      <th>1</th>\n",
       "      <td>1.4861</td>\n",
       "      <td>97200.0</td>\n",
       "    </tr>\n",
       "    <tr>\n",
       "      <th>2</th>\n",
       "      <td>2.1806</td>\n",
       "      <td>99700.0</td>\n",
       "    </tr>\n",
       "    <tr>\n",
       "      <th>3</th>\n",
       "      <td>1.4103</td>\n",
       "      <td>103900.0</td>\n",
       "    </tr>\n",
       "    <tr>\n",
       "      <th>4</th>\n",
       "      <td>1.0972</td>\n",
       "      <td>104500.0</td>\n",
       "    </tr>\n",
       "    <tr>\n",
       "      <th>5</th>\n",
       "      <td>1.3750</td>\n",
       "      <td>104900.0</td>\n",
       "    </tr>\n",
       "    <tr>\n",
       "      <th>6</th>\n",
       "      <td>1.8080</td>\n",
       "      <td>105500.0</td>\n",
       "    </tr>\n",
       "    <tr>\n",
       "      <th>7</th>\n",
       "      <td>2.4038</td>\n",
       "      <td>107500.0</td>\n",
       "    </tr>\n",
       "    <tr>\n",
       "      <th>8</th>\n",
       "      <td>1.6424</td>\n",
       "      <td>108900.0</td>\n",
       "    </tr>\n",
       "    <tr>\n",
       "      <th>9</th>\n",
       "      <td>2.7303</td>\n",
       "      <td>109700.0</td>\n",
       "    </tr>\n",
       "  </tbody>\n",
       "</table>\n",
       "</div>"
      ],
      "text/plain": [
       "   median_income  median_house_value\n",
       "0         2.4597             93800.0\n",
       "1         1.4861             97200.0\n",
       "2         2.1806             99700.0\n",
       "3         1.4103            103900.0\n",
       "4         1.0972            104500.0\n",
       "5         1.3750            104900.0\n",
       "6         1.8080            105500.0\n",
       "7         2.4038            107500.0\n",
       "8         1.6424            108900.0\n",
       "9         2.7303            109700.0"
      ]
     },
     "execution_count": 129,
     "metadata": {},
     "output_type": "execute_result"
    }
   ],
   "source": [
    "housing.sort_values(by=['median_house_value'],ascending=True,inplace=True)\n",
    "housing.head(10)\n",
    "housing = housing.reset_index(drop=True)\n",
    "housing.head(10)"
   ]
  },
  {
   "cell_type": "code",
   "execution_count": 140,
   "metadata": {},
   "outputs": [
    {
     "name": "stdout",
     "output_type": "stream",
     "text": [
      "Populating the interactive namespace from numpy and matplotlib\n"
     ]
    },
    {
     "data": {
      "text/plain": [
       "<matplotlib.legend.Legend at 0x1c26a4ea58>"
      ]
     },
     "execution_count": 140,
     "metadata": {},
     "output_type": "execute_result"
    },
    {
     "data": {
      "image/png": "[encoded data removed]",
      "text/plain": [
       "<Figure size 432x288 with 1 Axes>"
      ]
     },
     "metadata": {},
     "output_type": "display_data"
    }
   ],
   "source": [
    "%pylab inline\n",
    "plt.figure(figsize=(6,4))\n",
    "plt.plot(housing.index,housing['median_income'])\n",
    "plt.plot(housing.index,housing['median_house_value'])\n",
    "plt.xlabel(\"index\",fontsize=16)\n",
    "plt.ylabel(\"median_income/median_housing_value\",fontsize=16)\n",
    "plt.title(\"Trend of median_income/housing_value\",fontsize=20)\n",
    "plt.legend()"
   ]
  },
  {
   "cell_type": "markdown",
   "metadata": {},
   "source": [
    "**Summary:** There's no correlation between median housing value and median income because the line for Median_income seems to have no slope. This may be because the two variable's sample data has different standards or different means."
   ]
  },
  {
   "cell_type": "markdown",
   "metadata": {},
   "source": [
    "**3.2)** Orthonormalize the data so that the *mean* is 0 and the *st_dev* is 1. Write this as a python function that can be fed a dataframe and return an orthonormalized version (this should take no more than 4 lines of code). Plot an orthonormalized version of the housing data that you now have. Write a brief description of how it looks different than in *3.1* and ellaborate breifly on why and in what situations orthonormalization can be useful. **(10 points)**"
   ]
  },
  {
   "cell_type": "code",
   "execution_count": 208,
   "metadata": {},
   "outputs": [
    {
     "name": "stdout",
     "output_type": "stream",
     "text": [
      "Populating the interactive namespace from numpy and matplotlib\n"
     ]
    },
    {
     "data": {
      "text/plain": [
       "<matplotlib.legend.Legend at 0x1c25bec9e8>"
      ]
     },
     "execution_count": 208,
     "metadata": {},
     "output_type": "execute_result"
    },
    {
     "data": {
      "image/png": "[encoded data removed]",
      "text/plain": [
       "<Figure size 576x432 with 1 Axes>"
      ]
     },
     "metadata": {},
     "output_type": "display_data"
    }
   ],
   "source": [
    "housing['median_house_value']=(housing['median_house_value']-housing['median_house_value'].mean())/housing['median_house_value'].std()\n",
    "housing['median_income']=(housing['median_income']-housing['median_income'].mean())/housing['median_income'].std()\n",
    "#Orthonormalization\n",
    "\n",
    "\n",
    "%pylab inline\n",
    "plt.figure(figsize=(8,6))\n",
    "plt.plot(housing.index,housing['median_income'])\n",
    "plt.plot(housing.index,housing['median_house_value'])\n",
    "plt.xlabel(\"index\",fontsize=16)\n",
    "plt.ylabel(\"median_income/median_housing_value\",fontsize=16)\n",
    "plt.title(\"Trend of median_income/housing_value\",fontsize=20)\n",
    "plt.legend()"
   ]
  },
  {
   "cell_type": "markdown",
   "metadata": {},
   "source": [
    "**Summary:** In this graph, the positive correlation between two variables seems strong. This is because I orthonormalized two variebles and eliminate the noisy effect from units and the exact number."
   ]
  },
  {
   "cell_type": "code",
   "execution_count": null,
   "metadata": {},
   "outputs": [],
   "source": []
  }
 ],
 "metadata": {
  "kernelspec": {
   "display_name": "Python 3",
   "language": "python",
   "name": "python3"
  },
  "language_info": {
   "codemirror_mode": {
    "name": "ipython",
    "version": 3
   },
   "file_extension": ".py",
   "mimetype": "text/x-python",
   "name": "python",
   "nbconvert_exporter": "python",
   "pygments_lexer": "ipython3",
   "version": "3.6.5"
  }
 },
 "nbformat": 4,
 "nbformat_minor": 2
}
