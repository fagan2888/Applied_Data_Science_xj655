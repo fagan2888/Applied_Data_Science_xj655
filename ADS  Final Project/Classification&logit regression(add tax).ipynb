{
 "cells": [
  {
   "cell_type": "code",
   "execution_count": 1,
   "metadata": {},
   "outputs": [
    {
     "name": "stderr",
     "output_type": "stream",
     "text": [
      "/Users/A123/anaconda3/lib/python3.6/site-packages/sklearn/ensemble/weight_boosting.py:29: DeprecationWarning: numpy.core.umath_tests is an internal NumPy module and should not be imported. It will be removed in a future NumPy release.\n",
      "  from numpy.core.umath_tests import inner1d\n"
     ]
    }
   ],
   "source": [
    "import pandas as pd\n",
    "from zipfile import ZipFile\n",
    "import numpy as np\n",
    "import os\n",
    "from tabulate import tabulate\n",
    "import matplotlib.pyplot as plt\n",
    "from sklearn.preprocessing import LabelEncoder\n",
    "from sklearn.model_selection import train_test_split\n",
    "from sklearn import neighbors, datasets\n",
    "from sklearn.ensemble import RandomForestClassifier\n",
    "#from sklearn.lda import LDA\n",
    "from statsmodels.discrete.discrete_model import MNLogit\n",
    "from sklearn.metrics import confusion_matrix\n",
    "from sklearn.metrics import mean_squared_error\n",
    "from sklearn.metrics import classification_report\n",
    "from sklearn.naive_bayes import GaussianNB\n",
    "from sklearn import metrics\n",
    "import sklearn.linear_model as linear_model\n",
    "from sklearn.preprocessing import LabelEncoder\n",
    "from sklearn.preprocessing import OneHotEncoder\n",
    "from statsmodels.discrete.discrete_model import MNLogit"
   ]
  },
  {
   "cell_type": "markdown",
   "metadata": {},
   "source": [
    "# Content:\n",
    "* 1. Data Cleaning and Processing (From Urwa)\n",
    "* 2. Build classification model and interpretation\n",
    "* 3. Build the logit regression model and interpretation"
   ]
  },
  {
   "cell_type": "markdown",
   "metadata": {},
   "source": [
    "# 1. Data Cleaning and Processing"
   ]
  },
  {
   "cell_type": "markdown",
   "metadata": {},
   "source": [
    "## 1.1 tax data"
   ]
  },
  {
   "cell_type": "markdown",
   "metadata": {},
   "source": [
    "Tax Data: CDC STATE System Tobacco Legislation - Tax： https://chronicdata.cdc.gov/Legislation/CDC-STATE-System-Tobacco-Legislation-Tax/2dwv-vfam"
   ]
  },
  {
   "cell_type": "code",
   "execution_count": 2,
   "metadata": {},
   "outputs": [
    {
     "name": "stdout",
     "output_type": "stream",
     "text": [
      "  % Total    % Received % Xferd  Average Speed   Time    Time     Time  Current\n",
      "                                 Dload  Upload   Total   Spent    Left  Speed\n",
      "100 33.5M    0 33.5M    0     0  3541k      0 --:--:--  0:00:09 --:--:-- 3640k\n"
     ]
    }
   ],
   "source": [
    "!curl https://chronicdata.cdc.gov/api/views/2dwv-vfam/rows.csv?accessType=DOWNLOAD > Tax.csv"
   ]
  },
  {
   "cell_type": "code",
   "execution_count": 3,
   "metadata": {},
   "outputs": [
    {
     "name": "stderr",
     "output_type": "stream",
     "text": [
      "/Users/A123/anaconda3/lib/python3.6/site-packages/IPython/core/interactiveshell.py:2785: DtypeWarning: Columns (13,14,15) have mixed types. Specify dtype option on import or set low_memory=False.\n",
      "  interactivity=interactivity, compiler=compiler, result=result)\n"
     ]
    },
    {
     "data": {
      "text/html": [
       "<div>\n",
       "<style scoped>\n",
       "    .dataframe tbody tr th:only-of-type {\n",
       "        vertical-align: middle;\n",
       "    }\n",
       "\n",
       "    .dataframe tbody tr th {\n",
       "        vertical-align: top;\n",
       "    }\n",
       "\n",
       "    .dataframe thead th {\n",
       "        text-align: right;\n",
       "    }\n",
       "</style>\n",
       "<table border=\"1\" class=\"dataframe\">\n",
       "  <thead>\n",
       "    <tr style=\"text-align: right;\">\n",
       "      <th></th>\n",
       "      <th>Year</th>\n",
       "      <th>Quarter</th>\n",
       "      <th>LocationAbbr</th>\n",
       "      <th>LocationDesc</th>\n",
       "      <th>TopicDesc</th>\n",
       "      <th>MeasureDesc</th>\n",
       "      <th>DataSource</th>\n",
       "      <th>ProvisionGroupDesc</th>\n",
       "      <th>ProvisionDesc</th>\n",
       "      <th>ProvisionValue</th>\n",
       "      <th>...</th>\n",
       "      <th>Comments</th>\n",
       "      <th>Enacted_Date</th>\n",
       "      <th>Effective_Date</th>\n",
       "      <th>GeoLocation</th>\n",
       "      <th>DisplayOrder</th>\n",
       "      <th>TopicTypeId</th>\n",
       "      <th>TopicId</th>\n",
       "      <th>MeasureId</th>\n",
       "      <th>ProvisionGroupID</th>\n",
       "      <th>ProvisionID</th>\n",
       "    </tr>\n",
       "  </thead>\n",
       "  <tbody>\n",
       "    <tr>\n",
       "      <th>120339</th>\n",
       "      <td>2017</td>\n",
       "      <td>1</td>\n",
       "      <td>MN</td>\n",
       "      <td>Minnesota</td>\n",
       "      <td>Legislation - Tax Combustible Tobacco</td>\n",
       "      <td>Little Cigar</td>\n",
       "      <td>OSH</td>\n",
       "      <td>Restrictions</td>\n",
       "      <td>Little Cigar Tax ($ per pack of 20)</td>\n",
       "      <td>3.0400</td>\n",
       "      <td>...</td>\n",
       "      <td>NaN</td>\n",
       "      <td>10/31/2016</td>\n",
       "      <td>1/1/2017</td>\n",
       "      <td>(46.35564873600049, -94.79420050299967)</td>\n",
       "      <td>2</td>\n",
       "      <td>LEG</td>\n",
       "      <td>1010LEG</td>\n",
       "      <td>672LCG</td>\n",
       "      <td>10GRP</td>\n",
       "      <td>417</td>\n",
       "    </tr>\n",
       "    <tr>\n",
       "      <th>121546</th>\n",
       "      <td>2017</td>\n",
       "      <td>2</td>\n",
       "      <td>CA</td>\n",
       "      <td>California</td>\n",
       "      <td>Legislation - Tax Combustible Tobacco</td>\n",
       "      <td>Little Cigar</td>\n",
       "      <td>OSH</td>\n",
       "      <td>Restrictions</td>\n",
       "      <td>Little Cigar Tax ($ per pack of 20)</td>\n",
       "      <td>2.8700</td>\n",
       "      <td>...</td>\n",
       "      <td>Currently products labeled as little or small ...</td>\n",
       "      <td>10/31/2016</td>\n",
       "      <td>4/1/2017</td>\n",
       "      <td>(37.63864012300047, -120.99999953799971)</td>\n",
       "      <td>2</td>\n",
       "      <td>LEG</td>\n",
       "      <td>1010LEG</td>\n",
       "      <td>672LCG</td>\n",
       "      <td>10GRP</td>\n",
       "      <td>417</td>\n",
       "    </tr>\n",
       "    <tr>\n",
       "      <th>121547</th>\n",
       "      <td>2017</td>\n",
       "      <td>2</td>\n",
       "      <td>CA</td>\n",
       "      <td>California</td>\n",
       "      <td>Legislation - Tax Combustible Tobacco</td>\n",
       "      <td>Cigarette</td>\n",
       "      <td>OSH</td>\n",
       "      <td>Restrictions</td>\n",
       "      <td>Cigarette Tax ($ per pack)</td>\n",
       "      <td>2.870</td>\n",
       "      <td>...</td>\n",
       "      <td>NaN</td>\n",
       "      <td>10/31/2016</td>\n",
       "      <td>4/1/2017</td>\n",
       "      <td>(37.63864012300047, -120.99999953799971)</td>\n",
       "      <td>5</td>\n",
       "      <td>LEG</td>\n",
       "      <td>1010LEG</td>\n",
       "      <td>670CGR</td>\n",
       "      <td>10GRP</td>\n",
       "      <td>411</td>\n",
       "    </tr>\n",
       "    <tr>\n",
       "      <th>121548</th>\n",
       "      <td>2017</td>\n",
       "      <td>1</td>\n",
       "      <td>MI</td>\n",
       "      <td>Michigan</td>\n",
       "      <td>Legislation - Tax Stamp</td>\n",
       "      <td>Tax Stamp</td>\n",
       "      <td>OSH</td>\n",
       "      <td>Requirements</td>\n",
       "      <td>Barcode/Scannable Code Required</td>\n",
       "      <td>Yes</td>\n",
       "      <td>...</td>\n",
       "      <td>NaN</td>\n",
       "      <td>6/20/2012</td>\n",
       "      <td>6/20/2012</td>\n",
       "      <td>(44.6613195430005, -84.71439026999968)</td>\n",
       "      <td>2</td>\n",
       "      <td>LEG</td>\n",
       "      <td>1030LEG</td>\n",
       "      <td>690CET</td>\n",
       "      <td>12GRP</td>\n",
       "      <td>350</td>\n",
       "    </tr>\n",
       "    <tr>\n",
       "      <th>121549</th>\n",
       "      <td>2017</td>\n",
       "      <td>1</td>\n",
       "      <td>RI</td>\n",
       "      <td>Rhode Island</td>\n",
       "      <td>Legislation - Tax Non-Combustible Tobacco</td>\n",
       "      <td>Dry Snuff Tobacco</td>\n",
       "      <td>OSH</td>\n",
       "      <td>Restrictions</td>\n",
       "      <td>Dry Snuff Tobacco Tax</td>\n",
       "      <td>Yes</td>\n",
       "      <td>...</td>\n",
       "      <td>NaN</td>\n",
       "      <td>1/1/1995</td>\n",
       "      <td>1/1/1995</td>\n",
       "      <td>(41.70828019300046, -71.52247031399963)</td>\n",
       "      <td>1</td>\n",
       "      <td>LEG</td>\n",
       "      <td>1020LEG</td>\n",
       "      <td>682EDS</td>\n",
       "      <td>10GRP</td>\n",
       "      <td>392</td>\n",
       "    </tr>\n",
       "  </tbody>\n",
       "</table>\n",
       "<p>5 rows × 23 columns</p>\n",
       "</div>"
      ],
      "text/plain": [
       "        Year  Quarter LocationAbbr  LocationDesc  \\\n",
       "120339  2017        1           MN     Minnesota   \n",
       "121546  2017        2           CA    California   \n",
       "121547  2017        2           CA    California   \n",
       "121548  2017        1           MI      Michigan   \n",
       "121549  2017        1           RI  Rhode Island   \n",
       "\n",
       "                                        TopicDesc        MeasureDesc  \\\n",
       "120339      Legislation - Tax Combustible Tobacco       Little Cigar   \n",
       "121546      Legislation - Tax Combustible Tobacco       Little Cigar   \n",
       "121547      Legislation - Tax Combustible Tobacco          Cigarette   \n",
       "121548                    Legislation - Tax Stamp          Tax Stamp   \n",
       "121549  Legislation - Tax Non-Combustible Tobacco  Dry Snuff Tobacco   \n",
       "\n",
       "       DataSource ProvisionGroupDesc                        ProvisionDesc  \\\n",
       "120339        OSH       Restrictions  Little Cigar Tax ($ per pack of 20)   \n",
       "121546        OSH       Restrictions  Little Cigar Tax ($ per pack of 20)   \n",
       "121547        OSH       Restrictions           Cigarette Tax ($ per pack)   \n",
       "121548        OSH       Requirements      Barcode/Scannable Code Required   \n",
       "121549        OSH       Restrictions                Dry Snuff Tobacco Tax   \n",
       "\n",
       "       ProvisionValue     ...      \\\n",
       "120339         3.0400     ...       \n",
       "121546         2.8700     ...       \n",
       "121547          2.870     ...       \n",
       "121548            Yes     ...       \n",
       "121549            Yes     ...       \n",
       "\n",
       "                                                 Comments  Enacted_Date  \\\n",
       "120339                                                NaN    10/31/2016   \n",
       "121546  Currently products labeled as little or small ...    10/31/2016   \n",
       "121547                                                NaN    10/31/2016   \n",
       "121548                                                NaN     6/20/2012   \n",
       "121549                                                NaN      1/1/1995   \n",
       "\n",
       "       Effective_Date                               GeoLocation DisplayOrder  \\\n",
       "120339       1/1/2017   (46.35564873600049, -94.79420050299967)            2   \n",
       "121546       4/1/2017  (37.63864012300047, -120.99999953799971)            2   \n",
       "121547       4/1/2017  (37.63864012300047, -120.99999953799971)            5   \n",
       "121548      6/20/2012    (44.6613195430005, -84.71439026999968)            2   \n",
       "121549       1/1/1995   (41.70828019300046, -71.52247031399963)            1   \n",
       "\n",
       "       TopicTypeId  TopicId  MeasureId ProvisionGroupID ProvisionID  \n",
       "120339         LEG  1010LEG     672LCG            10GRP         417  \n",
       "121546         LEG  1010LEG     672LCG            10GRP         417  \n",
       "121547         LEG  1010LEG     670CGR            10GRP         411  \n",
       "121548         LEG  1030LEG     690CET            12GRP         350  \n",
       "121549         LEG  1020LEG     682EDS            10GRP         392  \n",
       "\n",
       "[5 rows x 23 columns]"
      ]
     },
     "execution_count": 3,
     "metadata": {},
     "output_type": "execute_result"
    }
   ],
   "source": [
    "#Pick the Cigeratte tax rate in 2017\n",
    "tax = pd.read_csv('Tax.csv')\n",
    "tax17 = tax[tax['Year']==2017]\n",
    "tax17.head()"
   ]
  },
  {
   "cell_type": "code",
   "execution_count": 4,
   "metadata": {},
   "outputs": [
    {
     "data": {
      "text/html": [
       "<div>\n",
       "<style scoped>\n",
       "    .dataframe tbody tr th:only-of-type {\n",
       "        vertical-align: middle;\n",
       "    }\n",
       "\n",
       "    .dataframe tbody tr th {\n",
       "        vertical-align: top;\n",
       "    }\n",
       "\n",
       "    .dataframe thead th {\n",
       "        text-align: right;\n",
       "    }\n",
       "</style>\n",
       "<table border=\"1\" class=\"dataframe\">\n",
       "  <thead>\n",
       "    <tr style=\"text-align: right;\">\n",
       "      <th></th>\n",
       "      <th>LocationDesc</th>\n",
       "      <th>Cigarette_tax</th>\n",
       "    </tr>\n",
       "  </thead>\n",
       "  <tbody>\n",
       "    <tr>\n",
       "      <th>0</th>\n",
       "      <td>Alabama</td>\n",
       "      <td>0.675</td>\n",
       "    </tr>\n",
       "    <tr>\n",
       "      <th>1</th>\n",
       "      <td>Alaska</td>\n",
       "      <td>2.000</td>\n",
       "    </tr>\n",
       "    <tr>\n",
       "      <th>2</th>\n",
       "      <td>American Samoa</td>\n",
       "      <td>6.000</td>\n",
       "    </tr>\n",
       "    <tr>\n",
       "      <th>3</th>\n",
       "      <td>Arizona</td>\n",
       "      <td>2.000</td>\n",
       "    </tr>\n",
       "    <tr>\n",
       "      <th>4</th>\n",
       "      <td>Arkansas</td>\n",
       "      <td>1.150</td>\n",
       "    </tr>\n",
       "  </tbody>\n",
       "</table>\n",
       "</div>"
      ],
      "text/plain": [
       "     LocationDesc  Cigarette_tax\n",
       "0         Alabama          0.675\n",
       "1          Alaska          2.000\n",
       "2  American Samoa          6.000\n",
       "3         Arizona          2.000\n",
       "4        Arkansas          1.150"
      ]
     },
     "execution_count": 4,
     "metadata": {},
     "output_type": "execute_result"
    }
   ],
   "source": [
    "tax_value = tax17[tax17['ProvisionDesc'] == 'Cigarette Tax ($ per pack)'].sort_values('LocationDesc')\n",
    "tax_value = tax_value.groupby('LocationDesc').max()\n",
    "tax_value = tax_value[['ProvisionAltValue']]\n",
    "tax_value.rename(columns={'ProvisionAltValue':'Cigarette_tax'}, inplace=True)\n",
    "tax_value.reset_index(inplace=True)\n",
    "tax_value.head()"
   ]
  },
  {
   "cell_type": "markdown",
   "metadata": {},
   "source": [
    "## 1.2 BRFSS data"
   ]
  },
  {
   "cell_type": "code",
   "execution_count": 5,
   "metadata": {
    "scrolled": false
   },
   "outputs": [
    {
     "data": {
      "text/html": [
       "<div>\n",
       "<style scoped>\n",
       "    .dataframe tbody tr th:only-of-type {\n",
       "        vertical-align: middle;\n",
       "    }\n",
       "\n",
       "    .dataframe tbody tr th {\n",
       "        vertical-align: top;\n",
       "    }\n",
       "\n",
       "    .dataframe thead th {\n",
       "        text-align: right;\n",
       "    }\n",
       "</style>\n",
       "<table border=\"1\" class=\"dataframe\">\n",
       "  <thead>\n",
       "    <tr style=\"text-align: right;\">\n",
       "      <th></th>\n",
       "      <th>ads18_frequentHealthIssue</th>\n",
       "      <th>ads18_highBP</th>\n",
       "      <th>ads18_highChl</th>\n",
       "      <th>ads18_unknownChl</th>\n",
       "      <th>ads18_asthma</th>\n",
       "      <th>ads18_formerasthma</th>\n",
       "      <th>ads18_white</th>\n",
       "      <th>ads18_weight</th>\n",
       "      <th>ads18_obese</th>\n",
       "      <th>ads18_havechild</th>\n",
       "      <th>...</th>\n",
       "      <th>ads18_drinkbinge</th>\n",
       "      <th>ads18_fruitIntake</th>\n",
       "      <th>ads18_vegIntake</th>\n",
       "      <th>ads18_potatoIntake</th>\n",
       "      <th>ads18_exercise</th>\n",
       "      <th>ads18_hivtest</th>\n",
       "      <th>ads18_affordDoc</th>\n",
       "      <th>ads18_stroke</th>\n",
       "      <th>ads18_state</th>\n",
       "      <th>label</th>\n",
       "    </tr>\n",
       "  </thead>\n",
       "  <tbody>\n",
       "    <tr>\n",
       "      <th>0</th>\n",
       "      <td>False</td>\n",
       "      <td>True</td>\n",
       "      <td>False</td>\n",
       "      <td>False</td>\n",
       "      <td>False</td>\n",
       "      <td>False</td>\n",
       "      <td>True</td>\n",
       "      <td>8890.0</td>\n",
       "      <td>True</td>\n",
       "      <td>False</td>\n",
       "      <td>...</td>\n",
       "      <td>False</td>\n",
       "      <td>2.0</td>\n",
       "      <td>29.0</td>\n",
       "      <td>43.0</td>\n",
       "      <td>True</td>\n",
       "      <td>True</td>\n",
       "      <td>True</td>\n",
       "      <td>False</td>\n",
       "      <td>Alabama</td>\n",
       "      <td>Yes</td>\n",
       "    </tr>\n",
       "    <tr>\n",
       "      <th>1</th>\n",
       "      <td>False</td>\n",
       "      <td>False</td>\n",
       "      <td>False</td>\n",
       "      <td>True</td>\n",
       "      <td>False</td>\n",
       "      <td>False</td>\n",
       "      <td>True</td>\n",
       "      <td>7484.0</td>\n",
       "      <td>True</td>\n",
       "      <td>False</td>\n",
       "      <td>...</td>\n",
       "      <td>False</td>\n",
       "      <td>100.0</td>\n",
       "      <td>100.0</td>\n",
       "      <td>43.0</td>\n",
       "      <td>True</td>\n",
       "      <td>False</td>\n",
       "      <td>True</td>\n",
       "      <td>False</td>\n",
       "      <td>Alabama</td>\n",
       "      <td>Yes</td>\n",
       "    </tr>\n",
       "    <tr>\n",
       "      <th>2</th>\n",
       "      <td>False</td>\n",
       "      <td>False</td>\n",
       "      <td>True</td>\n",
       "      <td>False</td>\n",
       "      <td>False</td>\n",
       "      <td>False</td>\n",
       "      <td>True</td>\n",
       "      <td>5897.0</td>\n",
       "      <td>False</td>\n",
       "      <td>False</td>\n",
       "      <td>...</td>\n",
       "      <td>False</td>\n",
       "      <td>29.0</td>\n",
       "      <td>33.0</td>\n",
       "      <td>7.0</td>\n",
       "      <td>True</td>\n",
       "      <td>True</td>\n",
       "      <td>True</td>\n",
       "      <td>False</td>\n",
       "      <td>Alabama</td>\n",
       "      <td>Yes</td>\n",
       "    </tr>\n",
       "    <tr>\n",
       "      <th>3</th>\n",
       "      <td>False</td>\n",
       "      <td>False</td>\n",
       "      <td>False</td>\n",
       "      <td>False</td>\n",
       "      <td>False</td>\n",
       "      <td>False</td>\n",
       "      <td>True</td>\n",
       "      <td>11340.0</td>\n",
       "      <td>True</td>\n",
       "      <td>True</td>\n",
       "      <td>...</td>\n",
       "      <td>False</td>\n",
       "      <td>57.0</td>\n",
       "      <td>43.0</td>\n",
       "      <td>43.0</td>\n",
       "      <td>True</td>\n",
       "      <td>True</td>\n",
       "      <td>True</td>\n",
       "      <td>False</td>\n",
       "      <td>Alabama</td>\n",
       "      <td>Yes</td>\n",
       "    </tr>\n",
       "    <tr>\n",
       "      <th>4</th>\n",
       "      <td>False</td>\n",
       "      <td>False</td>\n",
       "      <td>False</td>\n",
       "      <td>True</td>\n",
       "      <td>False</td>\n",
       "      <td>False</td>\n",
       "      <td>True</td>\n",
       "      <td>4536.0</td>\n",
       "      <td>False</td>\n",
       "      <td>True</td>\n",
       "      <td>...</td>\n",
       "      <td>True</td>\n",
       "      <td>67.0</td>\n",
       "      <td>17.0</td>\n",
       "      <td>67.0</td>\n",
       "      <td>False</td>\n",
       "      <td>True</td>\n",
       "      <td>False</td>\n",
       "      <td>False</td>\n",
       "      <td>Alabama</td>\n",
       "      <td>Yes</td>\n",
       "    </tr>\n",
       "  </tbody>\n",
       "</table>\n",
       "<p>5 rows × 23 columns</p>\n",
       "</div>"
      ],
      "text/plain": [
       "   ads18_frequentHealthIssue  ads18_highBP  ads18_highChl  ads18_unknownChl  \\\n",
       "0                      False          True          False             False   \n",
       "1                      False         False          False              True   \n",
       "2                      False         False           True             False   \n",
       "3                      False         False          False             False   \n",
       "4                      False         False          False              True   \n",
       "\n",
       "   ads18_asthma  ads18_formerasthma  ads18_white  ads18_weight  ads18_obese  \\\n",
       "0         False               False         True        8890.0         True   \n",
       "1         False               False         True        7484.0         True   \n",
       "2         False               False         True        5897.0        False   \n",
       "3         False               False         True       11340.0         True   \n",
       "4         False               False         True        4536.0        False   \n",
       "\n",
       "   ads18_havechild  ...    ads18_drinkbinge  ads18_fruitIntake  \\\n",
       "0            False  ...               False                2.0   \n",
       "1            False  ...               False              100.0   \n",
       "2            False  ...               False               29.0   \n",
       "3             True  ...               False               57.0   \n",
       "4             True  ...                True               67.0   \n",
       "\n",
       "   ads18_vegIntake  ads18_potatoIntake  ads18_exercise  ads18_hivtest  \\\n",
       "0             29.0                43.0            True           True   \n",
       "1            100.0                43.0            True          False   \n",
       "2             33.0                 7.0            True           True   \n",
       "3             43.0                43.0            True           True   \n",
       "4             17.0                67.0           False           True   \n",
       "\n",
       "   ads18_affordDoc  ads18_stroke  ads18_state  label  \n",
       "0             True         False      Alabama    Yes  \n",
       "1             True         False      Alabama    Yes  \n",
       "2             True         False      Alabama    Yes  \n",
       "3             True         False      Alabama    Yes  \n",
       "4            False         False      Alabama    Yes  \n",
       "\n",
       "[5 rows x 23 columns]"
      ]
     },
     "execution_count": 5,
     "metadata": {},
     "output_type": "execute_result"
    }
   ],
   "source": [
    "cleandata = pd.read_csv('data/cleanDataSmoke.csv')\n",
    "cleandata.head()"
   ]
  },
  {
   "cell_type": "code",
   "execution_count": 6,
   "metadata": {},
   "outputs": [
    {
     "data": {
      "text/html": [
       "<div>\n",
       "<style scoped>\n",
       "    .dataframe tbody tr th:only-of-type {\n",
       "        vertical-align: middle;\n",
       "    }\n",
       "\n",
       "    .dataframe tbody tr th {\n",
       "        vertical-align: top;\n",
       "    }\n",
       "\n",
       "    .dataframe thead th {\n",
       "        text-align: right;\n",
       "    }\n",
       "</style>\n",
       "<table border=\"1\" class=\"dataframe\">\n",
       "  <thead>\n",
       "    <tr style=\"text-align: right;\">\n",
       "      <th></th>\n",
       "      <th>ads18_frequentHealthIssue</th>\n",
       "      <th>ads18_highBP</th>\n",
       "      <th>ads18_highChl</th>\n",
       "      <th>ads18_unknownChl</th>\n",
       "      <th>ads18_asthma</th>\n",
       "      <th>ads18_formerasthma</th>\n",
       "      <th>ads18_white</th>\n",
       "      <th>ads18_weight</th>\n",
       "      <th>ads18_obese</th>\n",
       "      <th>ads18_havechild</th>\n",
       "      <th>...</th>\n",
       "      <th>ads18_vegIntake</th>\n",
       "      <th>ads18_potatoIntake</th>\n",
       "      <th>ads18_exercise</th>\n",
       "      <th>ads18_hivtest</th>\n",
       "      <th>ads18_affordDoc</th>\n",
       "      <th>ads18_stroke</th>\n",
       "      <th>ads18_state</th>\n",
       "      <th>label</th>\n",
       "      <th>LocationDesc</th>\n",
       "      <th>Cigarette_tax</th>\n",
       "    </tr>\n",
       "  </thead>\n",
       "  <tbody>\n",
       "    <tr>\n",
       "      <th>0</th>\n",
       "      <td>False</td>\n",
       "      <td>True</td>\n",
       "      <td>False</td>\n",
       "      <td>False</td>\n",
       "      <td>False</td>\n",
       "      <td>False</td>\n",
       "      <td>True</td>\n",
       "      <td>8890.0</td>\n",
       "      <td>True</td>\n",
       "      <td>False</td>\n",
       "      <td>...</td>\n",
       "      <td>29.0</td>\n",
       "      <td>43.0</td>\n",
       "      <td>True</td>\n",
       "      <td>True</td>\n",
       "      <td>True</td>\n",
       "      <td>False</td>\n",
       "      <td>Alabama</td>\n",
       "      <td>Yes</td>\n",
       "      <td>Alabama</td>\n",
       "      <td>0.675</td>\n",
       "    </tr>\n",
       "    <tr>\n",
       "      <th>1</th>\n",
       "      <td>False</td>\n",
       "      <td>False</td>\n",
       "      <td>False</td>\n",
       "      <td>True</td>\n",
       "      <td>False</td>\n",
       "      <td>False</td>\n",
       "      <td>True</td>\n",
       "      <td>7484.0</td>\n",
       "      <td>True</td>\n",
       "      <td>False</td>\n",
       "      <td>...</td>\n",
       "      <td>100.0</td>\n",
       "      <td>43.0</td>\n",
       "      <td>True</td>\n",
       "      <td>False</td>\n",
       "      <td>True</td>\n",
       "      <td>False</td>\n",
       "      <td>Alabama</td>\n",
       "      <td>Yes</td>\n",
       "      <td>Alabama</td>\n",
       "      <td>0.675</td>\n",
       "    </tr>\n",
       "    <tr>\n",
       "      <th>2</th>\n",
       "      <td>False</td>\n",
       "      <td>False</td>\n",
       "      <td>True</td>\n",
       "      <td>False</td>\n",
       "      <td>False</td>\n",
       "      <td>False</td>\n",
       "      <td>True</td>\n",
       "      <td>5897.0</td>\n",
       "      <td>False</td>\n",
       "      <td>False</td>\n",
       "      <td>...</td>\n",
       "      <td>33.0</td>\n",
       "      <td>7.0</td>\n",
       "      <td>True</td>\n",
       "      <td>True</td>\n",
       "      <td>True</td>\n",
       "      <td>False</td>\n",
       "      <td>Alabama</td>\n",
       "      <td>Yes</td>\n",
       "      <td>Alabama</td>\n",
       "      <td>0.675</td>\n",
       "    </tr>\n",
       "    <tr>\n",
       "      <th>3</th>\n",
       "      <td>False</td>\n",
       "      <td>False</td>\n",
       "      <td>False</td>\n",
       "      <td>False</td>\n",
       "      <td>False</td>\n",
       "      <td>False</td>\n",
       "      <td>True</td>\n",
       "      <td>11340.0</td>\n",
       "      <td>True</td>\n",
       "      <td>True</td>\n",
       "      <td>...</td>\n",
       "      <td>43.0</td>\n",
       "      <td>43.0</td>\n",
       "      <td>True</td>\n",
       "      <td>True</td>\n",
       "      <td>True</td>\n",
       "      <td>False</td>\n",
       "      <td>Alabama</td>\n",
       "      <td>Yes</td>\n",
       "      <td>Alabama</td>\n",
       "      <td>0.675</td>\n",
       "    </tr>\n",
       "    <tr>\n",
       "      <th>4</th>\n",
       "      <td>False</td>\n",
       "      <td>False</td>\n",
       "      <td>False</td>\n",
       "      <td>True</td>\n",
       "      <td>False</td>\n",
       "      <td>False</td>\n",
       "      <td>True</td>\n",
       "      <td>4536.0</td>\n",
       "      <td>False</td>\n",
       "      <td>True</td>\n",
       "      <td>...</td>\n",
       "      <td>17.0</td>\n",
       "      <td>67.0</td>\n",
       "      <td>False</td>\n",
       "      <td>True</td>\n",
       "      <td>False</td>\n",
       "      <td>False</td>\n",
       "      <td>Alabama</td>\n",
       "      <td>Yes</td>\n",
       "      <td>Alabama</td>\n",
       "      <td>0.675</td>\n",
       "    </tr>\n",
       "  </tbody>\n",
       "</table>\n",
       "<p>5 rows × 25 columns</p>\n",
       "</div>"
      ],
      "text/plain": [
       "   ads18_frequentHealthIssue  ads18_highBP  ads18_highChl  ads18_unknownChl  \\\n",
       "0                      False          True          False             False   \n",
       "1                      False         False          False              True   \n",
       "2                      False         False           True             False   \n",
       "3                      False         False          False             False   \n",
       "4                      False         False          False              True   \n",
       "\n",
       "   ads18_asthma  ads18_formerasthma  ads18_white  ads18_weight  ads18_obese  \\\n",
       "0         False               False         True        8890.0         True   \n",
       "1         False               False         True        7484.0         True   \n",
       "2         False               False         True        5897.0        False   \n",
       "3         False               False         True       11340.0         True   \n",
       "4         False               False         True        4536.0        False   \n",
       "\n",
       "   ads18_havechild      ...        ads18_vegIntake  ads18_potatoIntake  \\\n",
       "0            False      ...                   29.0                43.0   \n",
       "1            False      ...                  100.0                43.0   \n",
       "2            False      ...                   33.0                 7.0   \n",
       "3             True      ...                   43.0                43.0   \n",
       "4             True      ...                   17.0                67.0   \n",
       "\n",
       "   ads18_exercise  ads18_hivtest  ads18_affordDoc  ads18_stroke  ads18_state  \\\n",
       "0            True           True             True         False      Alabama   \n",
       "1            True          False             True         False      Alabama   \n",
       "2            True           True             True         False      Alabama   \n",
       "3            True           True             True         False      Alabama   \n",
       "4           False           True            False         False      Alabama   \n",
       "\n",
       "   label  LocationDesc  Cigarette_tax  \n",
       "0    Yes       Alabama          0.675  \n",
       "1    Yes       Alabama          0.675  \n",
       "2    Yes       Alabama          0.675  \n",
       "3    Yes       Alabama          0.675  \n",
       "4    Yes       Alabama          0.675  \n",
       "\n",
       "[5 rows x 25 columns]"
      ]
     },
     "execution_count": 6,
     "metadata": {},
     "output_type": "execute_result"
    }
   ],
   "source": [
    "cleandata_tax = pd.merge(cleandata, tax_value, left_on = 'ads18_state', right_on = 'LocationDesc')\n",
    "cleandata_tax.head()"
   ]
  },
  {
   "cell_type": "code",
   "execution_count": 7,
   "metadata": {
    "scrolled": true
   },
   "outputs": [
    {
     "data": {
      "text/html": [
       "<div>\n",
       "<style scoped>\n",
       "    .dataframe tbody tr th:only-of-type {\n",
       "        vertical-align: middle;\n",
       "    }\n",
       "\n",
       "    .dataframe tbody tr th {\n",
       "        vertical-align: top;\n",
       "    }\n",
       "\n",
       "    .dataframe thead th {\n",
       "        text-align: right;\n",
       "    }\n",
       "</style>\n",
       "<table border=\"1\" class=\"dataframe\">\n",
       "  <thead>\n",
       "    <tr style=\"text-align: right;\">\n",
       "      <th></th>\n",
       "      <th>ads18_frequentHealthIssue</th>\n",
       "      <th>ads18_highBP</th>\n",
       "      <th>ads18_highChl</th>\n",
       "      <th>ads18_unknownChl</th>\n",
       "      <th>ads18_asthma</th>\n",
       "      <th>ads18_formerasthma</th>\n",
       "      <th>ads18_white</th>\n",
       "      <th>ads18_weight</th>\n",
       "      <th>ads18_obese</th>\n",
       "      <th>ads18_havechild</th>\n",
       "      <th>...</th>\n",
       "      <th>ads18_vegIntake</th>\n",
       "      <th>ads18_potatoIntake</th>\n",
       "      <th>ads18_exercise</th>\n",
       "      <th>ads18_hivtest</th>\n",
       "      <th>ads18_affordDoc</th>\n",
       "      <th>ads18_stroke</th>\n",
       "      <th>ads18_state</th>\n",
       "      <th>label</th>\n",
       "      <th>LocationDesc</th>\n",
       "      <th>Cigarette_tax</th>\n",
       "    </tr>\n",
       "  </thead>\n",
       "  <tbody>\n",
       "    <tr>\n",
       "      <th>0</th>\n",
       "      <td>False</td>\n",
       "      <td>True</td>\n",
       "      <td>False</td>\n",
       "      <td>False</td>\n",
       "      <td>False</td>\n",
       "      <td>False</td>\n",
       "      <td>True</td>\n",
       "      <td>8890.0</td>\n",
       "      <td>True</td>\n",
       "      <td>False</td>\n",
       "      <td>...</td>\n",
       "      <td>29.0</td>\n",
       "      <td>43.0</td>\n",
       "      <td>True</td>\n",
       "      <td>True</td>\n",
       "      <td>True</td>\n",
       "      <td>False</td>\n",
       "      <td>0</td>\n",
       "      <td>1</td>\n",
       "      <td>0</td>\n",
       "      <td>0.675</td>\n",
       "    </tr>\n",
       "    <tr>\n",
       "      <th>1</th>\n",
       "      <td>False</td>\n",
       "      <td>False</td>\n",
       "      <td>False</td>\n",
       "      <td>True</td>\n",
       "      <td>False</td>\n",
       "      <td>False</td>\n",
       "      <td>True</td>\n",
       "      <td>7484.0</td>\n",
       "      <td>True</td>\n",
       "      <td>False</td>\n",
       "      <td>...</td>\n",
       "      <td>100.0</td>\n",
       "      <td>43.0</td>\n",
       "      <td>True</td>\n",
       "      <td>False</td>\n",
       "      <td>True</td>\n",
       "      <td>False</td>\n",
       "      <td>0</td>\n",
       "      <td>1</td>\n",
       "      <td>0</td>\n",
       "      <td>0.675</td>\n",
       "    </tr>\n",
       "    <tr>\n",
       "      <th>2</th>\n",
       "      <td>False</td>\n",
       "      <td>False</td>\n",
       "      <td>True</td>\n",
       "      <td>False</td>\n",
       "      <td>False</td>\n",
       "      <td>False</td>\n",
       "      <td>True</td>\n",
       "      <td>5897.0</td>\n",
       "      <td>False</td>\n",
       "      <td>False</td>\n",
       "      <td>...</td>\n",
       "      <td>33.0</td>\n",
       "      <td>7.0</td>\n",
       "      <td>True</td>\n",
       "      <td>True</td>\n",
       "      <td>True</td>\n",
       "      <td>False</td>\n",
       "      <td>0</td>\n",
       "      <td>1</td>\n",
       "      <td>0</td>\n",
       "      <td>0.675</td>\n",
       "    </tr>\n",
       "    <tr>\n",
       "      <th>3</th>\n",
       "      <td>False</td>\n",
       "      <td>False</td>\n",
       "      <td>False</td>\n",
       "      <td>False</td>\n",
       "      <td>False</td>\n",
       "      <td>False</td>\n",
       "      <td>True</td>\n",
       "      <td>11340.0</td>\n",
       "      <td>True</td>\n",
       "      <td>True</td>\n",
       "      <td>...</td>\n",
       "      <td>43.0</td>\n",
       "      <td>43.0</td>\n",
       "      <td>True</td>\n",
       "      <td>True</td>\n",
       "      <td>True</td>\n",
       "      <td>False</td>\n",
       "      <td>0</td>\n",
       "      <td>1</td>\n",
       "      <td>0</td>\n",
       "      <td>0.675</td>\n",
       "    </tr>\n",
       "    <tr>\n",
       "      <th>4</th>\n",
       "      <td>False</td>\n",
       "      <td>False</td>\n",
       "      <td>False</td>\n",
       "      <td>True</td>\n",
       "      <td>False</td>\n",
       "      <td>False</td>\n",
       "      <td>True</td>\n",
       "      <td>4536.0</td>\n",
       "      <td>False</td>\n",
       "      <td>True</td>\n",
       "      <td>...</td>\n",
       "      <td>17.0</td>\n",
       "      <td>67.0</td>\n",
       "      <td>False</td>\n",
       "      <td>True</td>\n",
       "      <td>False</td>\n",
       "      <td>False</td>\n",
       "      <td>0</td>\n",
       "      <td>1</td>\n",
       "      <td>0</td>\n",
       "      <td>0.675</td>\n",
       "    </tr>\n",
       "  </tbody>\n",
       "</table>\n",
       "<p>5 rows × 25 columns</p>\n",
       "</div>"
      ],
      "text/plain": [
       "   ads18_frequentHealthIssue  ads18_highBP  ads18_highChl  ads18_unknownChl  \\\n",
       "0                      False          True          False             False   \n",
       "1                      False         False          False              True   \n",
       "2                      False         False           True             False   \n",
       "3                      False         False          False             False   \n",
       "4                      False         False          False              True   \n",
       "\n",
       "   ads18_asthma  ads18_formerasthma  ads18_white  ads18_weight  ads18_obese  \\\n",
       "0         False               False         True        8890.0         True   \n",
       "1         False               False         True        7484.0         True   \n",
       "2         False               False         True        5897.0        False   \n",
       "3         False               False         True       11340.0         True   \n",
       "4         False               False         True        4536.0        False   \n",
       "\n",
       "   ads18_havechild      ...        ads18_vegIntake  ads18_potatoIntake  \\\n",
       "0            False      ...                   29.0                43.0   \n",
       "1            False      ...                  100.0                43.0   \n",
       "2            False      ...                   33.0                 7.0   \n",
       "3             True      ...                   43.0                43.0   \n",
       "4             True      ...                   17.0                67.0   \n",
       "\n",
       "   ads18_exercise  ads18_hivtest  ads18_affordDoc  ads18_stroke  ads18_state  \\\n",
       "0            True           True             True         False            0   \n",
       "1            True          False             True         False            0   \n",
       "2            True           True             True         False            0   \n",
       "3            True           True             True         False            0   \n",
       "4           False           True            False         False            0   \n",
       "\n",
       "   label  LocationDesc  Cigarette_tax  \n",
       "0      1             0          0.675  \n",
       "1      1             0          0.675  \n",
       "2      1             0          0.675  \n",
       "3      1             0          0.675  \n",
       "4      1             0          0.675  \n",
       "\n",
       "[5 rows x 25 columns]"
      ]
     },
     "execution_count": 7,
     "metadata": {},
     "output_type": "execute_result"
    }
   ],
   "source": [
    "df_categ_ = cleandata_tax.copy()\n",
    "labelencoder = LabelEncoder()\n",
    "for c in df_categ_.columns:\n",
    "    if df_categ_[c].dtype.name == 'object':\n",
    "        df_categ_[c] = labelencoder.fit_transform(df_categ_[c])\n",
    "df_categ_.head()"
   ]
  },
  {
   "cell_type": "code",
   "execution_count": 8,
   "metadata": {},
   "outputs": [
    {
     "name": "stdout",
     "output_type": "stream",
     "text": [
      "True\n",
      "True\n",
      "True\n",
      "True\n",
      "True\n",
      "True\n",
      "True\n",
      "False\n",
      "True\n",
      "True\n",
      "False\n",
      "False\n",
      "True\n",
      "True\n",
      "False\n",
      "False\n",
      "False\n",
      "True\n",
      "True\n",
      "True\n",
      "True\n",
      "False\n",
      "False\n",
      "False\n",
      "False\n"
     ]
    }
   ],
   "source": [
    "for c in df_categ_.columns:\n",
    "    print(df_categ_[c].dtype.name == 'bool')"
   ]
  },
  {
   "cell_type": "code",
   "execution_count": 9,
   "metadata": {},
   "outputs": [
    {
     "data": {
      "text/html": [
       "<div>\n",
       "<style scoped>\n",
       "    .dataframe tbody tr th:only-of-type {\n",
       "        vertical-align: middle;\n",
       "    }\n",
       "\n",
       "    .dataframe tbody tr th {\n",
       "        vertical-align: top;\n",
       "    }\n",
       "\n",
       "    .dataframe thead th {\n",
       "        text-align: right;\n",
       "    }\n",
       "</style>\n",
       "<table border=\"1\" class=\"dataframe\">\n",
       "  <thead>\n",
       "    <tr style=\"text-align: right;\">\n",
       "      <th></th>\n",
       "      <th>ads18_frequentHealthIssue</th>\n",
       "      <th>ads18_highBP</th>\n",
       "      <th>ads18_highChl</th>\n",
       "      <th>ads18_unknownChl</th>\n",
       "      <th>ads18_asthma</th>\n",
       "      <th>ads18_formerasthma</th>\n",
       "      <th>ads18_white</th>\n",
       "      <th>ads18_weight</th>\n",
       "      <th>ads18_obese</th>\n",
       "      <th>ads18_havechild</th>\n",
       "      <th>...</th>\n",
       "      <th>ads18_vegIntake</th>\n",
       "      <th>ads18_potatoIntake</th>\n",
       "      <th>ads18_exercise</th>\n",
       "      <th>ads18_hivtest</th>\n",
       "      <th>ads18_affordDoc</th>\n",
       "      <th>ads18_stroke</th>\n",
       "      <th>ads18_state</th>\n",
       "      <th>label</th>\n",
       "      <th>LocationDesc</th>\n",
       "      <th>Cigarette_tax</th>\n",
       "    </tr>\n",
       "  </thead>\n",
       "  <tbody>\n",
       "    <tr>\n",
       "      <th>0</th>\n",
       "      <td>1.0</td>\n",
       "      <td>0.0</td>\n",
       "      <td>1.0</td>\n",
       "      <td>1.0</td>\n",
       "      <td>1.0</td>\n",
       "      <td>1.0</td>\n",
       "      <td>0.0</td>\n",
       "      <td>8890.0</td>\n",
       "      <td>0.0</td>\n",
       "      <td>1.0</td>\n",
       "      <td>...</td>\n",
       "      <td>29.0</td>\n",
       "      <td>43.0</td>\n",
       "      <td>0.0</td>\n",
       "      <td>0.0</td>\n",
       "      <td>0.0</td>\n",
       "      <td>1.0</td>\n",
       "      <td>0</td>\n",
       "      <td>1</td>\n",
       "      <td>0</td>\n",
       "      <td>0.675</td>\n",
       "    </tr>\n",
       "    <tr>\n",
       "      <th>1</th>\n",
       "      <td>1.0</td>\n",
       "      <td>1.0</td>\n",
       "      <td>1.0</td>\n",
       "      <td>0.0</td>\n",
       "      <td>1.0</td>\n",
       "      <td>1.0</td>\n",
       "      <td>0.0</td>\n",
       "      <td>7484.0</td>\n",
       "      <td>0.0</td>\n",
       "      <td>1.0</td>\n",
       "      <td>...</td>\n",
       "      <td>100.0</td>\n",
       "      <td>43.0</td>\n",
       "      <td>0.0</td>\n",
       "      <td>1.0</td>\n",
       "      <td>0.0</td>\n",
       "      <td>1.0</td>\n",
       "      <td>0</td>\n",
       "      <td>1</td>\n",
       "      <td>0</td>\n",
       "      <td>0.675</td>\n",
       "    </tr>\n",
       "    <tr>\n",
       "      <th>2</th>\n",
       "      <td>1.0</td>\n",
       "      <td>1.0</td>\n",
       "      <td>0.0</td>\n",
       "      <td>1.0</td>\n",
       "      <td>1.0</td>\n",
       "      <td>1.0</td>\n",
       "      <td>0.0</td>\n",
       "      <td>5897.0</td>\n",
       "      <td>1.0</td>\n",
       "      <td>1.0</td>\n",
       "      <td>...</td>\n",
       "      <td>33.0</td>\n",
       "      <td>7.0</td>\n",
       "      <td>0.0</td>\n",
       "      <td>0.0</td>\n",
       "      <td>0.0</td>\n",
       "      <td>1.0</td>\n",
       "      <td>0</td>\n",
       "      <td>1</td>\n",
       "      <td>0</td>\n",
       "      <td>0.675</td>\n",
       "    </tr>\n",
       "    <tr>\n",
       "      <th>3</th>\n",
       "      <td>1.0</td>\n",
       "      <td>1.0</td>\n",
       "      <td>1.0</td>\n",
       "      <td>1.0</td>\n",
       "      <td>1.0</td>\n",
       "      <td>1.0</td>\n",
       "      <td>0.0</td>\n",
       "      <td>11340.0</td>\n",
       "      <td>0.0</td>\n",
       "      <td>0.0</td>\n",
       "      <td>...</td>\n",
       "      <td>43.0</td>\n",
       "      <td>43.0</td>\n",
       "      <td>0.0</td>\n",
       "      <td>0.0</td>\n",
       "      <td>0.0</td>\n",
       "      <td>1.0</td>\n",
       "      <td>0</td>\n",
       "      <td>1</td>\n",
       "      <td>0</td>\n",
       "      <td>0.675</td>\n",
       "    </tr>\n",
       "    <tr>\n",
       "      <th>4</th>\n",
       "      <td>1.0</td>\n",
       "      <td>1.0</td>\n",
       "      <td>1.0</td>\n",
       "      <td>0.0</td>\n",
       "      <td>1.0</td>\n",
       "      <td>1.0</td>\n",
       "      <td>0.0</td>\n",
       "      <td>4536.0</td>\n",
       "      <td>1.0</td>\n",
       "      <td>0.0</td>\n",
       "      <td>...</td>\n",
       "      <td>17.0</td>\n",
       "      <td>67.0</td>\n",
       "      <td>1.0</td>\n",
       "      <td>0.0</td>\n",
       "      <td>1.0</td>\n",
       "      <td>1.0</td>\n",
       "      <td>0</td>\n",
       "      <td>1</td>\n",
       "      <td>0</td>\n",
       "      <td>0.675</td>\n",
       "    </tr>\n",
       "  </tbody>\n",
       "</table>\n",
       "<p>5 rows × 25 columns</p>\n",
       "</div>"
      ],
      "text/plain": [
       "   ads18_frequentHealthIssue  ads18_highBP  ads18_highChl  ads18_unknownChl  \\\n",
       "0                        1.0           0.0            1.0               1.0   \n",
       "1                        1.0           1.0            1.0               0.0   \n",
       "2                        1.0           1.0            0.0               1.0   \n",
       "3                        1.0           1.0            1.0               1.0   \n",
       "4                        1.0           1.0            1.0               0.0   \n",
       "\n",
       "   ads18_asthma  ads18_formerasthma  ads18_white  ads18_weight  ads18_obese  \\\n",
       "0           1.0                 1.0          0.0        8890.0          0.0   \n",
       "1           1.0                 1.0          0.0        7484.0          0.0   \n",
       "2           1.0                 1.0          0.0        5897.0          1.0   \n",
       "3           1.0                 1.0          0.0       11340.0          0.0   \n",
       "4           1.0                 1.0          0.0        4536.0          1.0   \n",
       "\n",
       "   ads18_havechild      ...        ads18_vegIntake  ads18_potatoIntake  \\\n",
       "0              1.0      ...                   29.0                43.0   \n",
       "1              1.0      ...                  100.0                43.0   \n",
       "2              1.0      ...                   33.0                 7.0   \n",
       "3              0.0      ...                   43.0                43.0   \n",
       "4              0.0      ...                   17.0                67.0   \n",
       "\n",
       "   ads18_exercise  ads18_hivtest  ads18_affordDoc  ads18_stroke  ads18_state  \\\n",
       "0             0.0            0.0              0.0           1.0            0   \n",
       "1             0.0            1.0              0.0           1.0            0   \n",
       "2             0.0            0.0              0.0           1.0            0   \n",
       "3             0.0            0.0              0.0           1.0            0   \n",
       "4             1.0            0.0              1.0           1.0            0   \n",
       "\n",
       "   label  LocationDesc  Cigarette_tax  \n",
       "0      1             0          0.675  \n",
       "1      1             0          0.675  \n",
       "2      1             0          0.675  \n",
       "3      1             0          0.675  \n",
       "4      1             0          0.675  \n",
       "\n",
       "[5 rows x 25 columns]"
      ]
     },
     "execution_count": 9,
     "metadata": {},
     "output_type": "execute_result"
    }
   ],
   "source": [
    "labelencoder = LabelEncoder()\n",
    "onehot_encoder = OneHotEncoder(sparse=False)\n",
    "def OHEncoder(DF):\n",
    "    df = DF.copy()\n",
    "    for c in df.columns:\n",
    "        if df[c].dtype.name == 'bool':\n",
    "            #df[c] = labelencoder.fit_transform(df[c])\n",
    "            integer_encoded = np.asarray(df[c]).reshape(len(df[c]), 1)\n",
    "            df[c] = onehot_encoder.fit_transform(integer_encoded)\n",
    "    return df\n",
    "df_categ = OHEncoder(df_categ_)\n",
    "df_categ = df_categ.dropna()\n",
    "df_categ.head()"
   ]
  },
  {
   "cell_type": "code",
   "execution_count": 10,
   "metadata": {
    "scrolled": true
   },
   "outputs": [
    {
     "name": "stdout",
     "output_type": "stream",
     "text": [
      "1    50092\n",
      "0     5861\n",
      "Name: label, dtype: int64\n"
     ]
    }
   ],
   "source": [
    "print(df_categ['label'].value_counts())"
   ]
  },
  {
   "cell_type": "markdown",
   "metadata": {},
   "source": [
    "### Note: This data set has serious class imbalance issue"
   ]
  },
  {
   "cell_type": "code",
   "execution_count": 11,
   "metadata": {},
   "outputs": [],
   "source": [
    "#Address class imbalance:\n",
    "def classImballanceDownSample(df,ycol):\n",
    "    df = df.copy()\n",
    "    valueCount = df[ycol].value_counts()\n",
    "    print(\"Before Class Imballance Treatment: \")\n",
    "    print(valueCount)\n",
    "    classes = valueCount.index\n",
    "    counts = valueCount.values\n",
    "    minClassSize = np.min(counts)\n",
    "    for clas in classes:\n",
    "        df1 = df[df[ycol]==clas]\n",
    "        df2 = df[df[ycol]!=clas]\n",
    "        \n",
    "        df1 = df1.sample(n=minClassSize, random_state=50)\n",
    "        df = df1.append(df2)\n",
    "    #shuffling the dataframe\n",
    "    df = df.sample(frac=1).reset_index(drop=True)\n",
    "    print(\"After Class Imballance Treatment: \")\n",
    "    print(df[ycol].value_counts())\n",
    "    return df "
   ]
  },
  {
   "cell_type": "code",
   "execution_count": 12,
   "metadata": {
    "scrolled": true
   },
   "outputs": [
    {
     "name": "stdout",
     "output_type": "stream",
     "text": [
      "Before Class Imballance Treatment: \n",
      "1    50092\n",
      "0     5861\n",
      "Name: label, dtype: int64\n",
      "After Class Imballance Treatment: \n",
      "1    5861\n",
      "0    5861\n",
      "Name: label, dtype: int64\n"
     ]
    }
   ],
   "source": [
    "df_categ = classImballanceDownSample(df_categ, 'label')"
   ]
  },
  {
   "cell_type": "code",
   "execution_count": 13,
   "metadata": {},
   "outputs": [
    {
     "data": {
      "text/plain": [
       "(11722, 25)"
      ]
     },
     "execution_count": 13,
     "metadata": {},
     "output_type": "execute_result"
    }
   ],
   "source": [
    "df_categ.shape"
   ]
  },
  {
   "cell_type": "code",
   "execution_count": 14,
   "metadata": {},
   "outputs": [],
   "source": [
    "label = df_categ[['label']]\n",
    "X = df_categ.drop(['label'], axis=1)"
   ]
  },
  {
   "cell_type": "code",
   "execution_count": 15,
   "metadata": {},
   "outputs": [
    {
     "data": {
      "text/plain": [
       "(11722, 1)"
      ]
     },
     "execution_count": 15,
     "metadata": {},
     "output_type": "execute_result"
    }
   ],
   "source": [
    "label.shape"
   ]
  },
  {
   "cell_type": "code",
   "execution_count": 16,
   "metadata": {},
   "outputs": [
    {
     "data": {
      "text/plain": [
       "(11722, 24)"
      ]
     },
     "execution_count": 16,
     "metadata": {},
     "output_type": "execute_result"
    }
   ],
   "source": [
    "X.shape"
   ]
  },
  {
   "cell_type": "code",
   "execution_count": 17,
   "metadata": {
    "scrolled": true
   },
   "outputs": [
    {
     "name": "stdout",
     "output_type": "stream",
     "text": [
      "label\n",
      "1    5861\n",
      "0    5861\n",
      "Name: label, dtype: int64\n",
      "\n"
     ]
    }
   ],
   "source": [
    "#0:Both; 1: E-smoker; 2: None 3: Smoker\n",
    "for c in label.columns:\n",
    "    print(c)\n",
    "    print(label[c].value_counts())\n",
    "    print()"
   ]
  },
  {
   "cell_type": "markdown",
   "metadata": {},
   "source": [
    "# 2. Feature selection"
   ]
  },
  {
   "cell_type": "markdown",
   "metadata": {},
   "source": [
    "### 2.1 Random Forest (RF) Classifier"
   ]
  },
  {
   "cell_type": "code",
   "execution_count": 18,
   "metadata": {},
   "outputs": [
    {
     "name": "stdout",
     "output_type": "stream",
     "text": [
      "(7853, 24) (7853, 1) (3869, 24) (3869, 1)\n"
     ]
    }
   ],
   "source": [
    "X_train, X_test, Y_train, Y_test = train_test_split(X, label, test_size=0.33, random_state=100)\n",
    "print(X_train.shape, Y_train.shape, X_test.shape, Y_test.shape)"
   ]
  },
  {
   "cell_type": "code",
   "execution_count": 19,
   "metadata": {},
   "outputs": [],
   "source": [
    "#fit Random Forest and test the accuracy:\n",
    "def RandomForest(x_train, y_train, x_test, y_test):   \n",
    "    rf = RandomForestClassifier(n_estimators=100)\n",
    "    rf.fit(x_train, y_train)   \n",
    "    y_pred = rf.predict(x_test)\n",
    "    cm = confusion_matrix(y_test, y_pred)\n",
    "    MSE_rf = mean_squared_error(y_test, y_pred)\n",
    "    ACC_rf = (cm[0][0] + cm[1][1]) / (len(y_pred))\n",
    "    #accuracy = metrics.accuracy_score(test_y, predictions)\n",
    "    table_rf = [[' ','0', '1'],\n",
    "             ['0', cm[0][0], cm[0][1]],\n",
    "             ['1', cm[1][0], cm[1][1]]] \n",
    "            \n",
    "    #feature_importances = rf.feature_importances_\n",
    "    #top5_rf = sorted(feature_importances, reverse=True)[:5]\n",
    "    importances = pd.DataFrame({'feature':x_train.columns,'importance':np.round(rf.feature_importances_,5)})\n",
    "    importances = importances.sort_values('importance',ascending=False).set_index('feature')\n",
    "    \n",
    "    print(\"The confusion matrix is:\")\n",
    "    print(tabulate(table_rf, tablefmt=\"fancy_grid\", numalign = \"center\"))\n",
    "    print('The Accuracy Rate is', ACC_rf)\n",
    "    print('The Mean Squared Error is:', MSE_rf)\n",
    "    print('-------------------------------------------------')\n",
    "    print('The Classification Report is:')\n",
    "    print(classification_report(y_test, y_pred))\n",
    "    print('The Feature Importance is:')\n",
    "    print(importances)\n",
    "    \n",
    "    return ACC_rf, MSE_rf, importances\n",
    "    #print(feature_importances)\n",
    "    #print('The Top 5 important features are:')\n",
    "    #print([(x_train.columns[feature_importances.tolist().index(top5_rf[i])], top5_rf[i]) for i in range(5)])"
   ]
  },
  {
   "cell_type": "code",
   "execution_count": 20,
   "metadata": {
    "scrolled": false
   },
   "outputs": [
    {
     "name": "stderr",
     "output_type": "stream",
     "text": [
      "/Users/A123/anaconda3/lib/python3.6/site-packages/ipykernel_launcher.py:4: DataConversionWarning: A column-vector y was passed when a 1d array was expected. Please change the shape of y to (n_samples,), for example using ravel().\n",
      "  after removing the cwd from sys.path.\n"
     ]
    },
    {
     "name": "stdout",
     "output_type": "stream",
     "text": [
      "The confusion matrix is:\n",
      "╒═══╤══════╤══════╕\n",
      "│   │  0   │  1   │\n",
      "├───┼──────┼──────┤\n",
      "│ 0 │ 1215 │ 718  │\n",
      "├───┼──────┼──────┤\n",
      "│ 1 │ 773  │ 1163 │\n",
      "╘═══╧══════╧══════╛\n",
      "The Accuracy Rate is 0.6146291031274231\n",
      "The Mean Squared Error is: 0.3853708968725769\n",
      "-------------------------------------------------\n",
      "The Classification Report is:\n",
      "             precision    recall  f1-score   support\n",
      "\n",
      "          0       0.61      0.63      0.62      1933\n",
      "          1       0.62      0.60      0.61      1936\n",
      "\n",
      "avg / total       0.61      0.61      0.61      3869\n",
      "\n",
      "The Feature Importance is:\n",
      "                           importance\n",
      "feature                              \n",
      "ads18_weight                  0.11837\n",
      "ads18_vegIntake               0.08862\n",
      "ads18_potatoIntake            0.08852\n",
      "ads18_state                   0.08653\n",
      "LocationDesc                  0.08635\n",
      "ads18_fruitIntake             0.08569\n",
      "Cigarette_tax                 0.08561\n",
      "ads18_income                  0.05407\n",
      "ads18_edu                     0.04717\n",
      "ads18_hivtest                 0.02423\n",
      "ads18_highBP                  0.02236\n",
      "ads18_havechild               0.02223\n",
      "ads18_white                   0.01934\n",
      "ads18_obese                   0.01885\n",
      "ads18_drinkdaily              0.01882\n",
      "ads18_exercise                0.01870\n",
      "ads18_drinkbinge              0.01813\n",
      "ads18_affordDoc               0.01746\n",
      "ads18_highChl                 0.01722\n",
      "ads18_unknownChl              0.01589\n",
      "ads18_asthma                  0.01540\n",
      "ads18_frequentHealthIssue     0.01476\n",
      "ads18_formerasthma            0.00862\n",
      "ads18_stroke                  0.00705\n"
     ]
    }
   ],
   "source": [
    "ACC_rf, MSE_rf, importances = RandomForest(X_train, Y_train, X_test, Y_test)"
   ]
  },
  {
   "cell_type": "markdown",
   "metadata": {},
   "source": [
    "## 2.2 K-nearest-neighbour Classifier"
   ]
  },
  {
   "cell_type": "code",
   "execution_count": 21,
   "metadata": {},
   "outputs": [],
   "source": [
    "def KNN(x, y, x_train, y_train, x_test, y_test):\n",
    "    NN = int(np.sqrt(len(x_train)))\n",
    "    how = 'distance'\n",
    "    n_feats = len(x.columns)\n",
    "    knn = neighbors.KNeighborsClassifier(NN, how)\n",
    "    knn.fit(x_train, y_train)\n",
    "    y_pred = knn.predict(x_test)\n",
    "    cm = confusion_matrix(y_test, y_pred)\n",
    "    MSE_knn = mean_squared_error(y_test, y_pred)\n",
    "    ACC_knn = (cm[0][0] + cm[1][1]) / (len(y_pred))\n",
    "    #accuracy = metrics.accuracy_score(test_y, predictions)\n",
    "    table_knn = [[' ','0', '1'],\n",
    "             ['0', cm[0][0], cm[0][1]],\n",
    "             ['1', cm[1][0], cm[1][1]]] \n",
    "    \n",
    "    print(\"The confusion matrix is:\")\n",
    "    print(tabulate(table_knn, tablefmt=\"fancy_grid\", numalign = \"center\"))\n",
    "    print('The Accuracy Rate is', ACC_knn)\n",
    "    print('The Mean Squared Error is:', MSE_knn)\n",
    "    print('-------------------------------------------------')\n",
    "    print('The Classification Report is:')\n",
    "    print(classification_report(y_test, y_pred))\n",
    "    return ACC_knn, MSE_knn\n",
    "    #print('Feature  Accuracy')\n",
    "    #for i in range(n_feats):\n",
    "        #X = x[:, i].reshape(-1, 1)\n",
    "        #scores = cross_val_score(knn, x, y)\n",
    "        #print('%d        %g' % (x.columns[i], scores.mean()))"
   ]
  },
  {
   "cell_type": "code",
   "execution_count": 22,
   "metadata": {
    "scrolled": false
   },
   "outputs": [
    {
     "name": "stderr",
     "output_type": "stream",
     "text": [
      "/Users/A123/anaconda3/lib/python3.6/site-packages/ipykernel_launcher.py:6: DataConversionWarning: A column-vector y was passed when a 1d array was expected. Please change the shape of y to (n_samples, ), for example using ravel().\n",
      "  \n"
     ]
    },
    {
     "name": "stdout",
     "output_type": "stream",
     "text": [
      "The confusion matrix is:\n",
      "╒═══╤══════╤═════╕\n",
      "│   │  0   │  1  │\n",
      "├───┼──────┼─────┤\n",
      "│ 0 │ 1146 │ 787 │\n",
      "├───┼──────┼─────┤\n",
      "│ 1 │ 1041 │ 895 │\n",
      "╘═══╧══════╧═════╛\n",
      "The Accuracy Rate is 0.5275264926337555\n",
      "The Mean Squared Error is: 0.4724735073662445\n",
      "-------------------------------------------------\n",
      "The Classification Report is:\n",
      "             precision    recall  f1-score   support\n",
      "\n",
      "          0       0.52      0.59      0.56      1933\n",
      "          1       0.53      0.46      0.49      1936\n",
      "\n",
      "avg / total       0.53      0.53      0.53      3869\n",
      "\n"
     ]
    }
   ],
   "source": [
    "ACC_knn, MSE_knn = KNN(X, label, X_train, Y_train, X_test, Y_test)"
   ]
  },
  {
   "cell_type": "markdown",
   "metadata": {},
   "source": [
    "## 2.3 Naive Bayes (NB) Classifier"
   ]
  },
  {
   "cell_type": "code",
   "execution_count": 23,
   "metadata": {},
   "outputs": [],
   "source": [
    "def GNB(x_train, y_train, x_test, y_test):\n",
    "    gnb = GaussianNB()\n",
    "    gnb.fit(x_train, y_train)\n",
    "    y_pred = gnb.predict(x_test)\n",
    "    cm = confusion_matrix(y_test, y_pred)\n",
    "    MSE_gnb = mean_squared_error(y_test, y_pred)\n",
    "    ACC_gnb = (cm[0][0] + cm[1][1]) / (len(y_pred))\n",
    "    #accuracy = metrics.accuracy_score(test_y, predictions)\n",
    "    table_gnb = [[' ','0', '1'],\n",
    "             ['0', cm[0][0], cm[0][1]],\n",
    "             ['1', cm[1][0], cm[1][1]]] \n",
    "    \n",
    "    print(\"The confusion matrix is:\")\n",
    "    print(tabulate(table_gnb, tablefmt=\"fancy_grid\", numalign = \"center\"))\n",
    "    print('The Accuracy Rate is', ACC_gnb)\n",
    "    print('The Mean Squared Error is:', MSE_gnb)\n",
    "    print('-------------------------------------------------')\n",
    "    print('The Classification Report is:')\n",
    "    print(classification_report(y_test, y_pred))\n",
    "    return ACC_gnb, MSE_gnb"
   ]
  },
  {
   "cell_type": "code",
   "execution_count": 24,
   "metadata": {
    "scrolled": false
   },
   "outputs": [
    {
     "name": "stdout",
     "output_type": "stream",
     "text": [
      "The confusion matrix is:\n",
      "╒═══╤══════╤══════╕\n",
      "│   │  0   │  1   │\n",
      "├───┼──────┼──────┤\n",
      "│ 0 │ 1158 │ 775  │\n",
      "├───┼──────┼──────┤\n",
      "│ 1 │ 741  │ 1195 │\n",
      "╘═══╧══════╧══════╛\n",
      "The Accuracy Rate is 0.6081674851382787\n",
      "The Mean Squared Error is: 0.3918325148617214\n",
      "-------------------------------------------------\n",
      "The Classification Report is:\n",
      "             precision    recall  f1-score   support\n",
      "\n",
      "          0       0.61      0.60      0.60      1933\n",
      "          1       0.61      0.62      0.61      1936\n",
      "\n",
      "avg / total       0.61      0.61      0.61      3869\n",
      "\n"
     ]
    },
    {
     "name": "stderr",
     "output_type": "stream",
     "text": [
      "/Users/A123/anaconda3/lib/python3.6/site-packages/sklearn/utils/validation.py:578: DataConversionWarning: A column-vector y was passed when a 1d array was expected. Please change the shape of y to (n_samples, ), for example using ravel().\n",
      "  y = column_or_1d(y, warn=True)\n"
     ]
    }
   ],
   "source": [
    "ACC_gnb, MSE_gnb = GNB(X_train, Y_train, X_test, Y_test)"
   ]
  },
  {
   "cell_type": "markdown",
   "metadata": {},
   "source": [
    "## 2.4 Random guessing"
   ]
  },
  {
   "cell_type": "code",
   "execution_count": 25,
   "metadata": {},
   "outputs": [],
   "source": [
    "def Guess(y):\n",
    "    y_pred = np.random.permutation(y)\n",
    "    cm = confusion_matrix(y, y_pred)\n",
    "    MSE_guess = mean_squared_error(y, y_pred)\n",
    "    ACC_guess = (cm[0][0] + cm[1][1]) / (len(y_pred))\n",
    "    #accuracy = metrics.accuracy_score(test_y, predictions)\n",
    "    table_guess = [[' ','0', '1'],\n",
    "             ['0', cm[0][0], cm[0][1]],\n",
    "             ['1', cm[1][0], cm[1][1]]]\n",
    "    \n",
    "    print(\"The confusion matrix is:\")\n",
    "    print(tabulate(table_guess, tablefmt=\"fancy_grid\", numalign = \"center\"))\n",
    "    print('The Accuracy Rate is', ACC_guess)\n",
    "    print('The Mean Squared Error is:', MSE_guess)\n",
    "    print('-------------------------------------------------')\n",
    "    print('The Classification Report is:')\n",
    "    print(classification_report(y, y_pred))\n",
    "    return ACC_guess, MSE_guess"
   ]
  },
  {
   "cell_type": "code",
   "execution_count": 26,
   "metadata": {},
   "outputs": [
    {
     "name": "stdout",
     "output_type": "stream",
     "text": [
      "The confusion matrix is:\n",
      "╒═══╤══════╤══════╕\n",
      "│   │  0   │  1   │\n",
      "├───┼──────┼──────┤\n",
      "│ 0 │ 2912 │ 2949 │\n",
      "├───┼──────┼──────┤\n",
      "│ 1 │ 2949 │ 2912 │\n",
      "╘═══╧══════╧══════╛\n",
      "The Accuracy Rate is 0.49684354205766934\n",
      "The Mean Squared Error is: 0.5031564579423307\n",
      "-------------------------------------------------\n",
      "The Classification Report is:\n",
      "             precision    recall  f1-score   support\n",
      "\n",
      "          0       0.50      0.50      0.50      5861\n",
      "          1       0.50      0.50      0.50      5861\n",
      "\n",
      "avg / total       0.50      0.50      0.50     11722\n",
      "\n"
     ]
    }
   ],
   "source": [
    "ACC_guess, MSE_guess = Guess(label)"
   ]
  },
  {
   "cell_type": "markdown",
   "metadata": {},
   "source": [
    "## 2.5 Compare the above results:"
   ]
  },
  {
   "cell_type": "code",
   "execution_count": 27,
   "metadata": {},
   "outputs": [
    {
     "name": "stdout",
     "output_type": "stream",
     "text": [
      "RF\n",
      "The Accuracy Rate is: 0.6146291031274231\n",
      "The Mean Squared Error is: 0.3853708968725769\n",
      "\n",
      "KNN\n",
      "The Accuracy Rate is: 0.5275264926337555\n",
      "The Mean Squared Error is: 0.4724735073662445\n",
      "\n",
      "GaussianNB\n",
      "The Accuracy Rate is: 0.6081674851382787\n",
      "The Mean Squared Error is: 0.3918325148617214\n",
      "\n",
      "Random guess\n",
      "The Accuracy Rate is: 0.49684354205766934\n",
      "The Mean Squared Error is: 0.5031564579423307\n",
      "\n",
      "-----------------------------------------\n",
      "Top 5 importance features based on RF:\n",
      "                    importance\n",
      "feature                       \n",
      "ads18_weight           0.11837\n",
      "ads18_vegIntake        0.08862\n",
      "ads18_potatoIntake     0.08852\n",
      "ads18_state            0.08653\n",
      "LocationDesc           0.08635\n"
     ]
    }
   ],
   "source": [
    "method = ['RF', 'KNN', 'GaussianNB', 'Random guess']\n",
    "ACC = [ACC_rf, ACC_knn, ACC_gnb, ACC_guess]\n",
    "MSE = [MSE_rf, MSE_knn, MSE_gnb, MSE_guess]\n",
    "for i in range(4):\n",
    "    print(method[i])\n",
    "    print('The Accuracy Rate is: %s'%ACC[i])\n",
    "    print('The Mean Squared Error is: %s'%MSE[i])\n",
    "    print()\n",
    "print('-----------------------------------------')\n",
    "print('Top 5 importance features based on RF:')\n",
    "print(importances[:5])"
   ]
  },
  {
   "cell_type": "markdown",
   "metadata": {},
   "source": [
    "# 3. Build the logit model to do the interpretation"
   ]
  },
  {
   "cell_type": "code",
   "execution_count": 28,
   "metadata": {
    "scrolled": false
   },
   "outputs": [
    {
     "name": "stdout",
     "output_type": "stream",
     "text": [
      "(7853, 24) (7853, 1) (3869, 24) (3869, 1)\n"
     ]
    }
   ],
   "source": [
    "print(X_train.shape, Y_train.shape, X_test.shape, Y_test.shape)"
   ]
  },
  {
   "cell_type": "code",
   "execution_count": 29,
   "metadata": {},
   "outputs": [
    {
     "data": {
      "text/html": [
       "<div>\n",
       "<style scoped>\n",
       "    .dataframe tbody tr th:only-of-type {\n",
       "        vertical-align: middle;\n",
       "    }\n",
       "\n",
       "    .dataframe tbody tr th {\n",
       "        vertical-align: top;\n",
       "    }\n",
       "\n",
       "    .dataframe thead th {\n",
       "        text-align: right;\n",
       "    }\n",
       "</style>\n",
       "<table border=\"1\" class=\"dataframe\">\n",
       "  <thead>\n",
       "    <tr style=\"text-align: right;\">\n",
       "      <th></th>\n",
       "      <th>label</th>\n",
       "    </tr>\n",
       "  </thead>\n",
       "  <tbody>\n",
       "    <tr>\n",
       "      <th>9496</th>\n",
       "      <td>1</td>\n",
       "    </tr>\n",
       "    <tr>\n",
       "      <th>2123</th>\n",
       "      <td>0</td>\n",
       "    </tr>\n",
       "    <tr>\n",
       "      <th>818</th>\n",
       "      <td>1</td>\n",
       "    </tr>\n",
       "    <tr>\n",
       "      <th>1849</th>\n",
       "      <td>1</td>\n",
       "    </tr>\n",
       "    <tr>\n",
       "      <th>6293</th>\n",
       "      <td>1</td>\n",
       "    </tr>\n",
       "  </tbody>\n",
       "</table>\n",
       "</div>"
      ],
      "text/plain": [
       "      label\n",
       "9496      1\n",
       "2123      0\n",
       "818       1\n",
       "1849      1\n",
       "6293      1"
      ]
     },
     "execution_count": 29,
     "metadata": {},
     "output_type": "execute_result"
    }
   ],
   "source": [
    "Y_train.head()"
   ]
  },
  {
   "cell_type": "code",
   "execution_count": 30,
   "metadata": {
    "scrolled": false
   },
   "outputs": [
    {
     "name": "stdout",
     "output_type": "stream",
     "text": [
      "Optimization terminated successfully.\n",
      "         Current function value: 0.659633\n",
      "         Iterations 6\n",
      "                          MNLogit Regression Results                          \n",
      "==============================================================================\n",
      "Dep. Variable:                  label   No. Observations:                 7853\n",
      "Model:                        MNLogit   Df Residuals:                     7830\n",
      "Method:                           MLE   Df Model:                           22\n",
      "Date:                Mon, 17 Dec 2018   Pseudo R-squ.:                 0.04835\n",
      "Time:                        19:02:55   Log-Likelihood:                -5180.1\n",
      "converged:                       True   LL-Null:                       -5443.3\n",
      "                                        LLR p-value:                 2.289e-97\n",
      "=============================================================================================\n",
      "                  label=1       coef    std err          z      P>|z|      [0.025      0.975]\n",
      "---------------------------------------------------------------------------------------------\n",
      "ads18_frequentHealthIssue    -0.0099      0.067     -0.148      0.882      -0.140       0.121\n",
      "ads18_highBP                 -0.4279      0.056     -7.688      0.000      -0.537      -0.319\n",
      "ads18_highChl                -0.0260      0.058     -0.444      0.657      -0.141       0.089\n",
      "ads18_unknownChl              0.5307      0.056      9.423      0.000       0.420       0.641\n",
      "ads18_asthma                  0.1002      0.075      1.340      0.180      -0.046       0.247\n",
      "ads18_formerasthma            0.6602      0.135      4.892      0.000       0.396       0.925\n",
      "ads18_white                   0.1914      0.055      3.468      0.001       0.083       0.300\n",
      "ads18_weight              -4.069e-05    1.2e-05     -3.400      0.001   -6.41e-05   -1.72e-05\n",
      "ads18_obese                   0.1071      0.069      1.557      0.119      -0.028       0.242\n",
      "ads18_havechild               0.0054      0.047      0.116      0.908      -0.087       0.097\n",
      "ads18_edu                    -0.1226      0.011    -11.253      0.000      -0.144      -0.101\n",
      "ads18_income                 -0.1111      0.016     -6.746      0.000      -0.143      -0.079\n",
      "ads18_drinkdaily              0.1696      0.057      2.971      0.003       0.058       0.281\n",
      "ads18_drinkbinge             -0.0615      0.061     -1.015      0.310      -0.180       0.057\n",
      "ads18_fruitIntake            -0.0008      0.000     -3.474      0.001      -0.001      -0.000\n",
      "ads18_vegIntake               0.0004      0.000      1.138      0.255      -0.000       0.001\n",
      "ads18_potatoIntake            0.0011      0.000      2.946      0.003       0.000       0.002\n",
      "ads18_exercise                0.3407      0.050      6.796      0.000       0.242       0.439\n",
      "ads18_hivtest                 0.0448      0.048      0.931      0.352      -0.050       0.139\n",
      "ads18_affordDoc              -0.0010      0.060     -0.016      0.987      -0.120       0.118\n",
      "ads18_stroke                 -0.1019         -0        inf      0.000      -0.102      -0.102\n",
      "ads18_state                   0.0020        nan        nan        nan         nan         nan\n",
      "LocationDesc                  0.0020        nan        nan        nan         nan         nan\n",
      "Cigarette_tax                -0.0338      0.022     -1.544      0.123      -0.077       0.009\n",
      "=============================================================================================\n"
     ]
    },
    {
     "name": "stderr",
     "output_type": "stream",
     "text": [
      "/Users/A123/anaconda3/lib/python3.6/site-packages/statsmodels/discrete/discrete_model.py:3967: RuntimeWarning: invalid value encountered in sqrt\n",
      "  bse = np.sqrt(np.diag(self.cov_params()))\n",
      "/Users/A123/anaconda3/lib/python3.6/site-packages/statsmodels/base/model.py:1100: RuntimeWarning: divide by zero encountered in true_divide\n",
      "  return self.params / self.bse\n",
      "/Users/A123/anaconda3/lib/python3.6/site-packages/scipy/stats/_distn_infrastructure.py:879: RuntimeWarning: invalid value encountered in greater\n",
      "  return (self.a < x) & (x < self.b)\n",
      "/Users/A123/anaconda3/lib/python3.6/site-packages/scipy/stats/_distn_infrastructure.py:879: RuntimeWarning: invalid value encountered in less\n",
      "  return (self.a < x) & (x < self.b)\n",
      "/Users/A123/anaconda3/lib/python3.6/site-packages/scipy/stats/_distn_infrastructure.py:1821: RuntimeWarning: invalid value encountered in less_equal\n",
      "  cond2 = cond0 & (x <= self.a)\n"
     ]
    }
   ],
   "source": [
    "mnlogit = MNLogit(Y_train, X_train).fit()\n",
    "print(mnlogit.summary())"
   ]
  },
  {
   "cell_type": "code",
   "execution_count": 31,
   "metadata": {
    "scrolled": false
   },
   "outputs": [
    {
     "name": "stdout",
     "output_type": "stream",
     "text": [
      "       MNLogit Marginal Effects      \n",
      "=====================================\n",
      "Dep. Variable:                  label\n",
      "Method:                          dydx\n",
      "At:                           overall\n",
      "=============================================================================================\n",
      "                  label=0      dy/dx    std err          z      P>|z|      [0.025      0.975]\n",
      "---------------------------------------------------------------------------------------------\n",
      "ads18_frequentHealthIssue     0.0023   3393.513   6.81e-07      1.000   -6651.160    6651.165\n",
      "ads18_highBP                  0.1000   4325.450   2.31e-05      1.000   -8477.627    8477.827\n",
      "ads18_highChl                 0.0061   1933.990   3.14e-06      1.000   -3790.544    3790.556\n",
      "ads18_unknownChl             -0.1241   2.63e+04  -4.72e-06      1.000   -5.15e+04    5.15e+04\n",
      "ads18_asthma                 -0.0234   6366.963  -3.68e-06      1.000   -1.25e+04    1.25e+04\n",
      "ads18_formerasthma           -0.1543        nan        nan        nan         nan         nan\n",
      "ads18_white                  -0.0447        nan        nan        nan         nan         nan\n",
      "ads18_weight               9.511e-06        nan        nan        nan         nan         nan\n",
      "ads18_obese                  -0.0250   1.28e+04  -1.96e-06      1.000   -2.51e+04    2.51e+04\n",
      "ads18_havechild              -0.0013        nan        nan        nan         nan         nan\n",
      "ads18_edu                     0.0286        nan        nan        nan         nan         nan\n",
      "ads18_income                  0.0260   3014.233   8.62e-06      1.000   -5907.763    5907.815\n",
      "ads18_drinkdaily             -0.0396        nan        nan        nan         nan         nan\n",
      "ads18_drinkbinge              0.0144        nan        nan        nan         nan         nan\n",
      "ads18_fruitIntake             0.0002     20.007   9.18e-06      1.000     -39.213      39.213\n",
      "ads18_vegIntake           -8.552e-05        nan        nan        nan         nan         nan\n",
      "ads18_potatoIntake           -0.0003     12.498     -2e-05      1.000     -24.496      24.495\n",
      "ads18_exercise               -0.0796   6301.022  -1.26e-05      1.000   -1.23e+04    1.23e+04\n",
      "ads18_hivtest                -0.0105        nan        nan        nan         nan         nan\n",
      "ads18_affordDoc               0.0002    128.612   1.77e-06      1.000    -252.075     252.076\n",
      "ads18_stroke                  0.0238        nan        nan        nan         nan         nan\n",
      "ads18_state                  -0.0005        nan        nan        nan         nan         nan\n",
      "LocationDesc                 -0.0005        nan        nan        nan         nan         nan\n",
      "Cigarette_tax                 0.0079        nan        nan        nan         nan         nan\n",
      "---------------------------------------------------------------------------------------------\n",
      "                  label=1      dy/dx    std err          z      P>|z|      [0.025      0.975]\n",
      "---------------------------------------------------------------------------------------------\n",
      "ads18_frequentHealthIssue    -0.0023   3393.529  -6.81e-07      1.000   -6651.197    6651.193\n",
      "ads18_highBP                 -0.1000   4289.473  -2.33e-05      1.000   -8407.312    8407.112\n",
      "ads18_highChl                -0.0061   1933.686  -3.14e-06      1.000   -3789.961    3789.949\n",
      "ads18_unknownChl              0.1241   2.63e+04   4.72e-06      1.000   -5.15e+04    5.15e+04\n",
      "ads18_asthma                  0.0234   6366.963   3.68e-06      1.000   -1.25e+04    1.25e+04\n",
      "ads18_formerasthma            0.1543        nan        nan        nan         nan         nan\n",
      "ads18_white                   0.0447        nan        nan        nan         nan         nan\n",
      "ads18_weight              -9.511e-06        nan        nan        nan         nan         nan\n",
      "ads18_obese                   0.0250   1.28e+04   1.96e-06      1.000   -2.51e+04    2.51e+04\n",
      "ads18_havechild               0.0013        nan        nan        nan         nan         nan\n",
      "ads18_edu                    -0.0286        nan        nan        nan         nan         nan\n",
      "ads18_income                 -0.0260   3014.233  -8.62e-06      1.000   -5907.815    5907.763\n",
      "ads18_drinkdaily              0.0396        nan        nan        nan         nan         nan\n",
      "ads18_drinkbinge             -0.0144        nan        nan        nan         nan         nan\n",
      "ads18_fruitIntake            -0.0002     20.007  -9.18e-06      1.000     -39.213      39.213\n",
      "ads18_vegIntake            8.552e-05        nan        nan        nan         nan         nan\n",
      "ads18_potatoIntake            0.0003     12.498      2e-05      1.000     -24.495      24.496\n",
      "ads18_exercise                0.0796   6301.022   1.26e-05      1.000   -1.23e+04    1.23e+04\n",
      "ads18_hivtest                 0.0105        nan        nan        nan         nan         nan\n",
      "ads18_affordDoc              -0.0002    128.612  -1.77e-06      1.000    -252.076     252.075\n",
      "ads18_stroke                 -0.0238        nan        nan        nan         nan         nan\n",
      "ads18_state                   0.0005        nan        nan        nan         nan         nan\n",
      "LocationDesc                  0.0005        nan        nan        nan         nan         nan\n",
      "Cigarette_tax                -0.0079        nan        nan        nan         nan         nan\n",
      "=============================================================================================\n"
     ]
    },
    {
     "name": "stderr",
     "output_type": "stream",
     "text": [
      "/Users/A123/anaconda3/lib/python3.6/site-packages/statsmodels/discrete/discrete_margins.py:343: RuntimeWarning: invalid value encountered in sqrt\n",
      "  return cov_me, np.sqrt(np.diag(cov_me))\n",
      "/Users/A123/anaconda3/lib/python3.6/site-packages/scipy/stats/_distn_infrastructure.py:879: RuntimeWarning: invalid value encountered in greater\n",
      "  return (self.a < x) & (x < self.b)\n",
      "/Users/A123/anaconda3/lib/python3.6/site-packages/scipy/stats/_distn_infrastructure.py:879: RuntimeWarning: invalid value encountered in less\n",
      "  return (self.a < x) & (x < self.b)\n",
      "/Users/A123/anaconda3/lib/python3.6/site-packages/scipy/stats/_distn_infrastructure.py:1821: RuntimeWarning: invalid value encountered in less_equal\n",
      "  cond2 = cond0 & (x <= self.a)\n"
     ]
    }
   ],
   "source": [
    "marginal = mnlogit.get_margeff()\n",
    "print(marginal.summary())"
   ]
  },
  {
   "cell_type": "code",
   "execution_count": 37,
   "metadata": {},
   "outputs": [],
   "source": [
    "pred = mnlogit.predict(X_test)\n",
    "scores = np.arange(0, 1, .05)"
   ]
  },
  {
   "cell_type": "code",
   "execution_count": 38,
   "metadata": {},
   "outputs": [],
   "source": [
    "def ROC(actual, pred, scores):\n",
    "    \n",
    "    tpr = np.zeros((len(scores),), dtype=np.float)\n",
    "    fpr = np.zeros((len(scores),), dtype=np.float)\n",
    "    acc = np.zeros((len(scores),), dtype=np.float)\n",
    "    mse = np.zeros((len(scores),), dtype=np.float)\n",
    "    \n",
    "    for i in range(len(scores)):\n",
    "        prediction = np.zeros((len(pred),), dtype=np.int)\n",
    "        for j in range(len(pred)):\n",
    "            if np.array(pred)[j][1] > scores[i]: prediction[j] += 1      \n",
    "        cm = confusion_matrix(actual, prediction)\n",
    "        ms = mean_squared_error(actual, prediction)\n",
    "        TN, FP, FN, TP = cm[0][0], cm[0][1], cm[1][0], cm[1][1]\n",
    "        tpr[i] = TP/(TP + FN)\n",
    "        fpr[i] = FP/(TN + FP)\n",
    "        acc[i] = (TN + TP) / (TN + FP + FN + TP)\n",
    "        mse[i] = ms\n",
    "        \n",
    "    threshold = np.where(mse==mse.min())\n",
    "    print('The best threshold is', scores[threshold])\n",
    "    print('The highest accuracy rate is', acc[threshold])\n",
    "    print('The minimum MSE is', mse[threshold])    \n",
    "    \n",
    "    return tpr, fpr, acc, mse"
   ]
  },
  {
   "cell_type": "code",
   "execution_count": 39,
   "metadata": {},
   "outputs": [
    {
     "name": "stdout",
     "output_type": "stream",
     "text": [
      "The best threshold is [0.5]\n",
      "The highest accuracy rate is [0.61049367]\n",
      "The minimum MSE is [0.38950633]\n"
     ]
    }
   ],
   "source": [
    "TPR, FPR, ACC, MSE = ROC(Y_test, pred, scores)"
   ]
  },
  {
   "cell_type": "code",
   "execution_count": 40,
   "metadata": {},
   "outputs": [
    {
     "data": {
      "text/plain": [
       "Text(0.5,1,'Receiver Operating Characteristic (ROC) Curve')"
      ]
     },
     "execution_count": 40,
     "metadata": {},
     "output_type": "execute_result"
    },
    {
     "data": {
      "image/png": "[encoded data removed]",
      "text/plain": [
       "<Figure size 720x576 with 1 Axes>"
      ]
     },
     "metadata": {},
     "output_type": "display_data"
    }
   ],
   "source": [
    "plt.figure(figsize=(10,8))\n",
    "plt.plot(FPR, TPR, 'r--', lw=2)\n",
    "plt.xlim([0, 1])\n",
    "plt.ylim([0, 1])\n",
    "plt.xlabel('False Positive Rate', fontsize=16)\n",
    "plt.ylabel('True Positive Rate', fontsize=16)\n",
    "plt.title('Receiver Operating Characteristic (ROC) Curve', fontsize=20)"
   ]
  },
  {
   "cell_type": "code",
   "execution_count": 41,
   "metadata": {
    "scrolled": false
   },
   "outputs": [
    {
     "data": {
      "text/plain": [
       "Text(0.5,1,'Accuracy Rates')"
      ]
     },
     "execution_count": 41,
     "metadata": {},
     "output_type": "execute_result"
    },
    {
     "data": {
      "image/png": "[encoded data removed]",
      "text/plain": [
       "<Figure size 720x576 with 1 Axes>"
      ]
     },
     "metadata": {},
     "output_type": "display_data"
    }
   ],
   "source": [
    "plt.figure(figsize=(10, 8))\n",
    "plt.plot(scores, ACC, 'b--', lw=2)\n",
    "#plt.xlim([0, 1])\n",
    "#plt.ylim([0, 1])\n",
    "plt.xlabel('Threshold', fontsize=16)\n",
    "plt.ylabel('Rate', fontsize=16)\n",
    "plt.title('Accuracy Rates', fontsize=20)"
   ]
  },
  {
   "cell_type": "code",
   "execution_count": 43,
   "metadata": {
    "scrolled": false
   },
   "outputs": [
    {
     "data": {
      "text/plain": [
       "Text(0.5,1,'MSE')"
      ]
     },
     "execution_count": 43,
     "metadata": {},
     "output_type": "execute_result"
    },
    {
     "data": {
      "image/png": "[encoded data removed]",
      "text/plain": [
       "<Figure size 720x576 with 1 Axes>"
      ]
     },
     "metadata": {},
     "output_type": "display_data"
    }
   ],
   "source": [
    "plt.figure(figsize = (10, 8))\n",
    "plt.plot(scores, MSE, 'g--', lw=2)\n",
    "#plt.xlim([0, 1])\n",
    "#plt.ylim([0, 1])\n",
    "plt.xlabel('Threshold', fontsize=16)\n",
    "plt.ylabel('MSE', fontsize=16)\n",
    "plt.title('MSE', fontsize=20)"
   ]
  },
  {
   "cell_type": "code",
   "execution_count": null,
   "metadata": {},
   "outputs": [],
   "source": []
  },
  {
   "cell_type": "code",
   "execution_count": null,
   "metadata": {},
   "outputs": [],
   "source": []
  },
  {
   "cell_type": "code",
   "execution_count": null,
   "metadata": {},
   "outputs": [],
   "source": []
  },
  {
   "cell_type": "code",
   "execution_count": null,
   "metadata": {},
   "outputs": [],
   "source": []
  }
 ],
 "metadata": {
  "kernelspec": {
   "display_name": "Python 3",
   "language": "python",
   "name": "python3"
  },
  "language_info": {
   "codemirror_mode": {
    "name": "ipython",
    "version": 3
   },
   "file_extension": ".py",
   "mimetype": "text/x-python",
   "name": "python",
   "nbconvert_exporter": "python",
   "pygments_lexer": "ipython3",
   "version": "3.6.5"
  }
 },
 "nbformat": 4,
 "nbformat_minor": 2
}
