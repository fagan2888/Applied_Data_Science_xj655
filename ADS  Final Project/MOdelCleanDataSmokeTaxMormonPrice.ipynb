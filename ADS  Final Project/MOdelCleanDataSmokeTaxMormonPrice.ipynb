{
 "cells": [
  {
   "cell_type": "code",
   "execution_count": 3,
   "metadata": {},
   "outputs": [
    {
     "name": "stdout",
     "output_type": "stream",
     "text": [
      "Populating the interactive namespace from numpy and matplotlib\n"
     ]
    }
   ],
   "source": [
    "from __future__ import print_function\n",
    "import numpy as np\n",
    "import pandas as pd\n",
    "\n",
    "\n",
    "from sklearn.ensemble  import RandomForestClassifier as rfc\n",
    "from sklearn.model_selection import train_test_split\n",
    "from sklearn.metrics import confusion_matrix\n",
    "from sklearn.metrics import classification_report\n",
    "from sklearn.linear_model import LogisticRegression as logreg\n",
    "\n",
    "import statsmodels as sm\n",
    "import statsmodels.formula.api as smf\n",
    "import statsmodels.api as sma\n",
    "\n",
    "from sklearn.feature_selection import chi2\n",
    "\n",
    "import scipy as sp\n",
    "from scipy import stats\n",
    "\n",
    "from sklearn.preprocessing import LabelEncoder\n",
    "from sklearn import metrics\n",
    "\n",
    "import pylab as pl\n",
    "%pylab inline\n",
    "\n",
    "import geopandas as gp"
   ]
  },
  {
   "cell_type": "code",
   "execution_count": 4,
   "metadata": {},
   "outputs": [],
   "source": [
    "def filterPerfectCorrelation(df):\n",
    "    cols = df.columns\n",
    "    removeCols = []\n",
    "    for i in range(len(cols)-1):\n",
    "        for j in range(i+1,len(cols)):\n",
    "            cor = stats.pearsonr(df[cols[i]].values, df[cols[j]].values)[0]\n",
    "            if cor >=1 or cor <=-1:\n",
    "                removeCols.append(cols[i])\n",
    "    return df[[c for c in cols if c not in removeCols]]\n",
    "        "
   ]
  },
  {
   "cell_type": "code",
   "execution_count": 5,
   "metadata": {},
   "outputs": [],
   "source": [
    "def bolleanToNumeric(df):\n",
    "    for c in df.columns:\n",
    "        if df[c].dtype == 'bool':\n",
    "            df[c] = df[c].astype(int)\n",
    "    return df"
   ]
  },
  {
   "cell_type": "code",
   "execution_count": 6,
   "metadata": {},
   "outputs": [],
   "source": [
    "# remove class imballance by sampling from majority class\n",
    "def classImballanceDownSample(df,ycol):\n",
    "    df = df.copy()\n",
    "    valueCount = df[ycol].value_counts()\n",
    "    print(\"Before Class Imballance Treatment: \")\n",
    "    print(valueCount)\n",
    "    classes = valueCount.index\n",
    "    counts = valueCount.values\n",
    "    minClassSize = np.min(counts)\n",
    "    for clas in classes:\n",
    "        df1 = df[df[ycol]==clas]\n",
    "        df2 = df[df[ycol]!=clas]\n",
    "        \n",
    "        df1 = df1.sample(n=minClassSize, random_state=50)\n",
    "        df = df1.append(df2)\n",
    "    #shuffling the dataframe\n",
    "    df = df.sample(frac=1).reset_index(drop=True)\n",
    "    print(\"After Class Imballance Treatment: \")\n",
    "    print(df[ycol].value_counts())\n",
    "    return df  "
   ]
  },
  {
   "cell_type": "code",
   "execution_count": 7,
   "metadata": {},
   "outputs": [],
   "source": [
    "# remove class imballance by up sampling minority classes\n",
    "def classImballanceUpSample(df,ycol):\n",
    "    df = df.copy()\n",
    "    valueCount = df[ycol].value_counts()\n",
    "    print(\"Before Class Imballance Treatment: \")\n",
    "    print(valueCount)\n",
    "    classes = valueCount.index\n",
    "    counts = valueCount.values\n",
    "    maxClassSize = np.max(counts).astype(float)\n",
    "    fractions = maxClassSize / counts\n",
    "    for clas,f in zip(classes,fractions):\n",
    "        df1 = df[df[ycol]==clas]\n",
    "        df2 = df[df[ycol]!=clas]\n",
    "        \n",
    "        df1 = df1.sample(frac=f, replace=True, random_state=50)\n",
    "        df = df1.append(df2)\n",
    "    #shuffling the dataframe\n",
    "    df = df.sample(frac=1).reset_index(drop=True)\n",
    "    print(\"After Class Imballance Treatment: \")\n",
    "    print(df[ycol].value_counts())\n",
    "    return df  "
   ]
  },
  {
   "cell_type": "code",
   "execution_count": 8,
   "metadata": {},
   "outputs": [],
   "source": [
    "# model that trains a default random forest and prints the report\n",
    "def getModel(df,label, ballanceClasses=None, rfcBalance = None):\n",
    "    \n",
    "    xcols = [c for c in df.columns if c != label]\n",
    "    ycols = [label]\n",
    "    print(\"Predictors: \",len(xcols))\n",
    "    print(\"label: \",ycols[0])\n",
    "    \n",
    "#     if ballanceClasses != None:\n",
    "#         df = ballanceClasses(df, ycols[0])\n",
    "        \n",
    "    X = df[xcols]\n",
    "    Y = df[ycols]\n",
    "    \n",
    "    #X = labelEncodeCategoricalFeatures(X)\n",
    "    #print(\"Label Encoding.\")\n",
    "    \n",
    "    X_train, X_test, y_train, y_test = train_test_split(X, Y, test_size=0.33, random_state=42, shuffle=True)\n",
    "    print(\"Train Test Split:\")\n",
    "    print(np.array(X_train).shape, np.array(X_test).shape, np.array(y_train).shape, np.array(y_test).shape)\n",
    "    \n",
    "    if ballanceClasses != None:\n",
    "        dfTrain = X_train\n",
    "        dfTrain['label'] = y_train\n",
    "        dfTrain = ballanceClasses(dfTrain,'label')\n",
    "        X_train = dfTrain[ [c for c in dfTrain.columns if c not in 'label'] ]\n",
    "        y_train = dfTrain['label']\n",
    "    \n",
    "    #print(\"Checking if sampling worked:\")\n",
    "    #print(y_train.value_counts())\n",
    "    #print()\n",
    "    \n",
    "    if rfcBalance == None:\n",
    "        clf = rfc()\n",
    "    else:\n",
    "        clf = rfc(class_weight = rfcBalance)\n",
    "        print(clf)\n",
    "    \n",
    "    #clf = rfc()\n",
    "    clf.fit(X_train, y_train.values.ravel())\n",
    "    y_pred = clf.predict(X_test)\n",
    "    print(\"OS Accuracy : \", np.sum(y_test[ycols[0]].values==y_pred).astype(float)/len(y_test) )\n",
    "    print(\"IS Accuracy : \", np.sum(y_train[ycols[0]]==clf.predict(X_train)).astype(float)/len(y_train) )\n",
    "    \n",
    "    print(classification_report(y_test[ycols[0]].values, y_pred))\n",
    "    \n",
    "    \n",
    "    for th in [0.05,0.1,0.2,0.4,0.5,0.6,0.8]:\n",
    "        y_pred = clf.predict_proba(X_test)[:,1] > th\n",
    "        print('TH: ',th)\n",
    "        print(\"Accuracy : \", np.sum(y_test[ycols[0]].values==y_pred).astype(float)/len(y_test) )\n",
    "        print(classification_report(y_test[ycols[0]].values, y_pred))\n",
    "        print()\n",
    "    "
   ]
  },
  {
   "cell_type": "code",
   "execution_count": 9,
   "metadata": {},
   "outputs": [],
   "source": [
    "from sklearn.preprocessing import LabelEncoder\n",
    "labelencoder = LabelEncoder()\n",
    "def labelEncodeCategoricalFeatures(DF):\n",
    "    df = DF.copy()\n",
    "    for c in df.columns:\n",
    "        if df[c].dtype.name == 'object':\n",
    "            df[c] = labelencoder.fit_transform(df[c])\n",
    "    return df"
   ]
  },
  {
   "cell_type": "markdown",
   "metadata": {},
   "source": [
    "### Load Data"
   ]
  },
  {
   "cell_type": "code",
   "execution_count": 10,
   "metadata": {},
   "outputs": [
    {
     "data": {
      "text/plain": [
       "(427526, 30)"
      ]
     },
     "execution_count": 10,
     "metadata": {},
     "output_type": "execute_result"
    }
   ],
   "source": [
    "cleandf = pd.read_csv('cleanDataSmoke.csv')\n",
    "cleandf.shape"
   ]
  },
  {
   "cell_type": "code",
   "execution_count": 11,
   "metadata": {},
   "outputs": [
    {
     "data": {
      "text/html": [
       "<div>\n",
       "<style scoped>\n",
       "    .dataframe tbody tr th:only-of-type {\n",
       "        vertical-align: middle;\n",
       "    }\n",
       "\n",
       "    .dataframe tbody tr th {\n",
       "        vertical-align: top;\n",
       "    }\n",
       "\n",
       "    .dataframe thead th {\n",
       "        text-align: right;\n",
       "    }\n",
       "</style>\n",
       "<table border=\"1\" class=\"dataframe\">\n",
       "  <thead>\n",
       "    <tr style=\"text-align: right;\">\n",
       "      <th></th>\n",
       "      <th>ads18_frequentHealthIssue</th>\n",
       "      <th>ads18_highBP</th>\n",
       "      <th>ads18_highChl</th>\n",
       "      <th>ads18_unknownChl</th>\n",
       "      <th>ads18_asthma</th>\n",
       "      <th>ads18_formerasthma</th>\n",
       "      <th>ads18_white</th>\n",
       "      <th>ads18_weight</th>\n",
       "      <th>ads18_obese</th>\n",
       "      <th>ads18_havechild</th>\n",
       "      <th>...</th>\n",
       "      <th>ads18_healthCov</th>\n",
       "      <th>ads18_older40</th>\n",
       "      <th>ads18_age18_25</th>\n",
       "      <th>ads18_age25_30</th>\n",
       "      <th>ads18_seatbelt</th>\n",
       "      <th>ads18_veteran</th>\n",
       "      <th>ads18_affordDoc</th>\n",
       "      <th>ads18_stroke</th>\n",
       "      <th>ads18_state</th>\n",
       "      <th>label</th>\n",
       "    </tr>\n",
       "  </thead>\n",
       "  <tbody>\n",
       "    <tr>\n",
       "      <th>0</th>\n",
       "      <td>False</td>\n",
       "      <td>True</td>\n",
       "      <td>True</td>\n",
       "      <td>False</td>\n",
       "      <td>False</td>\n",
       "      <td>False</td>\n",
       "      <td>True</td>\n",
       "      <td>7348.0</td>\n",
       "      <td>True</td>\n",
       "      <td>False</td>\n",
       "      <td>...</td>\n",
       "      <td>True</td>\n",
       "      <td>True</td>\n",
       "      <td>False</td>\n",
       "      <td>False</td>\n",
       "      <td>True</td>\n",
       "      <td>True</td>\n",
       "      <td>True</td>\n",
       "      <td>False</td>\n",
       "      <td>Alabama</td>\n",
       "      <td>No</td>\n",
       "    </tr>\n",
       "    <tr>\n",
       "      <th>1</th>\n",
       "      <td>False</td>\n",
       "      <td>True</td>\n",
       "      <td>False</td>\n",
       "      <td>False</td>\n",
       "      <td>False</td>\n",
       "      <td>False</td>\n",
       "      <td>True</td>\n",
       "      <td>9571.0</td>\n",
       "      <td>True</td>\n",
       "      <td>False</td>\n",
       "      <td>...</td>\n",
       "      <td>True</td>\n",
       "      <td>True</td>\n",
       "      <td>False</td>\n",
       "      <td>False</td>\n",
       "      <td>True</td>\n",
       "      <td>False</td>\n",
       "      <td>True</td>\n",
       "      <td>False</td>\n",
       "      <td>Alabama</td>\n",
       "      <td>No</td>\n",
       "    </tr>\n",
       "    <tr>\n",
       "      <th>2</th>\n",
       "      <td>False</td>\n",
       "      <td>False</td>\n",
       "      <td>True</td>\n",
       "      <td>False</td>\n",
       "      <td>False</td>\n",
       "      <td>False</td>\n",
       "      <td>True</td>\n",
       "      <td>8845.0</td>\n",
       "      <td>True</td>\n",
       "      <td>False</td>\n",
       "      <td>...</td>\n",
       "      <td>True</td>\n",
       "      <td>True</td>\n",
       "      <td>False</td>\n",
       "      <td>False</td>\n",
       "      <td>True</td>\n",
       "      <td>False</td>\n",
       "      <td>True</td>\n",
       "      <td>False</td>\n",
       "      <td>Alabama</td>\n",
       "      <td>No</td>\n",
       "    </tr>\n",
       "    <tr>\n",
       "      <th>3</th>\n",
       "      <td>False</td>\n",
       "      <td>True</td>\n",
       "      <td>True</td>\n",
       "      <td>False</td>\n",
       "      <td>False</td>\n",
       "      <td>False</td>\n",
       "      <td>True</td>\n",
       "      <td>7711.0</td>\n",
       "      <td>True</td>\n",
       "      <td>False</td>\n",
       "      <td>...</td>\n",
       "      <td>True</td>\n",
       "      <td>True</td>\n",
       "      <td>False</td>\n",
       "      <td>False</td>\n",
       "      <td>False</td>\n",
       "      <td>False</td>\n",
       "      <td>True</td>\n",
       "      <td>False</td>\n",
       "      <td>Alabama</td>\n",
       "      <td>No</td>\n",
       "    </tr>\n",
       "    <tr>\n",
       "      <th>4</th>\n",
       "      <td>True</td>\n",
       "      <td>False</td>\n",
       "      <td>False</td>\n",
       "      <td>False</td>\n",
       "      <td>True</td>\n",
       "      <td>False</td>\n",
       "      <td>True</td>\n",
       "      <td>6350.0</td>\n",
       "      <td>False</td>\n",
       "      <td>False</td>\n",
       "      <td>...</td>\n",
       "      <td>True</td>\n",
       "      <td>True</td>\n",
       "      <td>False</td>\n",
       "      <td>False</td>\n",
       "      <td>False</td>\n",
       "      <td>False</td>\n",
       "      <td>True</td>\n",
       "      <td>False</td>\n",
       "      <td>Alabama</td>\n",
       "      <td>No</td>\n",
       "    </tr>\n",
       "  </tbody>\n",
       "</table>\n",
       "<p>5 rows × 30 columns</p>\n",
       "</div>"
      ],
      "text/plain": [
       "   ads18_frequentHealthIssue  ads18_highBP  ads18_highChl  ads18_unknownChl  \\\n",
       "0                      False          True           True             False   \n",
       "1                      False          True          False             False   \n",
       "2                      False         False           True             False   \n",
       "3                      False          True           True             False   \n",
       "4                       True         False          False             False   \n",
       "\n",
       "   ads18_asthma  ads18_formerasthma  ads18_white  ads18_weight  ads18_obese  \\\n",
       "0         False               False         True        7348.0         True   \n",
       "1         False               False         True        9571.0         True   \n",
       "2         False               False         True        8845.0         True   \n",
       "3         False               False         True        7711.0         True   \n",
       "4          True               False         True        6350.0        False   \n",
       "\n",
       "   ads18_havechild  ...    ads18_healthCov  ads18_older40  ads18_age18_25  \\\n",
       "0            False  ...               True           True           False   \n",
       "1            False  ...               True           True           False   \n",
       "2            False  ...               True           True           False   \n",
       "3            False  ...               True           True           False   \n",
       "4            False  ...               True           True           False   \n",
       "\n",
       "   ads18_age25_30  ads18_seatbelt  ads18_veteran  ads18_affordDoc  \\\n",
       "0           False            True           True             True   \n",
       "1           False            True          False             True   \n",
       "2           False            True          False             True   \n",
       "3           False           False          False             True   \n",
       "4           False           False          False             True   \n",
       "\n",
       "   ads18_stroke  ads18_state  label  \n",
       "0         False      Alabama     No  \n",
       "1         False      Alabama     No  \n",
       "2         False      Alabama     No  \n",
       "3         False      Alabama     No  \n",
       "4         False      Alabama     No  \n",
       "\n",
       "[5 rows x 30 columns]"
      ]
     },
     "execution_count": 11,
     "metadata": {},
     "output_type": "execute_result"
    }
   ],
   "source": [
    "cleandf.head()"
   ]
  },
  {
   "cell_type": "code",
   "execution_count": 12,
   "metadata": {},
   "outputs": [
    {
     "name": "stdout",
     "output_type": "stream",
     "text": [
      "Records:  427526\n",
      "Records after cleaning Nan:  384321\n"
     ]
    }
   ],
   "source": [
    "print(\"Records: \",len(cleandf))\n",
    "cleandf = cleandf.dropna()\n",
    "print(\"Records after cleaning Nan: \",len(cleandf))"
   ]
  },
  {
   "cell_type": "code",
   "execution_count": 13,
   "metadata": {
    "scrolled": true
   },
   "outputs": [
    {
     "name": "stdout",
     "output_type": "stream",
     "text": [
      "<class 'pandas.core.frame.DataFrame'>\n",
      "Int64Index: 384321 entries, 0 to 427525\n",
      "Data columns (total 30 columns):\n",
      "ads18_frequentHealthIssue    384321 non-null bool\n",
      "ads18_highBP                 384321 non-null bool\n",
      "ads18_highChl                384321 non-null bool\n",
      "ads18_unknownChl             384321 non-null bool\n",
      "ads18_asthma                 384321 non-null bool\n",
      "ads18_formerasthma           384321 non-null bool\n",
      "ads18_white                  384321 non-null bool\n",
      "ads18_weight                 384321 non-null float64\n",
      "ads18_obese                  384321 non-null bool\n",
      "ads18_havechild              384321 non-null bool\n",
      "ads18_edu                    384321 non-null int64\n",
      "ads18_income                 384321 non-null int64\n",
      "ads18_drinkdaily             384321 non-null bool\n",
      "ads18_drinkbinge             384321 non-null bool\n",
      "ads18_fruitIntake            384321 non-null float64\n",
      "ads18_vegIntake              384321 non-null float64\n",
      "ads18_potatoIntake           384321 non-null float64\n",
      "ads18_exercise               384321 non-null bool\n",
      "ads18_hivtest                384321 non-null bool\n",
      "ads18_male                   384321 non-null bool\n",
      "ads18_healthCov              384321 non-null bool\n",
      "ads18_older40                384321 non-null bool\n",
      "ads18_age18_25               384321 non-null bool\n",
      "ads18_age25_30               384321 non-null bool\n",
      "ads18_seatbelt               384321 non-null bool\n",
      "ads18_veteran                384321 non-null bool\n",
      "ads18_affordDoc              384321 non-null bool\n",
      "ads18_stroke                 384321 non-null bool\n",
      "ads18_state                  384321 non-null object\n",
      "label                        384321 non-null object\n",
      "dtypes: bool(22), float64(4), int64(2), object(2)\n",
      "memory usage: 34.5+ MB\n"
     ]
    }
   ],
   "source": [
    "cleandf.info()"
   ]
  },
  {
   "cell_type": "code",
   "execution_count": 14,
   "metadata": {},
   "outputs": [
    {
     "data": {
      "text/plain": [
       "False    327634\n",
       "True      56687\n",
       "Name: label, dtype: int64"
      ]
     },
     "execution_count": 14,
     "metadata": {},
     "output_type": "execute_result"
    }
   ],
   "source": [
    "cleandf['label'] = cleandf.label == 'Yes'\n",
    "cleandf.label.value_counts()"
   ]
  },
  {
   "cell_type": "code",
   "execution_count": 15,
   "metadata": {},
   "outputs": [
    {
     "name": "stderr",
     "output_type": "stream",
     "text": [
      "/anaconda3/lib/python3.6/site-packages/IPython/core/interactiveshell.py:2785: DtypeWarning: Columns (13,14,15) have mixed types. Specify dtype option on import or set low_memory=False.\n",
      "  interactivity=interactivity, compiler=compiler, result=result)\n"
     ]
    },
    {
     "name": "stdout",
     "output_type": "stream",
     "text": [
      "(58, 2)\n"
     ]
    },
    {
     "data": {
      "text/html": [
       "<div>\n",
       "<style scoped>\n",
       "    .dataframe tbody tr th:only-of-type {\n",
       "        vertical-align: middle;\n",
       "    }\n",
       "\n",
       "    .dataframe tbody tr th {\n",
       "        vertical-align: top;\n",
       "    }\n",
       "\n",
       "    .dataframe thead th {\n",
       "        text-align: right;\n",
       "    }\n",
       "</style>\n",
       "<table border=\"1\" class=\"dataframe\">\n",
       "  <thead>\n",
       "    <tr style=\"text-align: right;\">\n",
       "      <th></th>\n",
       "      <th>LocationDesc</th>\n",
       "      <th>Cigarette_tax</th>\n",
       "    </tr>\n",
       "  </thead>\n",
       "  <tbody>\n",
       "    <tr>\n",
       "      <th>0</th>\n",
       "      <td>Alabama</td>\n",
       "      <td>0.675</td>\n",
       "    </tr>\n",
       "    <tr>\n",
       "      <th>1</th>\n",
       "      <td>Alaska</td>\n",
       "      <td>2.000</td>\n",
       "    </tr>\n",
       "    <tr>\n",
       "      <th>2</th>\n",
       "      <td>American Samoa</td>\n",
       "      <td>6.000</td>\n",
       "    </tr>\n",
       "    <tr>\n",
       "      <th>3</th>\n",
       "      <td>Arizona</td>\n",
       "      <td>2.000</td>\n",
       "    </tr>\n",
       "    <tr>\n",
       "      <th>4</th>\n",
       "      <td>Arkansas</td>\n",
       "      <td>1.150</td>\n",
       "    </tr>\n",
       "  </tbody>\n",
       "</table>\n",
       "</div>"
      ],
      "text/plain": [
       "     LocationDesc  Cigarette_tax\n",
       "0         Alabama          0.675\n",
       "1          Alaska          2.000\n",
       "2  American Samoa          6.000\n",
       "3         Arizona          2.000\n",
       "4        Arkansas          1.150"
      ]
     },
     "execution_count": 15,
     "metadata": {},
     "output_type": "execute_result"
    }
   ],
   "source": [
    "#Pick the Cigeratte tax rate in 2017\n",
    "tax = pd.read_csv('Tax.csv')\n",
    "tax17 = tax[tax['Year']==2017]\n",
    "tax17.head()\n",
    "tax_value = tax17[tax17['ProvisionDesc'] == 'Cigarette Tax ($ per pack)'].sort_values('LocationDesc')\n",
    "tax_value = tax_value.groupby('LocationDesc').max()\n",
    "tax_value = tax_value[['ProvisionAltValue']]\n",
    "tax_value.rename(columns={'ProvisionAltValue':'Cigarette_tax'}, inplace=True)\n",
    "tax_value.reset_index(inplace=True)\n",
    "print(tax_value.shape)\n",
    "tax_value.head()"
   ]
  },
  {
   "cell_type": "code",
   "execution_count": 16,
   "metadata": {},
   "outputs": [],
   "source": [
    "cleandf = cleandf.merge(tax_value, left_on='ads18_state', right_on='LocationDesc', how='left')\n",
    "cleandf.drop(columns = ['LocationDesc'] , inplace=True )"
   ]
  },
  {
   "cell_type": "code",
   "execution_count": 17,
   "metadata": {},
   "outputs": [
    {
     "data": {
      "text/plain": [
       "(384321, 31)"
      ]
     },
     "execution_count": 17,
     "metadata": {},
     "output_type": "execute_result"
    }
   ],
   "source": [
    "cleandf.shape"
   ]
  },
  {
   "cell_type": "code",
   "execution_count": 18,
   "metadata": {},
   "outputs": [
    {
     "name": "stdout",
     "output_type": "stream",
     "text": [
      "(51, 2)\n"
     ]
    },
    {
     "data": {
      "text/html": [
       "<div>\n",
       "<style scoped>\n",
       "    .dataframe tbody tr th:only-of-type {\n",
       "        vertical-align: middle;\n",
       "    }\n",
       "\n",
       "    .dataframe tbody tr th {\n",
       "        vertical-align: top;\n",
       "    }\n",
       "\n",
       "    .dataframe thead th {\n",
       "        text-align: right;\n",
       "    }\n",
       "</style>\n",
       "<table border=\"1\" class=\"dataframe\">\n",
       "  <thead>\n",
       "    <tr style=\"text-align: right;\">\n",
       "      <th></th>\n",
       "      <th>MState</th>\n",
       "      <th>mormon</th>\n",
       "    </tr>\n",
       "  </thead>\n",
       "  <tbody>\n",
       "    <tr>\n",
       "      <th>0</th>\n",
       "      <td>Utah</td>\n",
       "      <td>100</td>\n",
       "    </tr>\n",
       "    <tr>\n",
       "      <th>1</th>\n",
       "      <td>Idaho</td>\n",
       "      <td>40</td>\n",
       "    </tr>\n",
       "    <tr>\n",
       "      <th>2</th>\n",
       "      <td>Wyoming</td>\n",
       "      <td>22</td>\n",
       "    </tr>\n",
       "    <tr>\n",
       "      <th>3</th>\n",
       "      <td>Arizona</td>\n",
       "      <td>15</td>\n",
       "    </tr>\n",
       "    <tr>\n",
       "      <th>4</th>\n",
       "      <td>Alaska</td>\n",
       "      <td>13</td>\n",
       "    </tr>\n",
       "  </tbody>\n",
       "</table>\n",
       "</div>"
      ],
      "text/plain": [
       "    MState  mormon\n",
       "0     Utah     100\n",
       "1    Idaho      40\n",
       "2  Wyoming      22\n",
       "3  Arizona      15\n",
       "4   Alaska      13"
      ]
     },
     "execution_count": 18,
     "metadata": {},
     "output_type": "execute_result"
    }
   ],
   "source": [
    "mormondf = pd.read_csv('mormon.csv',skiprows=1)\n",
    "mormondf.columns = ['MState','mormon']\n",
    "print(mormondf.shape)\n",
    "mormondf.head()"
   ]
  },
  {
   "cell_type": "code",
   "execution_count": 19,
   "metadata": {},
   "outputs": [],
   "source": [
    "cleandf = cleandf.merge(mormondf, left_on='ads18_state', right_on='MState', how='left')\n",
    "cleandf.drop(columns = ['MState'] , inplace=True )"
   ]
  },
  {
   "cell_type": "code",
   "execution_count": 20,
   "metadata": {},
   "outputs": [],
   "source": [
    "cleandf['mormon'].fillna(np.mean(cleandf['mormon']), inplace=True)"
   ]
  },
  {
   "cell_type": "code",
   "execution_count": 21,
   "metadata": {},
   "outputs": [
    {
     "name": "stdout",
     "output_type": "stream",
     "text": [
      "(51, 4)\n"
     ]
    },
    {
     "data": {
      "text/html": [
       "<div>\n",
       "<style scoped>\n",
       "    .dataframe tbody tr th:only-of-type {\n",
       "        vertical-align: middle;\n",
       "    }\n",
       "\n",
       "    .dataframe tbody tr th {\n",
       "        vertical-align: top;\n",
       "    }\n",
       "\n",
       "    .dataframe thead th {\n",
       "        text-align: right;\n",
       "    }\n",
       "</style>\n",
       "<table border=\"1\" class=\"dataframe\">\n",
       "  <thead>\n",
       "    <tr style=\"text-align: right;\">\n",
       "      <th></th>\n",
       "      <th>State</th>\n",
       "      <th>Price</th>\n",
       "    </tr>\n",
       "  </thead>\n",
       "  <tbody>\n",
       "    <tr>\n",
       "      <th>0</th>\n",
       "      <td>Missouri</td>\n",
       "      <td>4.38</td>\n",
       "    </tr>\n",
       "    <tr>\n",
       "      <th>1</th>\n",
       "      <td>Virginia</td>\n",
       "      <td>4.78</td>\n",
       "    </tr>\n",
       "    <tr>\n",
       "      <th>2</th>\n",
       "      <td>North Dakota</td>\n",
       "      <td>4.82</td>\n",
       "    </tr>\n",
       "  </tbody>\n",
       "</table>\n",
       "</div>"
      ],
      "text/plain": [
       "          State  Price\n",
       "0      Missouri   4.38\n",
       "1      Virginia   4.78\n",
       "2  North Dakota   4.82"
      ]
     },
     "execution_count": 21,
     "metadata": {},
     "output_type": "execute_result"
    }
   ],
   "source": [
    "pricedf = pd.read_csv('SmokingStatesData.csv')\n",
    "print(pricedf.shape)\n",
    "pricedf= pricedf[['State','Price']]\n",
    "#pricedf['ExciseTax'] = pricedf.ExciseTax.apply(lambda x: float(x.replace('$','')) )\n",
    "pricedf['Price'] = pricedf.Price.apply(lambda x: float(x.replace('$','')) )\n",
    "pricedf.head(3)"
   ]
  },
  {
   "cell_type": "code",
   "execution_count": 22,
   "metadata": {},
   "outputs": [],
   "source": [
    "cleandf = cleandf.merge(pricedf, left_on='ads18_state', right_on='State', how='left')\n",
    "cleandf.drop(columns = ['State'] , inplace=True )"
   ]
  },
  {
   "cell_type": "code",
   "execution_count": 23,
   "metadata": {},
   "outputs": [],
   "source": [
    "#cleandf['ExciseTax'].fillna(np.mean(cleandf['ExciseTax']), inplace=True)\n",
    "cleandf['Price'].fillna(np.mean(cleandf['Price']), inplace=True)"
   ]
  },
  {
   "cell_type": "code",
   "execution_count": 24,
   "metadata": {},
   "outputs": [],
   "source": [
    "cleandf['Price'] = cleandf.Price / cleandf.ads18_income"
   ]
  },
  {
   "cell_type": "code",
   "execution_count": 25,
   "metadata": {
    "scrolled": true
   },
   "outputs": [
    {
     "name": "stdout",
     "output_type": "stream",
     "text": [
      "(53, 2)\n"
     ]
    }
   ],
   "source": [
    "stateSmokedf = cleandf[['ads18_state','label']].groupby('ads18_state').mean().reset_index()\n",
    "stateSmokedf.columns = ['ads18_state','stateSmoke']\n",
    "print(stateSmokedf.shape)"
   ]
  },
  {
   "cell_type": "code",
   "execution_count": 26,
   "metadata": {},
   "outputs": [
    {
     "name": "stdout",
     "output_type": "stream",
     "text": [
      "(384321, 33)\n"
     ]
    },
    {
     "data": {
      "text/plain": [
       "(384321, 34)"
      ]
     },
     "execution_count": 26,
     "metadata": {},
     "output_type": "execute_result"
    }
   ],
   "source": [
    "print(cleandf.shape)\n",
    "cleandf = cleandf.merge(stateSmokedf, left_on='ads18_state', right_on='ads18_state', how='left')\n",
    "cleandf.shape\n",
    "#cleandf.drop(columns = ['State'] , inplace=True )"
   ]
  },
  {
   "cell_type": "markdown",
   "metadata": {},
   "source": [
    "## Model with out imballance treatment"
   ]
  },
  {
   "cell_type": "code",
   "execution_count": 27,
   "metadata": {
    "scrolled": true
   },
   "outputs": [
    {
     "name": "stdout",
     "output_type": "stream",
     "text": [
      "columns : 32\n",
      "Uncorrelated columns : 32\n",
      "Optimization terminated successfully.\n",
      "         Current function value: 0.365413\n",
      "         Iterations 7\n",
      "                           Logit Regression Results                           \n",
      "==============================================================================\n",
      "Dep. Variable:                  label   No. Observations:               384321\n",
      "Model:                          Logit   Df Residuals:                   384289\n",
      "Method:                           MLE   Df Model:                           31\n",
      "Date:                Mon, 17 Dec 2018   Pseudo R-squ.:                  0.1265\n",
      "Time:                        22:58:04   Log-Likelihood:            -1.4044e+05\n",
      "converged:                       True   LL-Null:                   -1.6078e+05\n",
      "                                        LLR p-value:                     0.000\n",
      "=============================================================================================\n",
      "                                coef    std err          z      P>|z|      [0.025      0.975]\n",
      "---------------------------------------------------------------------------------------------\n",
      "ads18_frequentHealthIssue     0.4234      0.013     32.050      0.000       0.398       0.449\n",
      "ads18_highBP                 -0.0932      0.011     -8.217      0.000      -0.115      -0.071\n",
      "ads18_highChl                 0.0073      0.012      0.634      0.526      -0.015       0.030\n",
      "ads18_unknownChl              0.2707      0.015     17.814      0.000       0.241       0.301\n",
      "ads18_asthma                  0.2162      0.015     13.993      0.000       0.186       0.247\n",
      "ads18_formerasthma           -0.1743      0.027     -6.361      0.000      -0.228      -0.121\n",
      "ads18_white                   0.2379      0.012     19.845      0.000       0.214       0.261\n",
      "ads18_weight              -2.917e-05   3.01e-06     -9.678      0.000   -3.51e-05   -2.33e-05\n",
      "ads18_obese                  -0.2782      0.013    -21.380      0.000      -0.304      -0.253\n",
      "ads18_havechild               0.1195      0.012     10.101      0.000       0.096       0.143\n",
      "ads18_edu                    -0.3921      0.006    -70.611      0.000      -0.403      -0.381\n",
      "ads18_income                 -0.1451      0.007    -22.175      0.000      -0.158      -0.132\n",
      "ads18_drinkdaily              0.1269      0.012     10.858      0.000       0.104       0.150\n",
      "ads18_drinkbinge              0.8656      0.014     61.948      0.000       0.838       0.893\n",
      "ads18_fruitIntake            -0.0021   5.86e-05    -36.023      0.000      -0.002      -0.002\n",
      "ads18_vegIntake              -0.0005   7.52e-05     -6.544      0.000      -0.001      -0.000\n",
      "ads18_potatoIntake            0.0013   9.34e-05     13.882      0.000       0.001       0.001\n",
      "ads18_exercise               -0.2885      0.011    -27.082      0.000      -0.309      -0.268\n",
      "ads18_hivtest                -0.6528      0.010    -62.621      0.000      -0.673      -0.632\n",
      "ads18_male                    0.1839      0.012     15.806      0.000       0.161       0.207\n",
      "ads18_healthCov              -0.2502      0.016    -15.497      0.000      -0.282      -0.219\n",
      "ads18_older40                -0.1358      0.016     -8.680      0.000      -0.166      -0.105\n",
      "ads18_age18_25               -0.8120      0.025    -31.981      0.000      -0.862      -0.762\n",
      "ads18_age25_30               -0.1264      0.023     -5.409      0.000      -0.172      -0.081\n",
      "ads18_seatbelt               -0.2744      0.013    -21.481      0.000      -0.299      -0.249\n",
      "ads18_veteran                 0.0271      0.015      1.754      0.079      -0.003       0.057\n",
      "ads18_affordDoc              -0.4309      0.014    -30.916      0.000      -0.458      -0.404\n",
      "ads18_stroke                  0.1780      0.022      8.021      0.000       0.135       0.222\n",
      "Cigarette_tax                 0.0614      0.006     10.332      0.000       0.050       0.073\n",
      "mormon                        0.0015      0.000      3.735      0.000       0.001       0.002\n",
      "Price                        -0.0181      0.005     -3.864      0.000      -0.027      -0.009\n",
      "stateSmoke                    8.9101      0.166     53.559      0.000       8.584       9.236\n",
      "=============================================================================================\n"
     ]
    }
   ],
   "source": [
    "Y= cleandf['label']\n",
    "#not in ['label','ads18_state']\n",
    "X = cleandf[[c for c in cleandf.columns if c not in ['label','ads18_state']]]\n",
    "print(\"columns :\", len(X.columns))\n",
    "X = filterPerfectCorrelation(X)\n",
    "X = bolleanToNumeric(X)\n",
    "print(\"Uncorrelated columns :\", len(X.columns))\n",
    "logit_mod = sma.Logit(Y, X, method='bfgs').fit()\n",
    "print(logit_mod.summary())"
   ]
  },
  {
   "cell_type": "code",
   "execution_count": 28,
   "metadata": {
    "scrolled": true
   },
   "outputs": [
    {
     "data": {
      "text/html": [
       "<div>\n",
       "<style scoped>\n",
       "    .dataframe tbody tr th:only-of-type {\n",
       "        vertical-align: middle;\n",
       "    }\n",
       "\n",
       "    .dataframe tbody tr th {\n",
       "        vertical-align: top;\n",
       "    }\n",
       "\n",
       "    .dataframe thead th {\n",
       "        text-align: right;\n",
       "    }\n",
       "</style>\n",
       "<table border=\"1\" class=\"dataframe\">\n",
       "  <thead>\n",
       "    <tr style=\"text-align: right;\">\n",
       "      <th></th>\n",
       "      <th>var</th>\n",
       "      <th>coef</th>\n",
       "      <th>pval</th>\n",
       "    </tr>\n",
       "  </thead>\n",
       "  <tbody>\n",
       "    <tr>\n",
       "      <th>0</th>\n",
       "      <td>ads18_frequentHealthIssue</td>\n",
       "      <td>0.423425</td>\n",
       "      <td>2.220830e-225</td>\n",
       "    </tr>\n",
       "    <tr>\n",
       "      <th>1</th>\n",
       "      <td>ads18_highBP</td>\n",
       "      <td>-0.093177</td>\n",
       "      <td>2.087807e-16</td>\n",
       "    </tr>\n",
       "    <tr>\n",
       "      <th>2</th>\n",
       "      <td>ads18_highChl</td>\n",
       "      <td>0.007304</td>\n",
       "      <td>5.263319e-01</td>\n",
       "    </tr>\n",
       "    <tr>\n",
       "      <th>3</th>\n",
       "      <td>ads18_unknownChl</td>\n",
       "      <td>0.270725</td>\n",
       "      <td>5.546161e-71</td>\n",
       "    </tr>\n",
       "    <tr>\n",
       "      <th>4</th>\n",
       "      <td>ads18_asthma</td>\n",
       "      <td>0.216247</td>\n",
       "      <td>1.722392e-44</td>\n",
       "    </tr>\n",
       "    <tr>\n",
       "      <th>5</th>\n",
       "      <td>ads18_formerasthma</td>\n",
       "      <td>-0.174329</td>\n",
       "      <td>1.999574e-10</td>\n",
       "    </tr>\n",
       "    <tr>\n",
       "      <th>6</th>\n",
       "      <td>ads18_white</td>\n",
       "      <td>0.237870</td>\n",
       "      <td>1.206364e-87</td>\n",
       "    </tr>\n",
       "    <tr>\n",
       "      <th>7</th>\n",
       "      <td>ads18_weight</td>\n",
       "      <td>-0.000029</td>\n",
       "      <td>3.742243e-22</td>\n",
       "    </tr>\n",
       "    <tr>\n",
       "      <th>8</th>\n",
       "      <td>ads18_obese</td>\n",
       "      <td>-0.278218</td>\n",
       "      <td>2.038014e-101</td>\n",
       "    </tr>\n",
       "    <tr>\n",
       "      <th>9</th>\n",
       "      <td>ads18_havechild</td>\n",
       "      <td>0.119475</td>\n",
       "      <td>5.447246e-24</td>\n",
       "    </tr>\n",
       "    <tr>\n",
       "      <th>10</th>\n",
       "      <td>ads18_edu</td>\n",
       "      <td>-0.392130</td>\n",
       "      <td>0.000000e+00</td>\n",
       "    </tr>\n",
       "    <tr>\n",
       "      <th>11</th>\n",
       "      <td>ads18_income</td>\n",
       "      <td>-0.145120</td>\n",
       "      <td>5.960265e-109</td>\n",
       "    </tr>\n",
       "    <tr>\n",
       "      <th>12</th>\n",
       "      <td>ads18_drinkdaily</td>\n",
       "      <td>0.126897</td>\n",
       "      <td>1.820821e-27</td>\n",
       "    </tr>\n",
       "    <tr>\n",
       "      <th>13</th>\n",
       "      <td>ads18_drinkbinge</td>\n",
       "      <td>0.865571</td>\n",
       "      <td>0.000000e+00</td>\n",
       "    </tr>\n",
       "    <tr>\n",
       "      <th>14</th>\n",
       "      <td>ads18_fruitIntake</td>\n",
       "      <td>-0.002109</td>\n",
       "      <td>3.631351e-284</td>\n",
       "    </tr>\n",
       "    <tr>\n",
       "      <th>15</th>\n",
       "      <td>ads18_vegIntake</td>\n",
       "      <td>-0.000492</td>\n",
       "      <td>6.007719e-11</td>\n",
       "    </tr>\n",
       "    <tr>\n",
       "      <th>16</th>\n",
       "      <td>ads18_potatoIntake</td>\n",
       "      <td>0.001297</td>\n",
       "      <td>8.093442e-44</td>\n",
       "    </tr>\n",
       "    <tr>\n",
       "      <th>17</th>\n",
       "      <td>ads18_exercise</td>\n",
       "      <td>-0.288531</td>\n",
       "      <td>1.591426e-161</td>\n",
       "    </tr>\n",
       "    <tr>\n",
       "      <th>18</th>\n",
       "      <td>ads18_hivtest</td>\n",
       "      <td>-0.652793</td>\n",
       "      <td>0.000000e+00</td>\n",
       "    </tr>\n",
       "    <tr>\n",
       "      <th>19</th>\n",
       "      <td>ads18_male</td>\n",
       "      <td>0.183882</td>\n",
       "      <td>2.821811e-56</td>\n",
       "    </tr>\n",
       "    <tr>\n",
       "      <th>20</th>\n",
       "      <td>ads18_healthCov</td>\n",
       "      <td>-0.250191</td>\n",
       "      <td>3.637134e-54</td>\n",
       "    </tr>\n",
       "    <tr>\n",
       "      <th>21</th>\n",
       "      <td>ads18_older40</td>\n",
       "      <td>-0.135815</td>\n",
       "      <td>3.948224e-18</td>\n",
       "    </tr>\n",
       "    <tr>\n",
       "      <th>22</th>\n",
       "      <td>ads18_age18_25</td>\n",
       "      <td>-0.812025</td>\n",
       "      <td>1.988895e-224</td>\n",
       "    </tr>\n",
       "    <tr>\n",
       "      <th>23</th>\n",
       "      <td>ads18_age25_30</td>\n",
       "      <td>-0.126402</td>\n",
       "      <td>6.354112e-08</td>\n",
       "    </tr>\n",
       "    <tr>\n",
       "      <th>24</th>\n",
       "      <td>ads18_seatbelt</td>\n",
       "      <td>-0.274406</td>\n",
       "      <td>2.360411e-102</td>\n",
       "    </tr>\n",
       "    <tr>\n",
       "      <th>25</th>\n",
       "      <td>ads18_veteran</td>\n",
       "      <td>0.027110</td>\n",
       "      <td>7.941742e-02</td>\n",
       "    </tr>\n",
       "    <tr>\n",
       "      <th>26</th>\n",
       "      <td>ads18_affordDoc</td>\n",
       "      <td>-0.430908</td>\n",
       "      <td>7.279679e-210</td>\n",
       "    </tr>\n",
       "    <tr>\n",
       "      <th>27</th>\n",
       "      <td>ads18_stroke</td>\n",
       "      <td>0.178047</td>\n",
       "      <td>1.050461e-15</td>\n",
       "    </tr>\n",
       "    <tr>\n",
       "      <th>28</th>\n",
       "      <td>Cigarette_tax</td>\n",
       "      <td>0.061355</td>\n",
       "      <td>5.071977e-25</td>\n",
       "    </tr>\n",
       "    <tr>\n",
       "      <th>29</th>\n",
       "      <td>mormon</td>\n",
       "      <td>0.001529</td>\n",
       "      <td>1.878860e-04</td>\n",
       "    </tr>\n",
       "    <tr>\n",
       "      <th>30</th>\n",
       "      <td>Price</td>\n",
       "      <td>-0.018095</td>\n",
       "      <td>1.113467e-04</td>\n",
       "    </tr>\n",
       "    <tr>\n",
       "      <th>31</th>\n",
       "      <td>stateSmoke</td>\n",
       "      <td>8.910095</td>\n",
       "      <td>0.000000e+00</td>\n",
       "    </tr>\n",
       "  </tbody>\n",
       "</table>\n",
       "</div>"
      ],
      "text/plain": [
       "                          var      coef           pval\n",
       "0   ads18_frequentHealthIssue  0.423425  2.220830e-225\n",
       "1                ads18_highBP -0.093177   2.087807e-16\n",
       "2               ads18_highChl  0.007304   5.263319e-01\n",
       "3            ads18_unknownChl  0.270725   5.546161e-71\n",
       "4                ads18_asthma  0.216247   1.722392e-44\n",
       "5          ads18_formerasthma -0.174329   1.999574e-10\n",
       "6                 ads18_white  0.237870   1.206364e-87\n",
       "7                ads18_weight -0.000029   3.742243e-22\n",
       "8                 ads18_obese -0.278218  2.038014e-101\n",
       "9             ads18_havechild  0.119475   5.447246e-24\n",
       "10                  ads18_edu -0.392130   0.000000e+00\n",
       "11               ads18_income -0.145120  5.960265e-109\n",
       "12           ads18_drinkdaily  0.126897   1.820821e-27\n",
       "13           ads18_drinkbinge  0.865571   0.000000e+00\n",
       "14          ads18_fruitIntake -0.002109  3.631351e-284\n",
       "15            ads18_vegIntake -0.000492   6.007719e-11\n",
       "16         ads18_potatoIntake  0.001297   8.093442e-44\n",
       "17             ads18_exercise -0.288531  1.591426e-161\n",
       "18              ads18_hivtest -0.652793   0.000000e+00\n",
       "19                 ads18_male  0.183882   2.821811e-56\n",
       "20            ads18_healthCov -0.250191   3.637134e-54\n",
       "21              ads18_older40 -0.135815   3.948224e-18\n",
       "22             ads18_age18_25 -0.812025  1.988895e-224\n",
       "23             ads18_age25_30 -0.126402   6.354112e-08\n",
       "24             ads18_seatbelt -0.274406  2.360411e-102\n",
       "25              ads18_veteran  0.027110   7.941742e-02\n",
       "26            ads18_affordDoc -0.430908  7.279679e-210\n",
       "27               ads18_stroke  0.178047   1.050461e-15\n",
       "28              Cigarette_tax  0.061355   5.071977e-25\n",
       "29                     mormon  0.001529   1.878860e-04\n",
       "30                      Price -0.018095   1.113467e-04\n",
       "31                 stateSmoke  8.910095   0.000000e+00"
      ]
     },
     "execution_count": 28,
     "metadata": {},
     "output_type": "execute_result"
    }
   ],
   "source": [
    "result = pd.concat([logit_mod.params, logit_mod.pvalues], axis=1).reset_index() \n",
    "result.columns = ['var','coef','pval']\n",
    "result"
   ]
  },
  {
   "cell_type": "code",
   "execution_count": 29,
   "metadata": {},
   "outputs": [
    {
     "name": "stdout",
     "output_type": "stream",
     "text": [
      "AUC:  0.7504270869661075\n"
     ]
    },
    {
     "data": {
      "text/plain": [
       "[<matplotlib.lines.Line2D at 0x10b9fb898>]"
      ]
     },
     "execution_count": 29,
     "metadata": {},
     "output_type": "execute_result"
    },
    {
     "data": {
      "image/png": "[encoded data removed]",
      "text/plain": [
       "<Figure size 432x288 with 1 Axes>"
      ]
     },
     "metadata": {},
     "output_type": "display_data"
    }
   ],
   "source": [
    "pred = logit_mod.predict() #> 0.5\n",
    "fpr, tpr, thresholds = metrics.roc_curve(Y, pred)\n",
    "print('AUC: ',metrics.auc(fpr, tpr))\n",
    "pl.plot(tpr,fpr)"
   ]
  },
  {
   "cell_type": "code",
   "execution_count": 30,
   "metadata": {
    "scrolled": true
   },
   "outputs": [
    {
     "name": "stdout",
     "output_type": "stream",
     "text": [
      "TH:  0.05\n",
      "Accuracy :  0.30217968833345044\n",
      "             precision    recall  f1-score   support\n",
      "\n",
      "      False       0.97      0.19      0.31    327634\n",
      "       True       0.17      0.96      0.29     56687\n",
      "\n",
      "avg / total       0.85      0.30      0.31    384321\n",
      "\n",
      "\n",
      "TH:  0.1\n",
      "Accuracy :  0.5599746045623321\n",
      "             precision    recall  f1-score   support\n",
      "\n",
      "      False       0.94      0.51      0.67    327634\n",
      "       True       0.23      0.82      0.35     56687\n",
      "\n",
      "avg / total       0.84      0.56      0.62    384321\n",
      "\n",
      "\n",
      "TH:  0.2\n",
      "Accuracy :  0.7766424421252026\n",
      "             precision    recall  f1-score   support\n",
      "\n",
      "      False       0.91      0.82      0.86    327634\n",
      "       True       0.33      0.52      0.41     56687\n",
      "\n",
      "avg / total       0.82      0.78      0.80    384321\n",
      "\n",
      "\n",
      "TH:  0.4\n",
      "Accuracy :  0.8537758800585968\n",
      "             precision    recall  f1-score   support\n",
      "\n",
      "      False       0.87      0.97      0.92    327634\n",
      "       True       0.51      0.17      0.26     56687\n",
      "\n",
      "avg / total       0.82      0.85      0.82    384321\n",
      "\n",
      "\n",
      "TH:  0.5\n",
      "Accuracy :  0.8563102198422673\n",
      "             precision    recall  f1-score   support\n",
      "\n",
      "      False       0.86      0.99      0.92    327634\n",
      "       True       0.59      0.09      0.15     56687\n",
      "\n",
      "avg / total       0.82      0.86      0.81    384321\n",
      "\n",
      "\n",
      "TH:  0.6\n",
      "Accuracy :  0.8553735028791036\n",
      "             precision    recall  f1-score   support\n",
      "\n",
      "      False       0.86      1.00      0.92    327634\n",
      "       True       0.65      0.04      0.08     56687\n",
      "\n",
      "avg / total       0.83      0.86      0.80    384321\n",
      "\n",
      "\n",
      "TH:  0.8\n",
      "Accuracy :  0.8528912029267202\n",
      "             precision    recall  f1-score   support\n",
      "\n",
      "      False       0.85      1.00      0.92    327634\n",
      "       True       0.80      0.00      0.01     56687\n",
      "\n",
      "avg / total       0.84      0.85      0.79    384321\n",
      "\n",
      "\n"
     ]
    }
   ],
   "source": [
    "for th in [0.05,0.1,0.2,0.4,0.5,0.6,0.8]:\n",
    "        print('TH: ',th)\n",
    "        print(\"Accuracy : \", np.sum(Y==(pred > th)).astype(float)/len(Y) )\n",
    "        print(classification_report(Y, pred > th))\n",
    "        print()\n"
   ]
  },
  {
   "cell_type": "markdown",
   "metadata": {},
   "source": [
    "## DownSample"
   ]
  },
  {
   "cell_type": "code",
   "execution_count": null,
   "metadata": {},
   "outputs": [],
   "source": []
  },
  {
   "cell_type": "code",
   "execution_count": 31,
   "metadata": {},
   "outputs": [
    {
     "name": "stdout",
     "output_type": "stream",
     "text": [
      "Before Class Imballance Treatment: \n",
      "False    327634\n",
      "True      56687\n",
      "Name: label, dtype: int64\n",
      "After Class Imballance Treatment: \n",
      "True     56687\n",
      "False    56687\n",
      "Name: label, dtype: int64\n"
     ]
    }
   ],
   "source": [
    "cleandfDn = classImballanceDownSample(cleandf, 'label')"
   ]
  },
  {
   "cell_type": "code",
   "execution_count": 32,
   "metadata": {
    "scrolled": true
   },
   "outputs": [
    {
     "name": "stdout",
     "output_type": "stream",
     "text": [
      "columns : 32\n",
      "Uncorrelated columns : 32\n",
      "Optimization terminated successfully.\n",
      "         Current function value: 0.598802\n",
      "         Iterations 6\n",
      "                           Logit Regression Results                           \n",
      "==============================================================================\n",
      "Dep. Variable:                  label   No. Observations:               113374\n",
      "Model:                          Logit   Df Residuals:                   113342\n",
      "Method:                           MLE   Df Model:                           31\n",
      "Date:                Mon, 17 Dec 2018   Pseudo R-squ.:                  0.1361\n",
      "Time:                        22:58:41   Log-Likelihood:                -67889.\n",
      "converged:                       True   LL-Null:                       -78585.\n",
      "                                        LLR p-value:                     0.000\n",
      "=============================================================================================\n",
      "                                coef    std err          z      P>|z|      [0.025      0.975]\n",
      "---------------------------------------------------------------------------------------------\n",
      "ads18_frequentHealthIssue     0.4584      0.019     24.288      0.000       0.421       0.495\n",
      "ads18_highBP                 -0.0945      0.015     -6.268      0.000      -0.124      -0.065\n",
      "ads18_highChl                 0.0184      0.015      1.200      0.230      -0.012       0.049\n",
      "ads18_unknownChl              0.3045      0.022     14.128      0.000       0.262       0.347\n",
      "ads18_asthma                  0.1823      0.022      8.396      0.000       0.140       0.225\n",
      "ads18_formerasthma           -0.1477      0.038     -3.905      0.000      -0.222      -0.074\n",
      "ads18_white                   0.1492      0.016      9.322      0.000       0.118       0.181\n",
      "ads18_weight               9.495e-06   4.12e-06      2.304      0.021    1.42e-06    1.76e-05\n",
      "ads18_obese                  -0.3006      0.018    -16.993      0.000      -0.335      -0.266\n",
      "ads18_havechild               0.1413      0.016      8.780      0.000       0.110       0.173\n",
      "ads18_edu                    -0.3963      0.008    -52.258      0.000      -0.411      -0.381\n",
      "ads18_income                 -0.0603      0.009     -6.809      0.000      -0.078      -0.043\n",
      "ads18_drinkdaily              0.1252      0.015      8.260      0.000       0.095       0.155\n",
      "ads18_drinkbinge              0.9143      0.020     46.070      0.000       0.875       0.953\n",
      "ads18_fruitIntake            -0.0017   6.94e-05    -24.308      0.000      -0.002      -0.002\n",
      "ads18_vegIntake              -0.0003   7.61e-05     -4.168      0.000      -0.000      -0.000\n",
      "ads18_potatoIntake            0.0027      0.000     14.736      0.000       0.002       0.003\n",
      "ads18_exercise               -0.3063      0.015    -21.032      0.000      -0.335      -0.278\n",
      "ads18_hivtest                -0.5958      0.014    -41.673      0.000      -0.624      -0.568\n",
      "ads18_male                    0.1459      0.016      9.305      0.000       0.115       0.177\n",
      "ads18_healthCov              -0.2178      0.023     -9.406      0.000      -0.263      -0.172\n",
      "ads18_older40                -0.0536      0.022     -2.477      0.013      -0.096      -0.011\n",
      "ads18_age18_25               -0.7492      0.034    -22.065      0.000      -0.816      -0.683\n",
      "ads18_age25_30               -0.0615      0.033     -1.863      0.062      -0.126       0.003\n",
      "ads18_seatbelt               -0.2205      0.018    -12.380      0.000      -0.255      -0.186\n",
      "ads18_veteran                 0.0395      0.021      1.899      0.058      -0.001       0.080\n",
      "ads18_affordDoc              -0.3881      0.020    -19.262      0.000      -0.428      -0.349\n",
      "ads18_stroke                  0.2143      0.032      6.762      0.000       0.152       0.276\n",
      "Cigarette_tax                 0.1128      0.008     14.204      0.000       0.097       0.128\n",
      "mormon                        0.0050      0.001      9.499      0.000       0.004       0.006\n",
      "Price                         0.0395      0.006      6.082      0.000       0.027       0.052\n",
      "stateSmoke                   13.2854      0.235     56.481      0.000      12.824      13.746\n",
      "=============================================================================================\n"
     ]
    }
   ],
   "source": [
    "Y= cleandfDn['label']\n",
    "X = cleandfDn[[c for c in cleandfDn.columns if c not in ['label','ads18_state'] ]]\n",
    "print(\"columns :\", len(X.columns))\n",
    "X = filterPerfectCorrelation(X)\n",
    "X = bolleanToNumeric(X)\n",
    "print(\"Uncorrelated columns :\", len(X.columns))\n",
    "\n",
    "logit_mod = sma.Logit(Y, X, method='bfgs').fit()\n",
    "print(logit_mod.summary())"
   ]
  },
  {
   "cell_type": "code",
   "execution_count": null,
   "metadata": {},
   "outputs": [],
   "source": []
  },
  {
   "cell_type": "code",
   "execution_count": 33,
   "metadata": {
    "scrolled": false
   },
   "outputs": [
    {
     "data": {
      "text/html": [
       "<div>\n",
       "<style scoped>\n",
       "    .dataframe tbody tr th:only-of-type {\n",
       "        vertical-align: middle;\n",
       "    }\n",
       "\n",
       "    .dataframe tbody tr th {\n",
       "        vertical-align: top;\n",
       "    }\n",
       "\n",
       "    .dataframe thead th {\n",
       "        text-align: right;\n",
       "    }\n",
       "</style>\n",
       "<table border=\"1\" class=\"dataframe\">\n",
       "  <thead>\n",
       "    <tr style=\"text-align: right;\">\n",
       "      <th></th>\n",
       "      <th>var</th>\n",
       "      <th>coef</th>\n",
       "      <th>pval</th>\n",
       "    </tr>\n",
       "  </thead>\n",
       "  <tbody>\n",
       "    <tr>\n",
       "      <th>0</th>\n",
       "      <td>ads18_frequentHealthIssue</td>\n",
       "      <td>0.458377</td>\n",
       "      <td>2.610920e-130</td>\n",
       "    </tr>\n",
       "    <tr>\n",
       "      <th>1</th>\n",
       "      <td>ads18_highBP</td>\n",
       "      <td>-0.094458</td>\n",
       "      <td>3.652829e-10</td>\n",
       "    </tr>\n",
       "    <tr>\n",
       "      <th>2</th>\n",
       "      <td>ads18_highChl</td>\n",
       "      <td>0.018436</td>\n",
       "      <td>2.303050e-01</td>\n",
       "    </tr>\n",
       "    <tr>\n",
       "      <th>3</th>\n",
       "      <td>ads18_unknownChl</td>\n",
       "      <td>0.304514</td>\n",
       "      <td>2.561817e-45</td>\n",
       "    </tr>\n",
       "    <tr>\n",
       "      <th>4</th>\n",
       "      <td>ads18_asthma</td>\n",
       "      <td>0.182263</td>\n",
       "      <td>4.617263e-17</td>\n",
       "    </tr>\n",
       "    <tr>\n",
       "      <th>5</th>\n",
       "      <td>ads18_formerasthma</td>\n",
       "      <td>-0.147663</td>\n",
       "      <td>9.422337e-05</td>\n",
       "    </tr>\n",
       "    <tr>\n",
       "      <th>6</th>\n",
       "      <td>ads18_white</td>\n",
       "      <td>0.149215</td>\n",
       "      <td>1.138367e-20</td>\n",
       "    </tr>\n",
       "    <tr>\n",
       "      <th>7</th>\n",
       "      <td>ads18_weight</td>\n",
       "      <td>0.000009</td>\n",
       "      <td>2.122150e-02</td>\n",
       "    </tr>\n",
       "    <tr>\n",
       "      <th>8</th>\n",
       "      <td>ads18_obese</td>\n",
       "      <td>-0.300555</td>\n",
       "      <td>9.211082e-65</td>\n",
       "    </tr>\n",
       "    <tr>\n",
       "      <th>9</th>\n",
       "      <td>ads18_havechild</td>\n",
       "      <td>0.141283</td>\n",
       "      <td>1.637896e-18</td>\n",
       "    </tr>\n",
       "    <tr>\n",
       "      <th>10</th>\n",
       "      <td>ads18_edu</td>\n",
       "      <td>-0.396295</td>\n",
       "      <td>0.000000e+00</td>\n",
       "    </tr>\n",
       "    <tr>\n",
       "      <th>11</th>\n",
       "      <td>ads18_income</td>\n",
       "      <td>-0.060263</td>\n",
       "      <td>9.836801e-12</td>\n",
       "    </tr>\n",
       "    <tr>\n",
       "      <th>12</th>\n",
       "      <td>ads18_drinkdaily</td>\n",
       "      <td>0.125154</td>\n",
       "      <td>1.455855e-16</td>\n",
       "    </tr>\n",
       "    <tr>\n",
       "      <th>13</th>\n",
       "      <td>ads18_drinkbinge</td>\n",
       "      <td>0.914346</td>\n",
       "      <td>0.000000e+00</td>\n",
       "    </tr>\n",
       "    <tr>\n",
       "      <th>14</th>\n",
       "      <td>ads18_fruitIntake</td>\n",
       "      <td>-0.001687</td>\n",
       "      <td>1.597360e-130</td>\n",
       "    </tr>\n",
       "    <tr>\n",
       "      <th>15</th>\n",
       "      <td>ads18_vegIntake</td>\n",
       "      <td>-0.000317</td>\n",
       "      <td>3.068793e-05</td>\n",
       "    </tr>\n",
       "    <tr>\n",
       "      <th>16</th>\n",
       "      <td>ads18_potatoIntake</td>\n",
       "      <td>0.002681</td>\n",
       "      <td>3.810490e-49</td>\n",
       "    </tr>\n",
       "    <tr>\n",
       "      <th>17</th>\n",
       "      <td>ads18_exercise</td>\n",
       "      <td>-0.306267</td>\n",
       "      <td>3.360048e-98</td>\n",
       "    </tr>\n",
       "    <tr>\n",
       "      <th>18</th>\n",
       "      <td>ads18_hivtest</td>\n",
       "      <td>-0.595789</td>\n",
       "      <td>0.000000e+00</td>\n",
       "    </tr>\n",
       "    <tr>\n",
       "      <th>19</th>\n",
       "      <td>ads18_male</td>\n",
       "      <td>0.145867</td>\n",
       "      <td>1.345191e-20</td>\n",
       "    </tr>\n",
       "    <tr>\n",
       "      <th>20</th>\n",
       "      <td>ads18_healthCov</td>\n",
       "      <td>-0.217753</td>\n",
       "      <td>5.132037e-21</td>\n",
       "    </tr>\n",
       "    <tr>\n",
       "      <th>21</th>\n",
       "      <td>ads18_older40</td>\n",
       "      <td>-0.053562</td>\n",
       "      <td>1.324911e-02</td>\n",
       "    </tr>\n",
       "    <tr>\n",
       "      <th>22</th>\n",
       "      <td>ads18_age18_25</td>\n",
       "      <td>-0.749212</td>\n",
       "      <td>6.901932e-108</td>\n",
       "    </tr>\n",
       "    <tr>\n",
       "      <th>23</th>\n",
       "      <td>ads18_age25_30</td>\n",
       "      <td>-0.061485</td>\n",
       "      <td>6.243233e-02</td>\n",
       "    </tr>\n",
       "    <tr>\n",
       "      <th>24</th>\n",
       "      <td>ads18_seatbelt</td>\n",
       "      <td>-0.220550</td>\n",
       "      <td>3.371766e-35</td>\n",
       "    </tr>\n",
       "    <tr>\n",
       "      <th>25</th>\n",
       "      <td>ads18_veteran</td>\n",
       "      <td>0.039527</td>\n",
       "      <td>5.760785e-02</td>\n",
       "    </tr>\n",
       "    <tr>\n",
       "      <th>26</th>\n",
       "      <td>ads18_affordDoc</td>\n",
       "      <td>-0.388133</td>\n",
       "      <td>1.127275e-82</td>\n",
       "    </tr>\n",
       "    <tr>\n",
       "      <th>27</th>\n",
       "      <td>ads18_stroke</td>\n",
       "      <td>0.214289</td>\n",
       "      <td>1.357212e-11</td>\n",
       "    </tr>\n",
       "    <tr>\n",
       "      <th>28</th>\n",
       "      <td>Cigarette_tax</td>\n",
       "      <td>0.112803</td>\n",
       "      <td>8.658915e-46</td>\n",
       "    </tr>\n",
       "    <tr>\n",
       "      <th>29</th>\n",
       "      <td>mormon</td>\n",
       "      <td>0.004961</td>\n",
       "      <td>2.128857e-21</td>\n",
       "    </tr>\n",
       "    <tr>\n",
       "      <th>30</th>\n",
       "      <td>Price</td>\n",
       "      <td>0.039510</td>\n",
       "      <td>1.189178e-09</td>\n",
       "    </tr>\n",
       "    <tr>\n",
       "      <th>31</th>\n",
       "      <td>stateSmoke</td>\n",
       "      <td>13.285398</td>\n",
       "      <td>0.000000e+00</td>\n",
       "    </tr>\n",
       "  </tbody>\n",
       "</table>\n",
       "</div>"
      ],
      "text/plain": [
       "                          var       coef           pval\n",
       "0   ads18_frequentHealthIssue   0.458377  2.610920e-130\n",
       "1                ads18_highBP  -0.094458   3.652829e-10\n",
       "2               ads18_highChl   0.018436   2.303050e-01\n",
       "3            ads18_unknownChl   0.304514   2.561817e-45\n",
       "4                ads18_asthma   0.182263   4.617263e-17\n",
       "5          ads18_formerasthma  -0.147663   9.422337e-05\n",
       "6                 ads18_white   0.149215   1.138367e-20\n",
       "7                ads18_weight   0.000009   2.122150e-02\n",
       "8                 ads18_obese  -0.300555   9.211082e-65\n",
       "9             ads18_havechild   0.141283   1.637896e-18\n",
       "10                  ads18_edu  -0.396295   0.000000e+00\n",
       "11               ads18_income  -0.060263   9.836801e-12\n",
       "12           ads18_drinkdaily   0.125154   1.455855e-16\n",
       "13           ads18_drinkbinge   0.914346   0.000000e+00\n",
       "14          ads18_fruitIntake  -0.001687  1.597360e-130\n",
       "15            ads18_vegIntake  -0.000317   3.068793e-05\n",
       "16         ads18_potatoIntake   0.002681   3.810490e-49\n",
       "17             ads18_exercise  -0.306267   3.360048e-98\n",
       "18              ads18_hivtest  -0.595789   0.000000e+00\n",
       "19                 ads18_male   0.145867   1.345191e-20\n",
       "20            ads18_healthCov  -0.217753   5.132037e-21\n",
       "21              ads18_older40  -0.053562   1.324911e-02\n",
       "22             ads18_age18_25  -0.749212  6.901932e-108\n",
       "23             ads18_age25_30  -0.061485   6.243233e-02\n",
       "24             ads18_seatbelt  -0.220550   3.371766e-35\n",
       "25              ads18_veteran   0.039527   5.760785e-02\n",
       "26            ads18_affordDoc  -0.388133   1.127275e-82\n",
       "27               ads18_stroke   0.214289   1.357212e-11\n",
       "28              Cigarette_tax   0.112803   8.658915e-46\n",
       "29                     mormon   0.004961   2.128857e-21\n",
       "30                      Price   0.039510   1.189178e-09\n",
       "31                 stateSmoke  13.285398   0.000000e+00"
      ]
     },
     "execution_count": 33,
     "metadata": {},
     "output_type": "execute_result"
    }
   ],
   "source": [
    "resultds = pd.concat([logit_mod.params, logit_mod.pvalues], axis=1).reset_index() \n",
    "resultds.columns = ['var','coef','pval']\n",
    "resultds"
   ]
  },
  {
   "cell_type": "code",
   "execution_count": 160,
   "metadata": {},
   "outputs": [
    {
     "name": "stdout",
     "output_type": "stream",
     "text": [
      "AUC:  0.744258739632\n"
     ]
    },
    {
     "data": {
      "text/plain": [
       "[<matplotlib.lines.Line2D at 0x7f253b2f4b10>]"
      ]
     },
     "execution_count": 160,
     "metadata": {},
     "output_type": "execute_result"
    },
    {
     "data": {
      "image/png": "[encoded data removed]",
      "text/plain": [
       "<matplotlib.figure.Figure at 0x7f253b4463d0>"
      ]
     },
     "metadata": {
      "needs_background": "light"
     },
     "output_type": "display_data"
    }
   ],
   "source": [
    "pred = logit_mod.predict() #> 0.5\n",
    "fpr, tpr, thresholds = metrics.roc_curve(Y, pred)\n",
    "print('AUC: ',metrics.auc(fpr, tpr))\n",
    "pl.plot(fpr,tpr)"
   ]
  },
  {
   "cell_type": "code",
   "execution_count": 161,
   "metadata": {
    "scrolled": true
   },
   "outputs": [
    {
     "name": "stdout",
     "output_type": "stream",
     "text": [
      "TH:  0.05\n",
      "Accuracy :  0.500167586925\n",
      "              precision    recall  f1-score   support\n",
      "\n",
      "       False       0.60      0.00      0.00     56687\n",
      "        True       0.50      1.00      0.67     56687\n",
      "\n",
      "   micro avg       0.50      0.50      0.50    113374\n",
      "   macro avg       0.55      0.50      0.33    113374\n",
      "weighted avg       0.55      0.50      0.33    113374\n",
      "\n",
      "\n",
      "TH:  0.1\n",
      "Accuracy :  0.502002222732\n",
      "              precision    recall  f1-score   support\n",
      "\n",
      "       False       0.80      0.01      0.01     56687\n",
      "        True       0.50      1.00      0.67     56687\n",
      "\n",
      "   micro avg       0.50      0.50      0.50    113374\n",
      "   macro avg       0.65      0.50      0.34    113374\n",
      "weighted avg       0.65      0.50      0.34    113374\n",
      "\n",
      "\n",
      "TH:  0.2\n",
      "Accuracy :  0.550073209025\n",
      "              precision    recall  f1-score   support\n",
      "\n",
      "       False       0.84      0.12      0.22     56687\n",
      "        True       0.53      0.98      0.68     56687\n",
      "\n",
      "   micro avg       0.55      0.55      0.55    113374\n",
      "   macro avg       0.68      0.55      0.45    113374\n",
      "weighted avg       0.68      0.55      0.45    113374\n",
      "\n",
      "\n",
      "TH:  0.4\n",
      "Accuracy :  0.668583625875\n",
      "              precision    recall  f1-score   support\n",
      "\n",
      "       False       0.73      0.54      0.62     56687\n",
      "        True       0.63      0.80      0.71     56687\n",
      "\n",
      "   micro avg       0.67      0.67      0.67    113374\n",
      "   macro avg       0.68      0.67      0.66    113374\n",
      "weighted avg       0.68      0.67      0.66    113374\n",
      "\n",
      "\n",
      "TH:  0.5\n",
      "Accuracy :  0.679520877803\n",
      "              precision    recall  f1-score   support\n",
      "\n",
      "       False       0.67      0.70      0.69     56687\n",
      "        True       0.69      0.66      0.67     56687\n",
      "\n",
      "   micro avg       0.68      0.68      0.68    113374\n",
      "   macro avg       0.68      0.68      0.68    113374\n",
      "weighted avg       0.68      0.68      0.68    113374\n",
      "\n",
      "\n",
      "TH:  0.6\n",
      "Accuracy :  0.661456771394\n",
      "              precision    recall  f1-score   support\n",
      "\n",
      "       False       0.62      0.83      0.71     56687\n",
      "        True       0.75      0.49      0.59     56687\n",
      "\n",
      "   micro avg       0.66      0.66      0.66    113374\n",
      "   macro avg       0.68      0.66      0.65    113374\n",
      "weighted avg       0.68      0.66      0.65    113374\n",
      "\n",
      "\n",
      "TH:  0.8\n",
      "Accuracy :  0.565191313705\n",
      "              precision    recall  f1-score   support\n",
      "\n",
      "       False       0.54      0.97      0.69     56687\n",
      "        True       0.86      0.16      0.26     56687\n",
      "\n",
      "   micro avg       0.57      0.57      0.57    113374\n",
      "   macro avg       0.70      0.57      0.48    113374\n",
      "weighted avg       0.70      0.57      0.48    113374\n",
      "\n",
      "\n"
     ]
    }
   ],
   "source": [
    "for th in [0.05,0.1,0.2,0.4,0.5,0.6,0.8]:\n",
    "        print('TH: ',th)\n",
    "        print(\"Accuracy : \", np.sum(Y==(pred > th)).astype(float)/len(Y) )\n",
    "        print(classification_report(Y, pred > th))\n",
    "        print()\n"
   ]
  },
  {
   "cell_type": "markdown",
   "metadata": {},
   "source": [
    "### Residual Analysis"
   ]
  },
  {
   "cell_type": "code",
   "execution_count": 162,
   "metadata": {},
   "outputs": [
    {
     "data": {
      "text/plain": [
       "(array([  1310.,   9969.,  17493.,  18921.,   8989.,   6754.,  23449.,\n",
       "         16812.,   8112.,   1565.]),\n",
       " array([-0.99999997, -0.80033824, -0.6006765 , -0.40101476, -0.20135303,\n",
       "        -0.00169129,  0.19797045,  0.39763218,  0.59729392,  0.79695565,\n",
       "         0.99661739]),\n",
       " <a list of 10 Patch objects>)"
      ]
     },
     "execution_count": 162,
     "metadata": {},
     "output_type": "execute_result"
    },
    {
     "data": {
      "image/png": "[encoded data removed]",
      "text/plain": [
       "<matplotlib.figure.Figure at 0x7f254aeba190>"
      ]
     },
     "metadata": {
      "needs_background": "light"
     },
     "output_type": "display_data"
    }
   ],
   "source": [
    "Yint = Y.astype(int)\n",
    "error = pred - Yint\n",
    "pl.hist(error)"
   ]
  },
  {
   "cell_type": "code",
   "execution_count": 163,
   "metadata": {},
   "outputs": [],
   "source": [
    "fp = (~Y) & (pred>0.5)\n",
    "fn = (Y) & (pred<=0.5)\n",
    "tptn = Y ==  (pred<=0.5)"
   ]
  },
  {
   "cell_type": "code",
   "execution_count": 164,
   "metadata": {},
   "outputs": [],
   "source": [
    "errordf = pd.DataFrame({'error':error, 'state':cleandfDn.ads18_state, 'fp':fp, 'fn':fn, 'tptn':tptn, 'pred':pred, 'truth':Y})"
   ]
  },
  {
   "cell_type": "code",
   "execution_count": 165,
   "metadata": {},
   "outputs": [],
   "source": [
    "statesshp =  gp.GeoDataFrame.from_file('stateshp/cb_2017_us_state_5m.shp')\n",
    "statesshp = statesshp.to_crs(epsg = 4326)"
   ]
  },
  {
   "cell_type": "code",
   "execution_count": 166,
   "metadata": {
    "scrolled": true
   },
   "outputs": [
    {
     "data": {
      "text/plain": [
       "[(u'Alabama', 'Alabama'),\n",
       " (u'Alaska', 'Alaska'),\n",
       " (u'American Samoa', 'Arizona'),\n",
       " (u'Arizona', 'Arkansas'),\n",
       " (u'Arkansas', 'California'),\n",
       " (u'California', 'Colorado'),\n",
       " (u'Colorado', 'Connecticut'),\n",
       " (u'Commonwealth of the Northern Mariana Islands', 'Delaware'),\n",
       " (u'Connecticut', 'District of Columbia'),\n",
       " (u'Delaware', 'Florida'),\n",
       " (u'District of Columbia', 'Georgia'),\n",
       " (u'Florida', 'Guam'),\n",
       " (u'Georgia', 'Hawaii'),\n",
       " (u'Guam', 'Idaho'),\n",
       " (u'Hawaii', 'Illinois'),\n",
       " (u'Idaho', 'Indiana'),\n",
       " (u'Illinois', 'Iowa'),\n",
       " (u'Indiana', 'Kansas'),\n",
       " (u'Iowa', 'Kentucky'),\n",
       " (u'Kansas', 'Louisiana'),\n",
       " (u'Kentucky', 'Maine'),\n",
       " (u'Louisiana', 'Maryland'),\n",
       " (u'Maine', 'Massachusetts'),\n",
       " (u'Maryland', 'Michigan'),\n",
       " (u'Massachusetts', 'Minnesota'),\n",
       " (u'Michigan', 'Mississippi'),\n",
       " (u'Minnesota', 'Missouri'),\n",
       " (u'Mississippi', 'Montana'),\n",
       " (u'Missouri', 'Nebraska'),\n",
       " (u'Montana', 'Nevada'),\n",
       " (u'Nebraska', 'New Hampshire'),\n",
       " (u'Nevada', 'New Jersey'),\n",
       " (u'New Hampshire', 'New Mexico'),\n",
       " (u'New Jersey', 'New York'),\n",
       " (u'New Mexico', 'North Carolina'),\n",
       " (u'New York', 'North Dakota'),\n",
       " (u'North Carolina', 'Ohio'),\n",
       " (u'North Dakota', 'Oklahoma'),\n",
       " (u'Ohio', 'Oregon'),\n",
       " (u'Oklahoma', 'Pennsylvania'),\n",
       " (u'Oregon', 'Puerto Rico'),\n",
       " (u'Pennsylvania', 'Rhode Island'),\n",
       " (u'Puerto Rico', 'South Carolina'),\n",
       " (u'Rhode Island', 'South Dakota'),\n",
       " (u'South Carolina', 'Tennessee'),\n",
       " (u'South Dakota', 'Texas'),\n",
       " (u'Tennessee', 'Utah'),\n",
       " (u'Texas', 'Vermont'),\n",
       " (u'United States Virgin Islands', 'Virginia'),\n",
       " (u'Utah', 'Washington'),\n",
       " (u'Vermont', 'West Virginia'),\n",
       " (u'Virginia', 'Wisconsin'),\n",
       " (u'Washington', 'Wyoming')]"
      ]
     },
     "execution_count": 166,
     "metadata": {},
     "output_type": "execute_result"
    }
   ],
   "source": [
    "zip(sorted(statesshp.NAME),sorted(set(errordf.state)))"
   ]
  },
  {
   "cell_type": "code",
   "execution_count": 167,
   "metadata": {},
   "outputs": [
    {
     "data": {
      "text/plain": [
       "(53, 7)"
      ]
     },
     "execution_count": 167,
     "metadata": {},
     "output_type": "execute_result"
    }
   ],
   "source": [
    "errordf = errordf.groupby('state').mean().reset_index()\n",
    "errordf.shape"
   ]
  },
  {
   "cell_type": "code",
   "execution_count": 168,
   "metadata": {},
   "outputs": [
    {
     "data": {
      "text/plain": [
       "(array([  3.,   4.,  13.,   9.,  10.,   6.,   4.,   1.,   1.,   2.]),\n",
       " array([-0.08166278, -0.06094893, -0.04023507, -0.01952121,  0.00119265,\n",
       "         0.02190651,  0.04262037,  0.06333423,  0.08404809,  0.10476195,\n",
       "         0.12547581]),\n",
       " <a list of 10 Patch objects>)"
      ]
     },
     "execution_count": 168,
     "metadata": {},
     "output_type": "execute_result"
    },
    {
     "data": {
      "image/png": "[encoded data removed]",
      "text/plain": [
       "<matplotlib.figure.Figure at 0x7f253b4b2550>"
      ]
     },
     "metadata": {
      "needs_background": "light"
     },
     "output_type": "display_data"
    }
   ],
   "source": [
    "pl.hist(errordf.error)"
   ]
  },
  {
   "cell_type": "code",
   "execution_count": 169,
   "metadata": {},
   "outputs": [
    {
     "data": {
      "text/plain": [
       "(56, 10)"
      ]
     },
     "execution_count": 169,
     "metadata": {},
     "output_type": "execute_result"
    }
   ],
   "source": [
    "statesshp.shape"
   ]
  },
  {
   "cell_type": "code",
   "execution_count": 170,
   "metadata": {},
   "outputs": [],
   "source": [
    "statesshp = statesshp.merge(errordf, left_on='NAME', right_on='state', how='left')"
   ]
  },
  {
   "cell_type": "code",
   "execution_count": 171,
   "metadata": {},
   "outputs": [
    {
     "data": {
      "text/plain": [
       "(56, 17)"
      ]
     },
     "execution_count": 171,
     "metadata": {},
     "output_type": "execute_result"
    }
   ],
   "source": [
    "statesshp.shape"
   ]
  },
  {
   "cell_type": "code",
   "execution_count": 172,
   "metadata": {},
   "outputs": [
    {
     "data": {
      "text/plain": [
       "(25, 50)"
      ]
     },
     "execution_count": 172,
     "metadata": {},
     "output_type": "execute_result"
    },
    {
     "data": {
      "image/png": "[encoded data removed]",
      "text/plain": [
       "<matplotlib.figure.Figure at 0x7f254ae62bd0>"
      ]
     },
     "metadata": {
      "needs_background": "light"
     },
     "output_type": "display_data"
    }
   ],
   "source": [
    "figure, ax = plt.subplots(figsize=(15, 8))\n",
    "statesshp.plot(column='pred',ax=ax, legend=True)\n",
    "plt.xlim((-130,-60))\n",
    "plt.ylim((25,50))"
   ]
  },
  {
   "cell_type": "code",
   "execution_count": 173,
   "metadata": {},
   "outputs": [
    {
     "data": {
      "text/plain": [
       "(25, 50)"
      ]
     },
     "execution_count": 173,
     "metadata": {},
     "output_type": "execute_result"
    },
    {
     "data": {
      "image/png": "[encoded data removed]",
      "text/plain": [
       "<matplotlib.figure.Figure at 0x7f253b25c7d0>"
      ]
     },
     "metadata": {
      "needs_background": "light"
     },
     "output_type": "display_data"
    }
   ],
   "source": [
    "figure, ax = plt.subplots(figsize=(15, 8))\n",
    "statesshp.plot(column='truth',ax=ax, legend=True)\n",
    "plt.xlim((-130,-60))\n",
    "plt.ylim((25,50))"
   ]
  },
  {
   "cell_type": "code",
   "execution_count": 175,
   "metadata": {},
   "outputs": [
    {
     "data": {
      "text/plain": [
       "(25, 50)"
      ]
     },
     "execution_count": 175,
     "metadata": {},
     "output_type": "execute_result"
    },
    {
     "data": {
      "image/png": "[encoded data removed]",
      "text/plain": [
       "<matplotlib.figure.Figure at 0x7f253b386310>"
      ]
     },
     "metadata": {
      "needs_background": "light"
     },
     "output_type": "display_data"
    }
   ],
   "source": [
    "figure, ax = plt.subplots(figsize=(15, 8))\n",
    "statesshp.plot(column='error',ax=ax, legend=True)\n",
    "plt.xlim((-130,-60))\n",
    "plt.ylim((25,50))"
   ]
  },
  {
   "cell_type": "code",
   "execution_count": 176,
   "metadata": {},
   "outputs": [
    {
     "name": "stdout",
     "output_type": "stream",
     "text": [
      "(51, 2)\n"
     ]
    },
    {
     "data": {
      "text/html": [
       "<div>\n",
       "<style scoped>\n",
       "    .dataframe tbody tr th:only-of-type {\n",
       "        vertical-align: middle;\n",
       "    }\n",
       "\n",
       "    .dataframe tbody tr th {\n",
       "        vertical-align: top;\n",
       "    }\n",
       "\n",
       "    .dataframe thead th {\n",
       "        text-align: right;\n",
       "    }\n",
       "</style>\n",
       "<table border=\"1\" class=\"dataframe\">\n",
       "  <thead>\n",
       "    <tr style=\"text-align: right;\">\n",
       "      <th></th>\n",
       "      <th>State</th>\n",
       "      <th>mormon</th>\n",
       "    </tr>\n",
       "  </thead>\n",
       "  <tbody>\n",
       "    <tr>\n",
       "      <th>0</th>\n",
       "      <td>Utah</td>\n",
       "      <td>100</td>\n",
       "    </tr>\n",
       "    <tr>\n",
       "      <th>1</th>\n",
       "      <td>Idaho</td>\n",
       "      <td>40</td>\n",
       "    </tr>\n",
       "    <tr>\n",
       "      <th>2</th>\n",
       "      <td>Wyoming</td>\n",
       "      <td>22</td>\n",
       "    </tr>\n",
       "    <tr>\n",
       "      <th>3</th>\n",
       "      <td>Arizona</td>\n",
       "      <td>15</td>\n",
       "    </tr>\n",
       "    <tr>\n",
       "      <th>4</th>\n",
       "      <td>Alaska</td>\n",
       "      <td>13</td>\n",
       "    </tr>\n",
       "  </tbody>\n",
       "</table>\n",
       "</div>"
      ],
      "text/plain": [
       "     State  mormon\n",
       "0     Utah     100\n",
       "1    Idaho      40\n",
       "2  Wyoming      22\n",
       "3  Arizona      15\n",
       "4   Alaska      13"
      ]
     },
     "execution_count": 176,
     "metadata": {},
     "output_type": "execute_result"
    }
   ],
   "source": [
    "mormondf = pd.read_csv('mormon.csv',skiprows=1)\n",
    "mormondf.columns = ['State','mormon']\n",
    "print(mormondf.shape)\n",
    "mormondf.head()"
   ]
  },
  {
   "cell_type": "code",
   "execution_count": null,
   "metadata": {},
   "outputs": [],
   "source": [
    "statesshp = statesshp.merge(mormondf, left_on='NAME', right_on='State', how='left')"
   ]
  },
  {
   "cell_type": "code",
   "execution_count": null,
   "metadata": {},
   "outputs": [],
   "source": [
    "figure, ax = plt.subplots(figsize=(15, 8))\n",
    "statesshp.plot(column='Cigarette_tax',ax=ax, legend=True)\n",
    "plt.xlim((-130,-60))\n",
    "plt.ylim((25,50))"
   ]
  },
  {
   "cell_type": "code",
   "execution_count": null,
   "metadata": {},
   "outputs": [],
   "source": [
    "figure, ax = plt.subplots(figsize=(15, 8))\n",
    "statesshp.plot(column='Cigarette_tax',ax=ax, legend=True)\n",
    "plt.xlim((-130,-60))\n",
    "plt.ylim((25,50))"
   ]
  },
  {
   "cell_type": "code",
   "execution_count": null,
   "metadata": {},
   "outputs": [],
   "source": [
    "statesshp.corr()"
   ]
  },
  {
   "cell_type": "code",
   "execution_count": null,
   "metadata": {},
   "outputs": [],
   "source": [
    "figure, ax = plt.subplots(figsize=(15, 8))\n",
    "statesshp.plot(column='fp',ax=ax, legend=True)\n",
    "plt.xlim((-130,-60))\n",
    "plt.ylim((25,50))"
   ]
  },
  {
   "cell_type": "code",
   "execution_count": null,
   "metadata": {},
   "outputs": [],
   "source": [
    "figure, ax = plt.subplots(figsize=(15, 8))\n",
    "statesshp.plot(column='fn',ax=ax, legend=True)\n",
    "plt.xlim((-130,-60))\n",
    "plt.ylim((25,50))"
   ]
  },
  {
   "cell_type": "code",
   "execution_count": null,
   "metadata": {},
   "outputs": [],
   "source": [
    "figure, ax = plt.subplots(figsize=(15, 8))\n",
    "statesshp.plot(column='tptn',ax=ax, legend=True)\n",
    "plt.xlim((-130,-60))\n",
    "plt.ylim((25,50))"
   ]
  },
  {
   "cell_type": "code",
   "execution_count": null,
   "metadata": {},
   "outputs": [],
   "source": [
    "statesshp.head()"
   ]
  },
  {
   "cell_type": "code",
   "execution_count": null,
   "metadata": {
    "scrolled": true
   },
   "outputs": [],
   "source": [
    "statesshp['NAME']"
   ]
  },
  {
   "cell_type": "code",
   "execution_count": null,
   "metadata": {},
   "outputs": [],
   "source": []
  },
  {
   "cell_type": "markdown",
   "metadata": {},
   "source": [
    "## Upsample"
   ]
  },
  {
   "cell_type": "code",
   "execution_count": null,
   "metadata": {},
   "outputs": [],
   "source": [
    "cleandf = classImballanceUpSample(cleandf, 'label')"
   ]
  },
  {
   "cell_type": "code",
   "execution_count": null,
   "metadata": {
    "scrolled": true
   },
   "outputs": [],
   "source": [
    "Y= cleandf['label']\n",
    "X = cleandf[[c for c in cleandf.columns if c != 'label']]\n",
    "print(\"columns :\", len(X.columns))\n",
    "X = filterPerfectCorrelation(X)\n",
    "X = bolleanToNumeric(X)\n",
    "print(\"Uncorrelated columns :\", len(X.columns))\n",
    "\n",
    "logit_mod = sma.Logit(Y, X, method='bfgs').fit()\n",
    "print(logit_mod.summary())"
   ]
  },
  {
   "cell_type": "code",
   "execution_count": null,
   "metadata": {
    "scrolled": true
   },
   "outputs": [],
   "source": [
    "resultus = pd.concat([logit_mod.params, logit_mod.pvalues], axis=1).reset_index() \n",
    "resultus.columns = ['var','coef','pval']\n",
    "resultus"
   ]
  },
  {
   "cell_type": "code",
   "execution_count": null,
   "metadata": {},
   "outputs": [],
   "source": [
    "pred = logit_mod.predict() #> 0.5\n",
    "fpr, tpr, thresholds = metrics.roc_curve(Y, pred)\n",
    "print('AUC: ',metrics.auc(fpr, tpr))\n",
    "pl.plot(fpr,tpr)"
   ]
  },
  {
   "cell_type": "code",
   "execution_count": null,
   "metadata": {},
   "outputs": [],
   "source": [
    "print(classification_report(Y,pred>0.5))"
   ]
  },
  {
   "cell_type": "markdown",
   "metadata": {},
   "source": [
    "## compare coeffs"
   ]
  },
  {
   "cell_type": "code",
   "execution_count": null,
   "metadata": {
    "scrolled": true
   },
   "outputs": [],
   "source": [
    "resultAll = result.merge(resultds,left_on=['var'], right_on=['var'], how='inner')\n",
    "resultAll = resultAll.merge(resultus,left_on=['var'], right_on=['var'], how='inner')\n",
    "resultAll"
   ]
  },
  {
   "cell_type": "code",
   "execution_count": null,
   "metadata": {
    "scrolled": true
   },
   "outputs": [],
   "source": [
    "resultAll[['var','coef_x','coef_y','coef']]"
   ]
  },
  {
   "cell_type": "markdown",
   "metadata": {},
   "source": [
    "### Random Forest Models"
   ]
  },
  {
   "cell_type": "code",
   "execution_count": 180,
   "metadata": {
    "scrolled": true
   },
   "outputs": [
    {
     "name": "stdout",
     "output_type": "stream",
     "text": [
      "Predictors:  32\n",
      "label:  label\n",
      "Train Test Split:\n",
      "(257495, 32) (126826, 32) (257495, 1) (126826, 1)\n",
      "OS Accuracy :  0.851268667308\n",
      "IS Accuracy :  0.982488980369\n",
      "              precision    recall  f1-score   support\n",
      "\n",
      "       False       0.86      0.98      0.92    108130\n",
      "        True       0.48      0.11      0.18     18696\n",
      "\n",
      "   micro avg       0.85      0.85      0.85    126826\n",
      "   macro avg       0.67      0.54      0.55    126826\n",
      "weighted avg       0.81      0.85      0.81    126826\n",
      "\n",
      "TH:  0.05\n",
      "Accuracy :  0.443166227745\n",
      "              precision    recall  f1-score   support\n",
      "\n",
      "       False       0.94      0.37      0.53    108130\n",
      "        True       0.19      0.85      0.31     18696\n",
      "\n",
      "   micro avg       0.44      0.44      0.44    126826\n",
      "   macro avg       0.56      0.61      0.42    126826\n",
      "weighted avg       0.83      0.44      0.50    126826\n",
      "\n",
      "\n",
      "TH:  0.1\n",
      "Accuracy :  0.64405563528\n",
      "              precision    recall  f1-score   support\n",
      "\n",
      "       False       0.92      0.64      0.75    108130\n",
      "        True       0.24      0.68      0.36     18696\n",
      "\n",
      "   micro avg       0.64      0.64      0.64    126826\n",
      "   macro avg       0.58      0.66      0.56    126826\n",
      "weighted avg       0.82      0.64      0.70    126826\n",
      "\n",
      "\n",
      "TH:  0.2\n",
      "Accuracy :  0.757967609165\n",
      "              precision    recall  f1-score   support\n",
      "\n",
      "       False       0.90      0.80      0.85    108130\n",
      "        True       0.30      0.49      0.37     18696\n",
      "\n",
      "   micro avg       0.76      0.76      0.76    126826\n",
      "   macro avg       0.60      0.65      0.61    126826\n",
      "weighted avg       0.81      0.76      0.78    126826\n",
      "\n",
      "\n",
      "TH:  0.4\n",
      "Accuracy :  0.841586110104\n",
      "              precision    recall  f1-score   support\n",
      "\n",
      "       False       0.87      0.95      0.91    108130\n",
      "        True       0.42      0.20      0.27     18696\n",
      "\n",
      "   micro avg       0.84      0.84      0.84    126826\n",
      "   macro avg       0.65      0.58      0.59    126826\n",
      "weighted avg       0.81      0.84      0.82    126826\n",
      "\n",
      "\n",
      "TH:  0.5\n",
      "Accuracy :  0.851268667308\n",
      "              precision    recall  f1-score   support\n",
      "\n",
      "       False       0.86      0.98      0.92    108130\n",
      "        True       0.48      0.11      0.18     18696\n",
      "\n",
      "   micro avg       0.85      0.85      0.85    126826\n",
      "   macro avg       0.67      0.54      0.55    126826\n",
      "weighted avg       0.81      0.85      0.81    126826\n",
      "\n",
      "\n",
      "TH:  0.6\n",
      "Accuracy :  0.85384700298\n",
      "              precision    recall  f1-score   support\n",
      "\n",
      "       False       0.86      0.99      0.92    108130\n",
      "        True       0.55      0.05      0.09     18696\n",
      "\n",
      "   micro avg       0.85      0.85      0.85    126826\n",
      "   macro avg       0.70      0.52      0.51    126826\n",
      "weighted avg       0.81      0.85      0.80    126826\n",
      "\n",
      "\n",
      "TH:  0.8\n",
      "Accuracy :  0.852940248845\n",
      "              precision    recall  f1-score   support\n",
      "\n",
      "       False       0.85      1.00      0.92    108130\n",
      "        True       0.65      0.01      0.01     18696\n",
      "\n",
      "   micro avg       0.85      0.85      0.85    126826\n",
      "   macro avg       0.75      0.50      0.47    126826\n",
      "weighted avg       0.82      0.85      0.79    126826\n",
      "\n",
      "\n"
     ]
    }
   ],
   "source": [
    "getModel(cleandf[[c for c in cleandf.columns if c != 'ads18_state']],'label', ballanceClasses=None, rfcBalance = None)"
   ]
  },
  {
   "cell_type": "code",
   "execution_count": null,
   "metadata": {
    "scrolled": true
   },
   "outputs": [],
   "source": [
    "getModel(labelEncodeCategoricalFeatures(cleandf),'label', ballanceClasses=None, rfcBalance = None)"
   ]
  },
  {
   "cell_type": "code",
   "execution_count": null,
   "metadata": {},
   "outputs": [],
   "source": [
    "getModel(cleandf[[c for c in cleandf.columns if c != 'ads18_state']],'label', ballanceClasses=classImballanceDownSample, rfcBalance = None)"
   ]
  },
  {
   "cell_type": "code",
   "execution_count": null,
   "metadata": {},
   "outputs": [],
   "source": [
    "getModel(labelEncodeCategoricalFeatures(cleandf),'label', ballanceClasses=classImballanceDownSample, rfcBalance = None)"
   ]
  },
  {
   "cell_type": "code",
   "execution_count": null,
   "metadata": {},
   "outputs": [],
   "source": [
    "getModel(cleandf[[c for c in cleandf.columns if c != 'ads18_state']],'label', ballanceClasses=classImballanceUpSample, rfcBalance = None)"
   ]
  },
  {
   "cell_type": "code",
   "execution_count": null,
   "metadata": {},
   "outputs": [],
   "source": [
    "getModel(labelEncodeCategoricalFeatures(cleandf),'label', ballanceClasses=classImballanceUpSample, rfcBalance = None)"
   ]
  },
  {
   "cell_type": "markdown",
   "metadata": {},
   "source": [
    "##"
   ]
  },
  {
   "cell_type": "code",
   "execution_count": null,
   "metadata": {},
   "outputs": [],
   "source": []
  },
  {
   "cell_type": "code",
   "execution_count": null,
   "metadata": {},
   "outputs": [],
   "source": []
  },
  {
   "cell_type": "code",
   "execution_count": null,
   "metadata": {},
   "outputs": [],
   "source": []
  },
  {
   "cell_type": "code",
   "execution_count": null,
   "metadata": {},
   "outputs": [],
   "source": []
  },
  {
   "cell_type": "code",
   "execution_count": null,
   "metadata": {},
   "outputs": [],
   "source": []
  },
  {
   "cell_type": "code",
   "execution_count": null,
   "metadata": {},
   "outputs": [],
   "source": []
  },
  {
   "cell_type": "code",
   "execution_count": null,
   "metadata": {},
   "outputs": [],
   "source": []
  },
  {
   "cell_type": "code",
   "execution_count": null,
   "metadata": {},
   "outputs": [],
   "source": []
  },
  {
   "cell_type": "code",
   "execution_count": null,
   "metadata": {},
   "outputs": [],
   "source": []
  },
  {
   "cell_type": "code",
   "execution_count": null,
   "metadata": {},
   "outputs": [],
   "source": []
  },
  {
   "cell_type": "code",
   "execution_count": null,
   "metadata": {},
   "outputs": [],
   "source": []
  },
  {
   "cell_type": "code",
   "execution_count": null,
   "metadata": {},
   "outputs": [],
   "source": []
  }
 ],
 "metadata": {
  "kernelspec": {
   "display_name": "Python 3",
   "language": "python",
   "name": "python3"
  },
  "language_info": {
   "codemirror_mode": {
    "name": "ipython",
    "version": 3
   },
   "file_extension": ".py",
   "mimetype": "text/x-python",
   "name": "python",
   "nbconvert_exporter": "python",
   "pygments_lexer": "ipython3",
   "version": "3.6.5"
  }
 },
 "nbformat": 4,
 "nbformat_minor": 2
}
