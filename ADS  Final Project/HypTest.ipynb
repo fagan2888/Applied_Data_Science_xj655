{
 "cells": [
  {
   "cell_type": "code",
   "execution_count": 1,
   "metadata": {},
   "outputs": [],
   "source": [
    "from __future__ import print_function\n",
    "import numpy as np\n",
    "import pandas as pd\n",
    "\n",
    "\n",
    "from sklearn.ensemble  import RandomForestClassifier as rfc\n",
    "from sklearn.model_selection import train_test_split\n",
    "from sklearn.metrics import confusion_matrix\n",
    "from sklearn.metrics import classification_report\n",
    "from sklearn.linear_model import LogisticRegression as logreg\n",
    "\n",
    "import statsmodels as sm\n",
    "import statsmodels.formula.api as smf\n",
    "import statsmodels.api as sma\n",
    "\n",
    "from sklearn.feature_selection import chi2\n",
    "\n",
    "import scipy as sp\n",
    "from scipy import stats\n",
    "\n",
    "from sklearn.preprocessing import LabelEncoder\n"
   ]
  },
  {
   "cell_type": "code",
   "execution_count": 2,
   "metadata": {},
   "outputs": [],
   "source": [
    "# the directory that contains all the files\n",
    "dataDirectory = 'data/'"
   ]
  },
  {
   "cell_type": "code",
   "execution_count": 3,
   "metadata": {},
   "outputs": [
    {
     "name": "stderr",
     "output_type": "stream",
     "text": [
      "/anaconda3/lib/python3.6/site-packages/IPython/core/interactiveshell.py:2785: DtypeWarning: Columns (3,170,174) have mixed types. Specify dtype option on import or set low_memory=False.\n",
      "  interactivity=interactivity, compiler=compiler, result=result)\n"
     ]
    }
   ],
   "source": [
    "file = 'llcp2017_formatted.csv'\n",
    "df = pd.read_csv(file)"
   ]
  },
  {
   "cell_type": "code",
   "execution_count": 26,
   "metadata": {},
   "outputs": [
    {
     "data": {
      "text/html": [
       "<div>\n",
       "<style scoped>\n",
       "    .dataframe tbody tr th:only-of-type {\n",
       "        vertical-align: middle;\n",
       "    }\n",
       "\n",
       "    .dataframe tbody tr th {\n",
       "        vertical-align: top;\n",
       "    }\n",
       "\n",
       "    .dataframe thead th {\n",
       "        text-align: right;\n",
       "    }\n",
       "</style>\n",
       "<table border=\"1\" class=\"dataframe\">\n",
       "  <thead>\n",
       "    <tr style=\"text-align: right;\">\n",
       "      <th></th>\n",
       "      <th>STATE FIPS CODE</th>\n",
       "      <th>FILE MONTH</th>\n",
       "      <th>INTERVIEW DATE</th>\n",
       "      <th>INTERVIEW MONTH</th>\n",
       "      <th>INTERVIEW DAY</th>\n",
       "      <th>INTERVIEW YEAR</th>\n",
       "      <th>FINAL DISPOSITION</th>\n",
       "      <th>ANNUAL SEQUENCE NUMBER</th>\n",
       "      <th>PRIMARY SAMPLING UNIT</th>\n",
       "      <th>CORRECT TELEPHONE NUMBER?</th>\n",
       "      <th>...</th>\n",
       "      <th>_IMPCAGE</th>\n",
       "      <th>_IMPCRAC</th>\n",
       "      <th>_IMPCSEX</th>\n",
       "      <th>_IMPEDUC</th>\n",
       "      <th>_IMPHOME</th>\n",
       "      <th>_IMPMRTL</th>\n",
       "      <th>_IMPNPH</th>\n",
       "      <th>_IMPSEX</th>\n",
       "      <th>_M_RACE</th>\n",
       "      <th>_URBNRRL</th>\n",
       "    </tr>\n",
       "  </thead>\n",
       "  <tbody>\n",
       "    <tr>\n",
       "      <th>0</th>\n",
       "      <td>Alabama</td>\n",
       "      <td>January</td>\n",
       "      <td>1302017</td>\n",
       "      <td>01</td>\n",
       "      <td>30</td>\n",
       "      <td>2017</td>\n",
       "      <td>1100</td>\n",
       "      <td>2017000001</td>\n",
       "      <td>2017000001</td>\n",
       "      <td>Yes</td>\n",
       "      <td>...</td>\n",
       "      <td>Not asked or Missing</td>\n",
       "      <td>Missing</td>\n",
       "      <td>Missing</td>\n",
       "      <td>Missing</td>\n",
       "      <td>Missing</td>\n",
       "      <td>Missing</td>\n",
       "      <td>NaN</td>\n",
       "      <td>Not asked or Missing</td>\n",
       "      <td>Not asked or Missing</td>\n",
       "      <td>Missing</td>\n",
       "    </tr>\n",
       "    <tr>\n",
       "      <th>1</th>\n",
       "      <td>Alabama</td>\n",
       "      <td>January</td>\n",
       "      <td>1122017</td>\n",
       "      <td>01</td>\n",
       "      <td>12</td>\n",
       "      <td>2017</td>\n",
       "      <td>1100</td>\n",
       "      <td>2017000002</td>\n",
       "      <td>2017000002</td>\n",
       "      <td>Yes</td>\n",
       "      <td>...</td>\n",
       "      <td>Not asked or Missing</td>\n",
       "      <td>Missing</td>\n",
       "      <td>Missing</td>\n",
       "      <td>Missing</td>\n",
       "      <td>Missing</td>\n",
       "      <td>Missing</td>\n",
       "      <td>NaN</td>\n",
       "      <td>Not asked or Missing</td>\n",
       "      <td>Not asked or Missing</td>\n",
       "      <td>Missing</td>\n",
       "    </tr>\n",
       "    <tr>\n",
       "      <th>2</th>\n",
       "      <td>Alabama</td>\n",
       "      <td>January</td>\n",
       "      <td>1102017</td>\n",
       "      <td>01</td>\n",
       "      <td>10</td>\n",
       "      <td>2017</td>\n",
       "      <td>1100</td>\n",
       "      <td>2017000003</td>\n",
       "      <td>2017000003</td>\n",
       "      <td>Yes</td>\n",
       "      <td>...</td>\n",
       "      <td>Not asked or Missing</td>\n",
       "      <td>Missing</td>\n",
       "      <td>Missing</td>\n",
       "      <td>Missing</td>\n",
       "      <td>Missing</td>\n",
       "      <td>Missing</td>\n",
       "      <td>NaN</td>\n",
       "      <td>Not asked or Missing</td>\n",
       "      <td>Not asked or Missing</td>\n",
       "      <td>Missing</td>\n",
       "    </tr>\n",
       "    <tr>\n",
       "      <th>3</th>\n",
       "      <td>Alabama</td>\n",
       "      <td>January</td>\n",
       "      <td>2082017</td>\n",
       "      <td>02</td>\n",
       "      <td>8</td>\n",
       "      <td>2017</td>\n",
       "      <td>1200</td>\n",
       "      <td>2017000004</td>\n",
       "      <td>2017000004</td>\n",
       "      <td>Yes</td>\n",
       "      <td>...</td>\n",
       "      <td>Not asked or Missing</td>\n",
       "      <td>Missing</td>\n",
       "      <td>Missing</td>\n",
       "      <td>Missing</td>\n",
       "      <td>Missing</td>\n",
       "      <td>Missing</td>\n",
       "      <td>NaN</td>\n",
       "      <td>Not asked or Missing</td>\n",
       "      <td>Not asked or Missing</td>\n",
       "      <td>Missing</td>\n",
       "    </tr>\n",
       "    <tr>\n",
       "      <th>4</th>\n",
       "      <td>Alabama</td>\n",
       "      <td>January</td>\n",
       "      <td>1302017</td>\n",
       "      <td>01</td>\n",
       "      <td>30</td>\n",
       "      <td>2017</td>\n",
       "      <td>1100</td>\n",
       "      <td>2017000005</td>\n",
       "      <td>2017000005</td>\n",
       "      <td>Yes</td>\n",
       "      <td>...</td>\n",
       "      <td>Not asked or Missing</td>\n",
       "      <td>Missing</td>\n",
       "      <td>Missing</td>\n",
       "      <td>Missing</td>\n",
       "      <td>Missing</td>\n",
       "      <td>Missing</td>\n",
       "      <td>NaN</td>\n",
       "      <td>Not asked or Missing</td>\n",
       "      <td>Not asked or Missing</td>\n",
       "      <td>Missing</td>\n",
       "    </tr>\n",
       "  </tbody>\n",
       "</table>\n",
       "<p>5 rows × 384 columns</p>\n",
       "</div>"
      ],
      "text/plain": [
       "  STATE FIPS CODE FILE MONTH  INTERVIEW DATE INTERVIEW MONTH  INTERVIEW DAY  \\\n",
       "0         Alabama    January         1302017              01             30   \n",
       "1         Alabama    January         1122017              01             12   \n",
       "2         Alabama    January         1102017              01             10   \n",
       "3         Alabama    January         2082017              02              8   \n",
       "4         Alabama    January         1302017              01             30   \n",
       "\n",
       "   INTERVIEW YEAR  FINAL DISPOSITION  ANNUAL SEQUENCE NUMBER  \\\n",
       "0            2017               1100              2017000001   \n",
       "1            2017               1100              2017000002   \n",
       "2            2017               1100              2017000003   \n",
       "3            2017               1200              2017000004   \n",
       "4            2017               1100              2017000005   \n",
       "\n",
       "   PRIMARY SAMPLING UNIT CORRECT TELEPHONE NUMBER?   ...     \\\n",
       "0             2017000001                       Yes   ...      \n",
       "1             2017000002                       Yes   ...      \n",
       "2             2017000003                       Yes   ...      \n",
       "3             2017000004                       Yes   ...      \n",
       "4             2017000005                       Yes   ...      \n",
       "\n",
       "               _IMPCAGE _IMPCRAC  _IMPCSEX _IMPEDUC  _IMPHOME  _IMPMRTL  \\\n",
       "0  Not asked or Missing  Missing   Missing  Missing   Missing   Missing   \n",
       "1  Not asked or Missing  Missing   Missing  Missing   Missing   Missing   \n",
       "2  Not asked or Missing  Missing   Missing  Missing   Missing   Missing   \n",
       "3  Not asked or Missing  Missing   Missing  Missing   Missing   Missing   \n",
       "4  Not asked or Missing  Missing   Missing  Missing   Missing   Missing   \n",
       "\n",
       "   _IMPNPH               _IMPSEX               _M_RACE _URBNRRL  \n",
       "0      NaN  Not asked or Missing  Not asked or Missing  Missing  \n",
       "1      NaN  Not asked or Missing  Not asked or Missing  Missing  \n",
       "2      NaN  Not asked or Missing  Not asked or Missing  Missing  \n",
       "3      NaN  Not asked or Missing  Not asked or Missing  Missing  \n",
       "4      NaN  Not asked or Missing  Not asked or Missing  Missing  \n",
       "\n",
       "[5 rows x 384 columns]"
      ]
     },
     "execution_count": 26,
     "metadata": {},
     "output_type": "execute_result"
    }
   ],
   "source": [
    "df.head()"
   ]
  },
  {
   "cell_type": "code",
   "execution_count": 27,
   "metadata": {},
   "outputs": [
    {
     "name": "stdout",
     "output_type": "stream",
     "text": [
      "Number of records:  450642\n"
     ]
    }
   ],
   "source": [
    "print(\"Number of records: \",len(df))"
   ]
  },
  {
   "cell_type": "markdown",
   "metadata": {},
   "source": [
    "### Helper Functions"
   ]
  },
  {
   "cell_type": "code",
   "execution_count": 28,
   "metadata": {},
   "outputs": [],
   "source": [
    "def containsKeyword(sent):\n",
    "    sent = sent.lower()\n",
    "    for f in filterList:\n",
    "        if f in sent:\n",
    "            return True\n",
    "    return False"
   ]
  },
  {
   "cell_type": "code",
   "execution_count": 29,
   "metadata": {},
   "outputs": [],
   "source": [
    "def normalizeNumeric(df):\n",
    "    for col in df.columns:\n",
    "        if np.issubdtype(df[col].dtype, np.number):\n",
    "            df[col] = ( df[col] - np.mean(df[col]) ) / (np.std(df[col]))\n",
    "    return df\n",
    "            \n",
    "#[ (c, np.sum(np.isnan(ecigdfOH[c])))  for c in ecigdfOH.columns if np.issubdtype(ecigdfOH[c].dtype, np.number) ]"
   ]
  },
  {
   "cell_type": "code",
   "execution_count": 30,
   "metadata": {},
   "outputs": [],
   "source": [
    "# remove class imballance by sampling from majority class\n",
    "def classImballanceDownSample(df,ycol):\n",
    "    df = df.copy()\n",
    "    valueCount = df[ycol].value_counts()\n",
    "    print(\"Before Class Imballance Treatment: \")\n",
    "    print(valueCount)\n",
    "    classes = valueCount.index\n",
    "    counts = valueCount.values\n",
    "    minClassSize = np.min(counts)\n",
    "    for clas in classes:\n",
    "        df1 = df[df[ycol]==clas]\n",
    "        df2 = df[df[ycol]!=clas]\n",
    "        \n",
    "        df1 = df1.sample(n=minClassSize, random_state=50)\n",
    "        df = df1.append(df2)\n",
    "    #shuffling the dataframe\n",
    "    df = df.sample(frac=1).reset_index(drop=True)\n",
    "    print(\"After Class Imballance Treatment: \")\n",
    "    print(df[ycol].value_counts())\n",
    "    return df  "
   ]
  },
  {
   "cell_type": "code",
   "execution_count": 31,
   "metadata": {},
   "outputs": [],
   "source": [
    "def labelEncodeCategoricalFeatures(DF):\n",
    "    labelencoder = LabelEncoder()\n",
    "    df = DF.copy()\n",
    "    for c in df.columns:\n",
    "        if df[c].dtype.name == 'object':\n",
    "            df[c] = labelencoder.fit_transform(df[c])\n",
    "    return df"
   ]
  },
  {
   "cell_type": "code",
   "execution_count": 32,
   "metadata": {},
   "outputs": [],
   "source": [
    "def performChiSquareDependencyTest(df,label):\n",
    "    xcols = [c for c in df.columns if c != label]\n",
    "    X = df[xcols]\n",
    "    Y = df[label]\n",
    "    res = chi2(labelEncodeCategoricalFeatures(X),Y)\n",
    "    resDf = pd.DataFrame({'Variable':xcols, 'Chi':res[0], 'P_value':res[1]})\n",
    "    resDf = resDf.sort_values(by=['Chi'], ascending=False).reset_index(drop=True)\n",
    "    return resDf"
   ]
  },
  {
   "cell_type": "code",
   "execution_count": 33,
   "metadata": {},
   "outputs": [],
   "source": [
    "def getKbestChiFeatures(df,label,k):\n",
    "    xcols = [c for c in df.columns if c != label]\n",
    "    X = df[xcols]\n",
    "    Y = df[label]\n",
    "    res = chi2(labelEncodeCategoricalFeatures(X),Y)\n",
    "    kcols = [col for ch,col in sorted(zip(res[0],xcols),reverse=True)]\n",
    "    resDf = df[kcols[:k]+[label]]\n",
    "    return resDf"
   ]
  },
  {
   "cell_type": "markdown",
   "metadata": {},
   "source": [
    "### Create Computed Column Dataframe"
   ]
  },
  {
   "cell_type": "code",
   "execution_count": 34,
   "metadata": {},
   "outputs": [
    {
     "name": "stdout",
     "output_type": "stream",
     "text": [
      "Number of calculated/computed columns:  41\n"
     ]
    }
   ],
   "source": [
    "# Find the columns that contain smoking key word\n",
    "filterList = ['smok','cig']    \n",
    "smokecols = [c for c in df.columns if containsKeyword(c)]\n",
    "smokecols\n",
    "\n",
    "## Explore the calculated and computed columns\n",
    "filterList = ['computed', 'calculated']    \n",
    "calcols = [c for c in df.columns if containsKeyword(c)]\n",
    "print(\"Number of calculated/computed columns: \",len(calcols))\n",
    "\n",
    "# create a datframe that only has calculated columns\n",
    "comDF = df[calcols]"
   ]
  },
  {
   "cell_type": "markdown",
   "metadata": {},
   "source": [
    "### Create SMoking columns"
   ]
  },
  {
   "cell_type": "code",
   "execution_count": 35,
   "metadata": {},
   "outputs": [
    {
     "name": "stdout",
     "output_type": "stream",
     "text": [
      "data size:  450642\n",
      "clean data size:  427526\n",
      "Frequency distributions:\n",
      "No     413906\n",
      "Yes     13620\n",
      "Name: esmoke, dtype: int64\n",
      "No     364794\n",
      "Yes     62732\n",
      "Name: smoke, dtype: int64\n"
     ]
    }
   ],
   "source": [
    "ecigdf = comDF.copy()\n",
    "ecigdf.rename(columns={'CURRENT E-CIGARETTE USER CALCULATED VARI': 'esmoke', \\\n",
    "                     'CURRENT SMOKING CALCULATED VARIABLE':'smoke'},inplace = True)\n",
    "\n",
    "\n",
    "mapper = {'Current E-cigarette user': 'Yes', 'Not currently using E-cigarettes': 'No' }\n",
    "ecigdf['esmoke'] = ecigdf['esmoke'].map(mapper)\n",
    "\n",
    "print(\"data size: \",len(ecigdf))\n",
    "ecigdf = ecigdf[ecigdf.smoke.apply(lambda x: x in ['Yes','No']) ]\n",
    "ecigdf = ecigdf[ecigdf.esmoke.apply(lambda x: x in ['Yes','No']) ]\n",
    "print(\"clean data size: \",len(ecigdf))\n",
    "\n",
    "print(\"Frequency distributions:\")\n",
    "print(ecigdf.esmoke.value_counts())\n",
    "print(ecigdf.smoke.value_counts())"
   ]
  },
  {
   "cell_type": "code",
   "execution_count": 36,
   "metadata": {},
   "outputs": [
    {
     "name": "stdout",
     "output_type": "stream",
     "text": [
      "Just smoke : 55523\n",
      "Just esmoke: 6411\n",
      "SMoke Both : 7209\n",
      "Smoke none : 358383\n"
     ]
    }
   ],
   "source": [
    "print(\"Just smoke :\", np.sum((ecigdf.smoke == 'Yes') & (ecigdf.esmoke == 'No')))\n",
    "print(\"Just esmoke:\", np.sum((ecigdf.smoke == 'No') & (ecigdf.esmoke == 'Yes')))\n",
    "print(\"SMoke Both :\", np.sum((ecigdf.smoke == 'Yes') & (ecigdf.esmoke == 'Yes')))\n",
    "print(\"Smoke none :\", np.sum((ecigdf.smoke == 'No') & (ecigdf.esmoke == 'No')))"
   ]
  },
  {
   "cell_type": "markdown",
   "metadata": {},
   "source": [
    "### Data Cleansing"
   ]
  },
  {
   "cell_type": "code",
   "execution_count": 15,
   "metadata": {},
   "outputs": [
    {
     "name": "stdout",
     "output_type": "stream",
     "text": [
      "clean data size:  69143\n"
     ]
    }
   ],
   "source": [
    "# remove non smokers\n",
    "ecigdf = ecigdf[ (ecigdf.smoke == 'Yes') | (ecigdf.esmoke == 'Yes') ]\n",
    "print(\"clean data size: \",len(ecigdf))"
   ]
  },
  {
   "cell_type": "code",
   "execution_count": 16,
   "metadata": {},
   "outputs": [
    {
     "name": "stdout",
     "output_type": "stream",
     "text": [
      "Records:  69143\n",
      "Records after cleaning Nan:  61225\n"
     ]
    }
   ],
   "source": [
    "print(\"Records: \",len(ecigdf))\n",
    "ecigdf = ecigdf.dropna()\n",
    "print(\"Records after cleaning Nan: \",len(ecigdf))"
   ]
  },
  {
   "cell_type": "code",
   "execution_count": 18,
   "metadata": {},
   "outputs": [],
   "source": [
    "# label is 1 for esmoker and zero for non smoker\n",
    "ecigdf['label'] = ecigdf.esmoke == 'Yes'"
   ]
  },
  {
   "cell_type": "code",
   "execution_count": 19,
   "metadata": {},
   "outputs": [
    {
     "name": "stdout",
     "output_type": "stream",
     "text": [
      "Columns :  38\n",
      "Frequency distributions:\n",
      "False    48998\n",
      "True     12227\n",
      "Name: label, dtype: int64\n"
     ]
    }
   ],
   "source": [
    "excludecolumns = smokecols + ['esmoke', 'smoke']\n",
    "ecigdf = ecigdf[[c for c in ecigdf.columns if c not in excludecolumns ]]\n",
    "print('Columns : ',len(ecigdf.columns))\n",
    "print(\"Frequency distributions:\")\n",
    "print(ecigdf.label.value_counts())"
   ]
  },
  {
   "cell_type": "code",
   "execution_count": 39,
   "metadata": {},
   "outputs": [
    {
     "name": "stdout",
     "output_type": "stream",
     "text": [
      "data size:  450642\n",
      "clean data size:  431888\n",
      "Frequency distributions:\n",
      "No     413906\n",
      "Yes     13620\n",
      "Name: esmoke, dtype: int64\n",
      "No     368326\n",
      "Yes     63562\n",
      "Name: smoke, dtype: int64\n"
     ]
    }
   ],
   "source": [
    "'''smoker/non-smoker'''\n",
    "\n",
    "ecigdf = comDF.copy()\n",
    "ecigdf.rename(columns={'CURRENT E-CIGARETTE USER CALCULATED VARI': 'esmoke', \\\n",
    "                     'CURRENT SMOKING CALCULATED VARIABLE':'smoke'},inplace = True)\n",
    "\n",
    "\n",
    "mapper = {'Current E-cigarette user': 'Yes', 'Not currently using E-cigarettes': 'No' }\n",
    "ecigdf['esmoke'] = ecigdf['esmoke'].map(mapper)\n",
    "\n",
    "print(\"data size: \",len(ecigdf))\n",
    "ecigdf = ecigdf[ecigdf.smoke.apply(lambda x: x in ['Yes','No']) ]\n",
    "#ecigdf = ecigdf[ecigdf.esmoke.apply(lambda x: x in ['Yes','No']) ]\n",
    "print(\"clean data size: \",len(ecigdf))\n",
    "\n",
    "print(\"Frequency distributions:\")\n",
    "print(ecigdf.esmoke.value_counts())\n",
    "print(ecigdf.smoke.value_counts())"
   ]
  },
  {
   "cell_type": "code",
   "execution_count": 40,
   "metadata": {},
   "outputs": [
    {
     "name": "stdout",
     "output_type": "stream",
     "text": [
      "Records:  431888\n",
      "Records after cleaning Nan:  377435\n"
     ]
    }
   ],
   "source": [
    "print(\"Records: \",len(ecigdf))\n",
    "ecigdf = ecigdf.dropna()\n",
    "print(\"Records after cleaning Nan: \",len(ecigdf))"
   ]
  },
  {
   "cell_type": "code",
   "execution_count": 41,
   "metadata": {},
   "outputs": [],
   "source": [
    "ecigdf['label'] = ecigdf.smoke == 'Yes'"
   ]
  },
  {
   "cell_type": "code",
   "execution_count": 42,
   "metadata": {},
   "outputs": [
    {
     "name": "stdout",
     "output_type": "stream",
     "text": [
      "Columns :  39\n",
      "Frequency distributions:\n",
      "False    321970\n",
      "True      55465\n",
      "Name: label, dtype: int64\n"
     ]
    }
   ],
   "source": [
    "excludecolumns = smokecols + [ 'smoke']\n",
    "ecigdf = ecigdf[[c for c in ecigdf.columns if c not in excludecolumns ]]\n",
    "print('Columns : ',len(ecigdf.columns))\n",
    "print(\"Frequency distributions:\")\n",
    "print(ecigdf.label.value_counts())"
   ]
  },
  {
   "cell_type": "markdown",
   "metadata": {},
   "source": [
    "## Chi Square Test"
   ]
  },
  {
   "cell_type": "code",
   "execution_count": 43,
   "metadata": {},
   "outputs": [
    {
     "data": {
      "text/html": [
       "<div>\n",
       "<style scoped>\n",
       "    .dataframe tbody tr th:only-of-type {\n",
       "        vertical-align: middle;\n",
       "    }\n",
       "\n",
       "    .dataframe tbody tr th {\n",
       "        vertical-align: top;\n",
       "    }\n",
       "\n",
       "    .dataframe thead th {\n",
       "        text-align: right;\n",
       "    }\n",
       "</style>\n",
       "<table border=\"1\" class=\"dataframe\">\n",
       "  <thead>\n",
       "    <tr style=\"text-align: right;\">\n",
       "      <th></th>\n",
       "      <th>Variable</th>\n",
       "      <th>Chi</th>\n",
       "      <th>P_value</th>\n",
       "    </tr>\n",
       "  </thead>\n",
       "  <tbody>\n",
       "    <tr>\n",
       "      <th>0</th>\n",
       "      <td>COMPUTED FRUIT INTAKE IN TIMES PER DAY</td>\n",
       "      <td>478485.164277</td>\n",
       "      <td>0.000000e+00</td>\n",
       "    </tr>\n",
       "    <tr>\n",
       "      <th>1</th>\n",
       "      <td>COMPUTED DARK GREEN VEGETABLE INTAKE IN</td>\n",
       "      <td>138270.608094</td>\n",
       "      <td>0.000000e+00</td>\n",
       "    </tr>\n",
       "    <tr>\n",
       "      <th>2</th>\n",
       "      <td>COMPUTED OTHER VEGETABLE INTAKE IN TIMES</td>\n",
       "      <td>90753.142239</td>\n",
       "      <td>0.000000e+00</td>\n",
       "    </tr>\n",
       "    <tr>\n",
       "      <th>3</th>\n",
       "      <td>COMPUTED WEIGHT IN KILOGRAMS</td>\n",
       "      <td>67737.046817</td>\n",
       "      <td>0.000000e+00</td>\n",
       "    </tr>\n",
       "    <tr>\n",
       "      <th>4</th>\n",
       "      <td>COMPUTED POTATO SERVINGS PER DAY</td>\n",
       "      <td>33901.762729</td>\n",
       "      <td>0.000000e+00</td>\n",
       "    </tr>\n",
       "    <tr>\n",
       "      <th>5</th>\n",
       "      <td>esmoke</td>\n",
       "      <td>14229.946110</td>\n",
       "      <td>0.000000e+00</td>\n",
       "    </tr>\n",
       "    <tr>\n",
       "      <th>6</th>\n",
       "      <td>COMPUTED FRUIT JUICE INTAKE IN TIMES PER</td>\n",
       "      <td>12850.247131</td>\n",
       "      <td>0.000000e+00</td>\n",
       "    </tr>\n",
       "    <tr>\n",
       "      <th>7</th>\n",
       "      <td>PNEUMONIA VACCINATION CALCULATED VARIABL</td>\n",
       "      <td>11628.061237</td>\n",
       "      <td>0.000000e+00</td>\n",
       "    </tr>\n",
       "    <tr>\n",
       "      <th>8</th>\n",
       "      <td>FLU SHOT CALCULATED VARIABLE</td>\n",
       "      <td>11547.850349</td>\n",
       "      <td>0.000000e+00</td>\n",
       "    </tr>\n",
       "    <tr>\n",
       "      <th>9</th>\n",
       "      <td>COMPUTED LEVEL OF EDUCATION COMPLETED CA</td>\n",
       "      <td>5440.318877</td>\n",
       "      <td>0.000000e+00</td>\n",
       "    </tr>\n",
       "    <tr>\n",
       "      <th>10</th>\n",
       "      <td>EVER BEEN TESTED FOR HIV CALCULATED VARI</td>\n",
       "      <td>3115.386659</td>\n",
       "      <td>0.000000e+00</td>\n",
       "    </tr>\n",
       "    <tr>\n",
       "      <th>11</th>\n",
       "      <td>COMPUTED MENTAL HEALTH STATUS</td>\n",
       "      <td>2335.695324</td>\n",
       "      <td>0.000000e+00</td>\n",
       "    </tr>\n",
       "    <tr>\n",
       "      <th>12</th>\n",
       "      <td>150 MINUTE PHYSICAL ACTIVITY CALCULATED</td>\n",
       "      <td>1904.668174</td>\n",
       "      <td>0.000000e+00</td>\n",
       "    </tr>\n",
       "    <tr>\n",
       "      <th>13</th>\n",
       "      <td>300 MINUTE PHYSICAL ACTIVITY CALCULATED</td>\n",
       "      <td>1303.295554</td>\n",
       "      <td>2.172963e-285</td>\n",
       "    </tr>\n",
       "    <tr>\n",
       "      <th>14</th>\n",
       "      <td>COMPUTED PHYSICAL HEALTH STATUS</td>\n",
       "      <td>1046.557019</td>\n",
       "      <td>1.363564e-229</td>\n",
       "    </tr>\n",
       "    <tr>\n",
       "      <th>15</th>\n",
       "      <td>BINGE DRINKING CALCULATED VARIABLE</td>\n",
       "      <td>570.844008</td>\n",
       "      <td>3.678938e-126</td>\n",
       "    </tr>\n",
       "    <tr>\n",
       "      <th>16</th>\n",
       "      <td>CALCULATED NON-HISPANIC RACE INCLUDING M</td>\n",
       "      <td>455.258000</td>\n",
       "      <td>5.174208e-101</td>\n",
       "    </tr>\n",
       "    <tr>\n",
       "      <th>17</th>\n",
       "      <td>COMPUTED PREFERRED RACE</td>\n",
       "      <td>406.281144</td>\n",
       "      <td>2.363931e-90</td>\n",
       "    </tr>\n",
       "    <tr>\n",
       "      <th>18</th>\n",
       "      <td>COMPUTED INCOME CATEGORIES</td>\n",
       "      <td>356.609685</td>\n",
       "      <td>1.541079e-79</td>\n",
       "    </tr>\n",
       "    <tr>\n",
       "      <th>19</th>\n",
       "      <td>COMPUTED RACE-ETHNICITY GROUPING</td>\n",
       "      <td>284.385683</td>\n",
       "      <td>8.315835e-64</td>\n",
       "    </tr>\n",
       "    <tr>\n",
       "      <th>20</th>\n",
       "      <td>HIGH CHOLESTEROL CALCULATED VARIABLE</td>\n",
       "      <td>277.316765</td>\n",
       "      <td>2.886219e-62</td>\n",
       "    </tr>\n",
       "    <tr>\n",
       "      <th>21</th>\n",
       "      <td>COMPUTED ASTHMA STATUS</td>\n",
       "      <td>218.722184</td>\n",
       "      <td>1.718349e-49</td>\n",
       "    </tr>\n",
       "    <tr>\n",
       "      <th>22</th>\n",
       "      <td>HEAVY ALCOHOL CONSUMPTION  CALCULATED VA</td>\n",
       "      <td>146.043186</td>\n",
       "      <td>1.270282e-33</td>\n",
       "    </tr>\n",
       "    <tr>\n",
       "      <th>23</th>\n",
       "      <td>COMPUTED BODY MASS INDEX</td>\n",
       "      <td>133.894895</td>\n",
       "      <td>5.760575e-31</td>\n",
       "    </tr>\n",
       "    <tr>\n",
       "      <th>24</th>\n",
       "      <td>COMPUTED RACE GROUPS USED FOR INTERNET P</td>\n",
       "      <td>102.339050</td>\n",
       "      <td>4.678777e-24</td>\n",
       "    </tr>\n",
       "    <tr>\n",
       "      <th>25</th>\n",
       "      <td>COMPUTED FIVE LEVEL RACE/ETHNICITY CATEG</td>\n",
       "      <td>102.339050</td>\n",
       "      <td>4.678777e-24</td>\n",
       "    </tr>\n",
       "    <tr>\n",
       "      <th>26</th>\n",
       "      <td>LIFETIME ASTHMA CALCULATED VARIABLE</td>\n",
       "      <td>62.050506</td>\n",
       "      <td>3.347604e-15</td>\n",
       "    </tr>\n",
       "    <tr>\n",
       "      <th>27</th>\n",
       "      <td>OVERWEIGHT OR OBESE CALCULATED VARIABLE</td>\n",
       "      <td>61.261227</td>\n",
       "      <td>4.998272e-15</td>\n",
       "    </tr>\n",
       "    <tr>\n",
       "      <th>28</th>\n",
       "      <td>CURRENT ASTHMA CALCULATED VARIABLE</td>\n",
       "      <td>46.906200</td>\n",
       "      <td>7.446674e-12</td>\n",
       "    </tr>\n",
       "    <tr>\n",
       "      <th>29</th>\n",
       "      <td>COMPUTED NUMBER OF CHILDREN IN HOUSEHOLD</td>\n",
       "      <td>38.307986</td>\n",
       "      <td>6.041491e-10</td>\n",
       "    </tr>\n",
       "    <tr>\n",
       "      <th>30</th>\n",
       "      <td>COMPUTED NON-HISPANIC WHITES/ALL OTHERS</td>\n",
       "      <td>35.329093</td>\n",
       "      <td>2.784415e-09</td>\n",
       "    </tr>\n",
       "    <tr>\n",
       "      <th>31</th>\n",
       "      <td>CHOLESTEROL CHECKED CALCULATED VARIABLE</td>\n",
       "      <td>34.789277</td>\n",
       "      <td>3.673914e-09</td>\n",
       "    </tr>\n",
       "    <tr>\n",
       "      <th>32</th>\n",
       "      <td>COMPUTED NUMBER OF DRINKS OF ALCOHOL BEV</td>\n",
       "      <td>32.116003</td>\n",
       "      <td>1.452361e-08</td>\n",
       "    </tr>\n",
       "    <tr>\n",
       "      <th>33</th>\n",
       "      <td>COMPUTED DRINK-OCCASIONS-PER-DAY</td>\n",
       "      <td>15.463981</td>\n",
       "      <td>8.409257e-05</td>\n",
       "    </tr>\n",
       "    <tr>\n",
       "      <th>34</th>\n",
       "      <td>COMPUTED BODY MASS INDEX CATEGORIES</td>\n",
       "      <td>14.526090</td>\n",
       "      <td>1.382319e-04</td>\n",
       "    </tr>\n",
       "    <tr>\n",
       "      <th>35</th>\n",
       "      <td>HIGH BLOOD PRESSURE CALCULATED VARIABLE</td>\n",
       "      <td>3.241839</td>\n",
       "      <td>7.178004e-02</td>\n",
       "    </tr>\n",
       "    <tr>\n",
       "      <th>36</th>\n",
       "      <td>COMPUTED HEIGHT IN INCHES</td>\n",
       "      <td>0.652133</td>\n",
       "      <td>4.193511e-01</td>\n",
       "    </tr>\n",
       "    <tr>\n",
       "      <th>37</th>\n",
       "      <td>COMPUTED HEIGHT IN METERS</td>\n",
       "      <td>0.402031</td>\n",
       "      <td>5.260424e-01</td>\n",
       "    </tr>\n",
       "  </tbody>\n",
       "</table>\n",
       "</div>"
      ],
      "text/plain": [
       "                                    Variable            Chi        P_value\n",
       "0     COMPUTED FRUIT INTAKE IN TIMES PER DAY  478485.164277   0.000000e+00\n",
       "1    COMPUTED DARK GREEN VEGETABLE INTAKE IN  138270.608094   0.000000e+00\n",
       "2   COMPUTED OTHER VEGETABLE INTAKE IN TIMES   90753.142239   0.000000e+00\n",
       "3               COMPUTED WEIGHT IN KILOGRAMS   67737.046817   0.000000e+00\n",
       "4           COMPUTED POTATO SERVINGS PER DAY   33901.762729   0.000000e+00\n",
       "5                                     esmoke   14229.946110   0.000000e+00\n",
       "6   COMPUTED FRUIT JUICE INTAKE IN TIMES PER   12850.247131   0.000000e+00\n",
       "7   PNEUMONIA VACCINATION CALCULATED VARIABL   11628.061237   0.000000e+00\n",
       "8               FLU SHOT CALCULATED VARIABLE   11547.850349   0.000000e+00\n",
       "9   COMPUTED LEVEL OF EDUCATION COMPLETED CA    5440.318877   0.000000e+00\n",
       "10  EVER BEEN TESTED FOR HIV CALCULATED VARI    3115.386659   0.000000e+00\n",
       "11             COMPUTED MENTAL HEALTH STATUS    2335.695324   0.000000e+00\n",
       "12   150 MINUTE PHYSICAL ACTIVITY CALCULATED    1904.668174   0.000000e+00\n",
       "13   300 MINUTE PHYSICAL ACTIVITY CALCULATED    1303.295554  2.172963e-285\n",
       "14           COMPUTED PHYSICAL HEALTH STATUS    1046.557019  1.363564e-229\n",
       "15        BINGE DRINKING CALCULATED VARIABLE     570.844008  3.678938e-126\n",
       "16  CALCULATED NON-HISPANIC RACE INCLUDING M     455.258000  5.174208e-101\n",
       "17                   COMPUTED PREFERRED RACE     406.281144   2.363931e-90\n",
       "18                COMPUTED INCOME CATEGORIES     356.609685   1.541079e-79\n",
       "19          COMPUTED RACE-ETHNICITY GROUPING     284.385683   8.315835e-64\n",
       "20      HIGH CHOLESTEROL CALCULATED VARIABLE     277.316765   2.886219e-62\n",
       "21                    COMPUTED ASTHMA STATUS     218.722184   1.718349e-49\n",
       "22  HEAVY ALCOHOL CONSUMPTION  CALCULATED VA     146.043186   1.270282e-33\n",
       "23                  COMPUTED BODY MASS INDEX     133.894895   5.760575e-31\n",
       "24  COMPUTED RACE GROUPS USED FOR INTERNET P     102.339050   4.678777e-24\n",
       "25  COMPUTED FIVE LEVEL RACE/ETHNICITY CATEG     102.339050   4.678777e-24\n",
       "26       LIFETIME ASTHMA CALCULATED VARIABLE      62.050506   3.347604e-15\n",
       "27   OVERWEIGHT OR OBESE CALCULATED VARIABLE      61.261227   4.998272e-15\n",
       "28        CURRENT ASTHMA CALCULATED VARIABLE      46.906200   7.446674e-12\n",
       "29  COMPUTED NUMBER OF CHILDREN IN HOUSEHOLD      38.307986   6.041491e-10\n",
       "30   COMPUTED NON-HISPANIC WHITES/ALL OTHERS      35.329093   2.784415e-09\n",
       "31   CHOLESTEROL CHECKED CALCULATED VARIABLE      34.789277   3.673914e-09\n",
       "32  COMPUTED NUMBER OF DRINKS OF ALCOHOL BEV      32.116003   1.452361e-08\n",
       "33          COMPUTED DRINK-OCCASIONS-PER-DAY      15.463981   8.409257e-05\n",
       "34       COMPUTED BODY MASS INDEX CATEGORIES      14.526090   1.382319e-04\n",
       "35   HIGH BLOOD PRESSURE CALCULATED VARIABLE       3.241839   7.178004e-02\n",
       "36                 COMPUTED HEIGHT IN INCHES       0.652133   4.193511e-01\n",
       "37                 COMPUTED HEIGHT IN METERS       0.402031   5.260424e-01"
      ]
     },
     "execution_count": 43,
     "metadata": {},
     "output_type": "execute_result"
    }
   ],
   "source": [
    "performChiSquareDependencyTest(ecigdf,'label')"
   ]
  },
  {
   "cell_type": "markdown",
   "metadata": {},
   "source": [
    "### Manual Chi square calculation for One Column (Which we will not pursue)"
   ]
  },
  {
   "cell_type": "code",
   "execution_count": 19,
   "metadata": {},
   "outputs": [
    {
     "data": {
      "text/html": [
       "<div>\n",
       "<style scoped>\n",
       "    .dataframe tbody tr th:only-of-type {\n",
       "        vertical-align: middle;\n",
       "    }\n",
       "\n",
       "    .dataframe tbody tr th {\n",
       "        vertical-align: top;\n",
       "    }\n",
       "\n",
       "    .dataframe thead th {\n",
       "        text-align: right;\n",
       "    }\n",
       "</style>\n",
       "<table border=\"1\" class=\"dataframe\">\n",
       "  <thead>\n",
       "    <tr style=\"text-align: right;\">\n",
       "      <th></th>\n",
       "      <th>s1</th>\n",
       "      <th>s2</th>\n",
       "    </tr>\n",
       "  </thead>\n",
       "  <tbody>\n",
       "    <tr>\n",
       "      <th>Zero days when physical health not good</th>\n",
       "      <td>6220</td>\n",
       "      <td>26015</td>\n",
       "    </tr>\n",
       "    <tr>\n",
       "      <th>1-13 days when physical health not good</th>\n",
       "      <td>3370</td>\n",
       "      <td>11557</td>\n",
       "    </tr>\n",
       "    <tr>\n",
       "      <th>14+ days when physical health not good</th>\n",
       "      <td>2453</td>\n",
       "      <td>10571</td>\n",
       "    </tr>\n",
       "    <tr>\n",
       "      <th>Don�t know/Refused/Missing</th>\n",
       "      <td>184</td>\n",
       "      <td>855</td>\n",
       "    </tr>\n",
       "  </tbody>\n",
       "</table>\n",
       "</div>"
      ],
      "text/plain": [
       "                                           s1     s2\n",
       "Zero days when physical health not good  6220  26015\n",
       "1-13 days when physical health not good  3370  11557\n",
       "14+ days when physical health not good   2453  10571\n",
       "Don�t know/Refused/Missing                184    855"
      ]
     },
     "execution_count": 19,
     "metadata": {},
     "output_type": "execute_result"
    }
   ],
   "source": [
    "s1 = ecigdf[ecigdf['label']==True].iloc[:,0].value_counts() \n",
    "s1 = s1.astype(int)\n",
    "s2 = ecigdf[ecigdf['label']==False].iloc[:,0].value_counts() \n",
    "s2 = s2.astype(int)\n",
    "\n",
    "vcountDF = pd.concat([s1, s2], axis=1)\n",
    "vcountDF.columns = ['s1','s2']\n",
    "vcountDF"
   ]
  },
  {
   "cell_type": "code",
   "execution_count": 21,
   "metadata": {},
   "outputs": [
    {
     "data": {
      "text/plain": [
       "(86.45216064490617,\n",
       " 1.265957018899482e-18,\n",
       " 3,\n",
       " array([[ 6437.52298898, 25797.47701102],\n",
       "        [ 2981.01149857, 11945.98850143],\n",
       "        [ 2600.97097591, 10423.02902409],\n",
       "        [  207.49453655,   831.50546345]]))"
      ]
     },
     "execution_count": 21,
     "metadata": {},
     "output_type": "execute_result"
    }
   ],
   "source": [
    "sp.stats.chi2_contingency(vcountDF)"
   ]
  },
  {
   "cell_type": "code",
   "execution_count": 103,
   "metadata": {},
   "outputs": [
    {
     "data": {
      "text/plain": [
       "0.12385164096708583"
      ]
     },
     "execution_count": 103,
     "metadata": {},
     "output_type": "execute_result"
    }
   ],
   "source": [
    "np.log10(1.33)"
   ]
  },
  {
   "cell_type": "code",
   "execution_count": 102,
   "metadata": {},
   "outputs": [
    {
     "data": {
      "text/plain": [
       "1.3489628825916535"
      ]
     },
     "execution_count": 102,
     "metadata": {},
     "output_type": "execute_result"
    }
   ],
   "source": [
    "10**.13"
   ]
  },
  {
   "cell_type": "markdown",
   "metadata": {},
   "source": [
    "## Clean Data"
   ]
  },
  {
   "cell_type": "code",
   "execution_count": 110,
   "metadata": {},
   "outputs": [],
   "source": [
    "cleandf = pd.read_csv('cleanData.csv')"
   ]
  },
  {
   "cell_type": "code",
   "execution_count": 111,
   "metadata": {},
   "outputs": [
    {
     "name": "stdout",
     "output_type": "stream",
     "text": [
      "Records:  61934\n",
      "Records after cleaning Nan:  55953\n"
     ]
    }
   ],
   "source": [
    "print(\"Records: \",len(cleandf))\n",
    "cleandf = cleandf.dropna()\n",
    "print(\"Records after cleaning Nan: \",len(cleandf))"
   ]
  },
  {
   "cell_type": "code",
   "execution_count": 112,
   "metadata": {},
   "outputs": [
    {
     "data": {
      "text/html": [
       "<div>\n",
       "<style scoped>\n",
       "    .dataframe tbody tr th:only-of-type {\n",
       "        vertical-align: middle;\n",
       "    }\n",
       "\n",
       "    .dataframe tbody tr th {\n",
       "        vertical-align: top;\n",
       "    }\n",
       "\n",
       "    .dataframe thead th {\n",
       "        text-align: right;\n",
       "    }\n",
       "</style>\n",
       "<table border=\"1\" class=\"dataframe\">\n",
       "  <thead>\n",
       "    <tr style=\"text-align: right;\">\n",
       "      <th></th>\n",
       "      <th>Variable</th>\n",
       "      <th>Chi</th>\n",
       "      <th>P_value</th>\n",
       "    </tr>\n",
       "  </thead>\n",
       "  <tbody>\n",
       "    <tr>\n",
       "      <th>0</th>\n",
       "      <td>ads18_weight</td>\n",
       "      <td>47810.289410</td>\n",
       "      <td>0.000000e+00</td>\n",
       "    </tr>\n",
       "    <tr>\n",
       "      <th>1</th>\n",
       "      <td>ads18_fruitIntake</td>\n",
       "      <td>12152.722525</td>\n",
       "      <td>0.000000e+00</td>\n",
       "    </tr>\n",
       "    <tr>\n",
       "      <th>2</th>\n",
       "      <td>ads18_age18_25</td>\n",
       "      <td>3908.331990</td>\n",
       "      <td>0.000000e+00</td>\n",
       "    </tr>\n",
       "    <tr>\n",
       "      <th>3</th>\n",
       "      <td>ads18_vegIntake</td>\n",
       "      <td>1264.437342</td>\n",
       "      <td>6.047396e-277</td>\n",
       "    </tr>\n",
       "    <tr>\n",
       "      <th>4</th>\n",
       "      <td>ads18_older40</td>\n",
       "      <td>646.877423</td>\n",
       "      <td>1.067119e-142</td>\n",
       "    </tr>\n",
       "    <tr>\n",
       "      <th>5</th>\n",
       "      <td>ads18_potatoIntake</td>\n",
       "      <td>606.094508</td>\n",
       "      <td>7.910539e-134</td>\n",
       "    </tr>\n",
       "    <tr>\n",
       "      <th>6</th>\n",
       "      <td>ads18_income</td>\n",
       "      <td>405.922157</td>\n",
       "      <td>2.829951e-90</td>\n",
       "    </tr>\n",
       "    <tr>\n",
       "      <th>7</th>\n",
       "      <td>ads18_highBP</td>\n",
       "      <td>201.154078</td>\n",
       "      <td>1.169472e-45</td>\n",
       "    </tr>\n",
       "    <tr>\n",
       "      <th>8</th>\n",
       "      <td>ads18_unknownChl</td>\n",
       "      <td>200.688173</td>\n",
       "      <td>1.477945e-45</td>\n",
       "    </tr>\n",
       "    <tr>\n",
       "      <th>9</th>\n",
       "      <td>ads18_age25_30</td>\n",
       "      <td>192.920787</td>\n",
       "      <td>7.325061e-44</td>\n",
       "    </tr>\n",
       "    <tr>\n",
       "      <th>10</th>\n",
       "      <td>ads18_highChl</td>\n",
       "      <td>126.998584</td>\n",
       "      <td>1.859061e-29</td>\n",
       "    </tr>\n",
       "    <tr>\n",
       "      <th>11</th>\n",
       "      <td>ads18_formerasthma</td>\n",
       "      <td>106.595926</td>\n",
       "      <td>5.458531e-25</td>\n",
       "    </tr>\n",
       "    <tr>\n",
       "      <th>12</th>\n",
       "      <td>ads18_frequentHealthIssue</td>\n",
       "      <td>100.518240</td>\n",
       "      <td>1.173116e-23</td>\n",
       "    </tr>\n",
       "    <tr>\n",
       "      <th>13</th>\n",
       "      <td>ads18_exercise</td>\n",
       "      <td>100.357060</td>\n",
       "      <td>1.272573e-23</td>\n",
       "    </tr>\n",
       "    <tr>\n",
       "      <th>14</th>\n",
       "      <td>ads18_edu</td>\n",
       "      <td>96.749689</td>\n",
       "      <td>7.866996e-23</td>\n",
       "    </tr>\n",
       "    <tr>\n",
       "      <th>15</th>\n",
       "      <td>ads18_male</td>\n",
       "      <td>90.517448</td>\n",
       "      <td>1.833529e-21</td>\n",
       "    </tr>\n",
       "    <tr>\n",
       "      <th>16</th>\n",
       "      <td>ads18_stroke</td>\n",
       "      <td>78.681162</td>\n",
       "      <td>7.298828e-19</td>\n",
       "    </tr>\n",
       "    <tr>\n",
       "      <th>17</th>\n",
       "      <td>ads18_drinkdaily</td>\n",
       "      <td>70.575900</td>\n",
       "      <td>4.428946e-17</td>\n",
       "    </tr>\n",
       "    <tr>\n",
       "      <th>18</th>\n",
       "      <td>ads18_havechild</td>\n",
       "      <td>37.940828</td>\n",
       "      <td>7.292311e-10</td>\n",
       "    </tr>\n",
       "    <tr>\n",
       "      <th>19</th>\n",
       "      <td>ads18_drinkbinge</td>\n",
       "      <td>36.773879</td>\n",
       "      <td>1.326557e-09</td>\n",
       "    </tr>\n",
       "    <tr>\n",
       "      <th>20</th>\n",
       "      <td>ads18_veteran</td>\n",
       "      <td>25.577491</td>\n",
       "      <td>4.249679e-07</td>\n",
       "    </tr>\n",
       "    <tr>\n",
       "      <th>21</th>\n",
       "      <td>ads18_white</td>\n",
       "      <td>7.936891</td>\n",
       "      <td>4.843697e-03</td>\n",
       "    </tr>\n",
       "    <tr>\n",
       "      <th>22</th>\n",
       "      <td>ads18_asthma</td>\n",
       "      <td>7.928228</td>\n",
       "      <td>4.866945e-03</td>\n",
       "    </tr>\n",
       "    <tr>\n",
       "      <th>23</th>\n",
       "      <td>ads18_affordDoc</td>\n",
       "      <td>2.715127</td>\n",
       "      <td>9.940105e-02</td>\n",
       "    </tr>\n",
       "    <tr>\n",
       "      <th>24</th>\n",
       "      <td>ads18_healthCov</td>\n",
       "      <td>2.114727</td>\n",
       "      <td>1.458881e-01</td>\n",
       "    </tr>\n",
       "    <tr>\n",
       "      <th>25</th>\n",
       "      <td>ads18_obese</td>\n",
       "      <td>0.812420</td>\n",
       "      <td>3.674058e-01</td>\n",
       "    </tr>\n",
       "    <tr>\n",
       "      <th>26</th>\n",
       "      <td>ads18_seatbelt</td>\n",
       "      <td>0.553124</td>\n",
       "      <td>4.570442e-01</td>\n",
       "    </tr>\n",
       "    <tr>\n",
       "      <th>27</th>\n",
       "      <td>ads18_hivtest</td>\n",
       "      <td>0.248292</td>\n",
       "      <td>6.182803e-01</td>\n",
       "    </tr>\n",
       "  </tbody>\n",
       "</table>\n",
       "</div>"
      ],
      "text/plain": [
       "                     Variable           Chi        P_value\n",
       "0                ads18_weight  47810.289410   0.000000e+00\n",
       "1           ads18_fruitIntake  12152.722525   0.000000e+00\n",
       "2              ads18_age18_25   3908.331990   0.000000e+00\n",
       "3             ads18_vegIntake   1264.437342  6.047396e-277\n",
       "4               ads18_older40    646.877423  1.067119e-142\n",
       "5          ads18_potatoIntake    606.094508  7.910539e-134\n",
       "6                ads18_income    405.922157   2.829951e-90\n",
       "7                ads18_highBP    201.154078   1.169472e-45\n",
       "8            ads18_unknownChl    200.688173   1.477945e-45\n",
       "9              ads18_age25_30    192.920787   7.325061e-44\n",
       "10              ads18_highChl    126.998584   1.859061e-29\n",
       "11         ads18_formerasthma    106.595926   5.458531e-25\n",
       "12  ads18_frequentHealthIssue    100.518240   1.173116e-23\n",
       "13             ads18_exercise    100.357060   1.272573e-23\n",
       "14                  ads18_edu     96.749689   7.866996e-23\n",
       "15                 ads18_male     90.517448   1.833529e-21\n",
       "16               ads18_stroke     78.681162   7.298828e-19\n",
       "17           ads18_drinkdaily     70.575900   4.428946e-17\n",
       "18            ads18_havechild     37.940828   7.292311e-10\n",
       "19           ads18_drinkbinge     36.773879   1.326557e-09\n",
       "20              ads18_veteran     25.577491   4.249679e-07\n",
       "21                ads18_white      7.936891   4.843697e-03\n",
       "22               ads18_asthma      7.928228   4.866945e-03\n",
       "23            ads18_affordDoc      2.715127   9.940105e-02\n",
       "24            ads18_healthCov      2.114727   1.458881e-01\n",
       "25                ads18_obese      0.812420   3.674058e-01\n",
       "26             ads18_seatbelt      0.553124   4.570442e-01\n",
       "27              ads18_hivtest      0.248292   6.182803e-01"
      ]
     },
     "execution_count": 112,
     "metadata": {},
     "output_type": "execute_result"
    }
   ],
   "source": [
    "performChiSquareDependencyTest(cleandf,'label')"
   ]
  },
  {
   "cell_type": "code",
   "execution_count": null,
   "metadata": {},
   "outputs": [],
   "source": []
  }
 ],
 "metadata": {
  "kernelspec": {
   "display_name": "Python 3",
   "language": "python",
   "name": "python3"
  },
  "language_info": {
   "codemirror_mode": {
    "name": "ipython",
    "version": 3
   },
   "file_extension": ".py",
   "mimetype": "text/x-python",
   "name": "python",
   "nbconvert_exporter": "python",
   "pygments_lexer": "ipython3",
   "version": "3.6.5"
  }
 },
 "nbformat": 4,
 "nbformat_minor": 2
}
